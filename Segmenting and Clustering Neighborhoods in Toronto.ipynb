{
 "cells": [
  {
   "cell_type": "markdown",
   "metadata": {},
   "source": [
    "# Segmenting and Clustering Neighborhoods in Toronto"
   ]
  },
  {
   "cell_type": "markdown",
   "metadata": {},
   "source": [
    "- Using Julia to perform web scraping and create DataFrame\n",
    "- Calling folium and other Python libraries via PyCall"
   ]
  },
  {
   "cell_type": "code",
   "execution_count": 152,
   "metadata": {},
   "outputs": [],
   "source": [
    "using HTTP, JSON3\n",
    "using DataFrames, CSV\n",
    "using Plots, PlotThemes\n",
    "using Pkg, PyCall, Conda\n",
    "using StatsBase, Flux"
   ]
  },
  {
   "cell_type": "code",
   "execution_count": 147,
   "metadata": {
    "scrolled": true
   },
   "outputs": [],
   "source": [
    "using OpenStreetMapX\n",
    "using OpenStreetMapXPlot\n",
    "using ScikitLearn\n",
    "using Cascadia, Gumbo\n",
    "using Clustering\n",
    "using CategoricalArrays"
   ]
  },
  {
   "cell_type": "code",
   "execution_count": 37,
   "metadata": {},
   "outputs": [
    {
     "data": {
      "image/svg+xml": [
       "<?xml version\"1.0\" encoding=\"UTF-8\"?>\n",
       "<!DOCTYPE svg PUBLIC \"-//W3C//DTD SVG 1.1//EN\"\n",
       " \"http://www.w3.org/Graphics/SVG/1.1/DTD/svg11.dtd\">\n",
       "<svg xmlns=\"http://www.w3.org/2000/svg\" version=\"1.1\"\n",
       "     width=\"149.0mm\" height=\"5.5mm\"\n",
       "     shape-rendering=\"crispEdges\">\n",
       "<text x=\"129.0mm\" y=\"3.8mm\" font-size=\"3mm\">prism</text><rect x=\"0.0mm\" y=\"0.0mm\" width=\"0.5mm\" height=\"5mm\" fill=\"#FF0000\" stroke=\"none\" /><rect x=\"0.5mm\" y=\"0.0mm\" width=\"0.5mm\" height=\"5mm\" fill=\"#FF0000\" stroke=\"none\" /><rect x=\"1.0mm\" y=\"0.0mm\" width=\"0.5mm\" height=\"5mm\" fill=\"#FF2100\" stroke=\"none\" /><rect x=\"1.5mm\" y=\"0.0mm\" width=\"0.5mm\" height=\"5mm\" fill=\"#FF5200\" stroke=\"none\" /><rect x=\"2.0mm\" y=\"0.0mm\" width=\"0.5mm\" height=\"5mm\" fill=\"#FF8200\" stroke=\"none\" /><rect x=\"2.5mm\" y=\"0.0mm\" width=\"0.5mm\" height=\"5mm\" fill=\"#FFB000\" stroke=\"none\" /><rect x=\"3.0mm\" y=\"0.0mm\" width=\"0.5mm\" height=\"5mm\" fill=\"#FFD800\" stroke=\"none\" /><rect x=\"3.5mm\" y=\"0.0mm\" width=\"0.5mm\" height=\"5mm\" fill=\"#FFF700\" stroke=\"none\" /><rect x=\"4.0mm\" y=\"0.0mm\" width=\"0.5mm\" height=\"5mm\" fill=\"#E3FF00\" stroke=\"none\" /><rect x=\"4.5mm\" y=\"0.0mm\" width=\"0.5mm\" height=\"5mm\" fill=\"#B2FF00\" stroke=\"none\" /><rect x=\"5.0mm\" y=\"0.0mm\" width=\"0.5mm\" height=\"5mm\" fill=\"#81FF00\" stroke=\"none\" /><rect x=\"5.5mm\" y=\"0.0mm\" width=\"0.5mm\" height=\"5mm\" fill=\"#53FE00\" stroke=\"none\" /><rect x=\"6.0mm\" y=\"0.0mm\" width=\"0.5mm\" height=\"5mm\" fill=\"#2BE200\" stroke=\"none\" /><rect x=\"6.5mm\" y=\"0.0mm\" width=\"0.5mm\" height=\"5mm\" fill=\"#0BBD39\" stroke=\"none\" /><rect x=\"7.0mm\" y=\"0.0mm\" width=\"0.5mm\" height=\"5mm\" fill=\"#00917D\" stroke=\"none\" /><rect x=\"7.5mm\" y=\"0.0mm\" width=\"0.5mm\" height=\"5mm\" fill=\"#0061B9\" stroke=\"none\" /><rect x=\"8.0mm\" y=\"0.0mm\" width=\"0.5mm\" height=\"5mm\" fill=\"#0030E9\" stroke=\"none\" /><rect x=\"8.5mm\" y=\"0.0mm\" width=\"0.5mm\" height=\"5mm\" fill=\"#0001FF\" stroke=\"none\" /><rect x=\"9.0mm\" y=\"0.0mm\" width=\"0.5mm\" height=\"5mm\" fill=\"#1A00FF\" stroke=\"none\" /><rect x=\"9.5mm\" y=\"0.0mm\" width=\"0.5mm\" height=\"5mm\" fill=\"#3E00FF\" stroke=\"none\" /><rect x=\"10.0mm\" y=\"0.0mm\" width=\"0.5mm\" height=\"5mm\" fill=\"#6A00FE\" stroke=\"none\" /><rect x=\"10.5mm\" y=\"0.0mm\" width=\"0.5mm\" height=\"5mm\" fill=\"#9A00D7\" stroke=\"none\" /><rect x=\"11.0mm\" y=\"0.0mm\" width=\"0.5mm\" height=\"5mm\" fill=\"#CB00A3\" stroke=\"none\" /><rect x=\"11.5mm\" y=\"0.0mm\" width=\"0.5mm\" height=\"5mm\" fill=\"#FA0063\" stroke=\"none\" /><rect x=\"12.0mm\" y=\"0.0mm\" width=\"0.5mm\" height=\"5mm\" fill=\"#FF001D\" stroke=\"none\" /><rect x=\"12.5mm\" y=\"0.0mm\" width=\"0.5mm\" height=\"5mm\" fill=\"#FF0000\" stroke=\"none\" /><rect x=\"13.0mm\" y=\"0.0mm\" width=\"0.5mm\" height=\"5mm\" fill=\"#FF0E00\" stroke=\"none\" /><rect x=\"13.5mm\" y=\"0.0mm\" width=\"0.5mm\" height=\"5mm\" fill=\"#FF3E00\" stroke=\"none\" /><rect x=\"14.0mm\" y=\"0.0mm\" width=\"0.5mm\" height=\"5mm\" fill=\"#FF6F00\" stroke=\"none\" /><rect x=\"14.5mm\" y=\"0.0mm\" width=\"0.5mm\" height=\"5mm\" fill=\"#FF9E00\" stroke=\"none\" /><rect x=\"15.0mm\" y=\"0.0mm\" width=\"0.5mm\" height=\"5mm\" fill=\"#FFC900\" stroke=\"none\" /><rect x=\"15.5mm\" y=\"0.0mm\" width=\"0.5mm\" height=\"5mm\" fill=\"#FFEC00\" stroke=\"none\" /><rect x=\"16.0mm\" y=\"0.0mm\" width=\"0.5mm\" height=\"5mm\" fill=\"#F5FF00\" stroke=\"none\" /><rect x=\"16.5mm\" y=\"0.0mm\" width=\"0.5mm\" height=\"5mm\" fill=\"#C6FF00\" stroke=\"none\" /><rect x=\"17.0mm\" y=\"0.0mm\" width=\"0.5mm\" height=\"5mm\" fill=\"#95FF00\" stroke=\"none\" /><rect x=\"17.5mm\" y=\"0.0mm\" width=\"0.5mm\" height=\"5mm\" fill=\"#65FF00\" stroke=\"none\" /><rect x=\"18.0mm\" y=\"0.0mm\" width=\"0.5mm\" height=\"5mm\" fill=\"#3AEF00\" stroke=\"none\" /><rect x=\"18.5mm\" y=\"0.0mm\" width=\"0.5mm\" height=\"5mm\" fill=\"#17CD1D\" stroke=\"none\" /><rect x=\"19.0mm\" y=\"0.0mm\" width=\"0.5mm\" height=\"5mm\" fill=\"#00A363\" stroke=\"none\" /><rect x=\"19.5mm\" y=\"0.0mm\" width=\"0.5mm\" height=\"5mm\" fill=\"#0074A2\" stroke=\"none\" /><rect x=\"20.0mm\" y=\"0.0mm\" width=\"0.5mm\" height=\"5mm\" fill=\"#0043D7\" stroke=\"none\" /><rect x=\"20.5mm\" y=\"0.0mm\" width=\"0.5mm\" height=\"5mm\" fill=\"#0013FE\" stroke=\"none\" /><rect x=\"21.0mm\" y=\"0.0mm\" width=\"0.5mm\" height=\"5mm\" fill=\"#0D00FF\" stroke=\"none\" /><rect x=\"21.5mm\" y=\"0.0mm\" width=\"0.5mm\" height=\"5mm\" fill=\"#2E00FF\" stroke=\"none\" /><rect x=\"22.0mm\" y=\"0.0mm\" width=\"0.5mm\" height=\"5mm\" fill=\"#5700FF\" stroke=\"none\" /><rect x=\"22.5mm\" y=\"0.0mm\" width=\"0.5mm\" height=\"5mm\" fill=\"#8600E9\" stroke=\"none\" /><rect x=\"23.0mm\" y=\"0.0mm\" width=\"0.5mm\" height=\"5mm\" fill=\"#B700B9\" stroke=\"none\" /><rect x=\"23.5mm\" y=\"0.0mm\" width=\"0.5mm\" height=\"5mm\" fill=\"#E7007E\" stroke=\"none\" /><rect x=\"24.0mm\" y=\"0.0mm\" width=\"0.5mm\" height=\"5mm\" fill=\"#FF003A\" stroke=\"none\" /><rect x=\"24.5mm\" y=\"0.0mm\" width=\"0.5mm\" height=\"5mm\" fill=\"#FF0000\" stroke=\"none\" /><rect x=\"25.0mm\" y=\"0.0mm\" width=\"0.5mm\" height=\"5mm\" fill=\"#FF0000\" stroke=\"none\" /><rect x=\"25.5mm\" y=\"0.0mm\" width=\"0.5mm\" height=\"5mm\" fill=\"#FF2A00\" stroke=\"none\" /><rect x=\"26.0mm\" y=\"0.0mm\" width=\"0.5mm\" height=\"5mm\" fill=\"#FF5B00\" stroke=\"none\" /><rect x=\"26.5mm\" y=\"0.0mm\" width=\"0.5mm\" height=\"5mm\" fill=\"#FF8C00\" stroke=\"none\" /><rect x=\"27.0mm\" y=\"0.0mm\" width=\"0.5mm\" height=\"5mm\" fill=\"#FFB900\" stroke=\"none\" /><rect x=\"27.5mm\" y=\"0.0mm\" width=\"0.5mm\" height=\"5mm\" fill=\"#FFDF00\" stroke=\"none\" /><rect x=\"28.0mm\" y=\"0.0mm\" width=\"0.5mm\" height=\"5mm\" fill=\"#FFFC00\" stroke=\"none\" /><rect x=\"28.5mm\" y=\"0.0mm\" width=\"0.5mm\" height=\"5mm\" fill=\"#D9FF00\" stroke=\"none\" /><rect x=\"29.0mm\" y=\"0.0mm\" width=\"0.5mm\" height=\"5mm\" fill=\"#A9FF00\" stroke=\"none\" /><rect x=\"29.5mm\" y=\"0.0mm\" width=\"0.5mm\" height=\"5mm\" fill=\"#78FF00\" stroke=\"none\" /><rect x=\"30.0mm\" y=\"0.0mm\" width=\"0.5mm\" height=\"5mm\" fill=\"#4BF900\" stroke=\"none\" /><rect x=\"30.5mm\" y=\"0.0mm\" width=\"0.5mm\" height=\"5mm\" fill=\"#24DC00\" stroke=\"none\" /><rect x=\"31.0mm\" y=\"0.0mm\" width=\"0.5mm\" height=\"5mm\" fill=\"#06B547\" stroke=\"none\" /><rect x=\"31.5mm\" y=\"0.0mm\" width=\"0.5mm\" height=\"5mm\" fill=\"#00878A\" stroke=\"none\" /><rect x=\"32.0mm\" y=\"0.0mm\" width=\"0.5mm\" height=\"5mm\" fill=\"#0057C4\" stroke=\"none\" /><rect x=\"32.5mm\" y=\"0.0mm\" width=\"0.5mm\" height=\"5mm\" fill=\"#0026F0\" stroke=\"none\" /><rect x=\"33.0mm\" y=\"0.0mm\" width=\"0.5mm\" height=\"5mm\" fill=\"#0300FF\" stroke=\"none\" /><rect x=\"33.5mm\" y=\"0.0mm\" width=\"0.5mm\" height=\"5mm\" fill=\"#2000FF\" stroke=\"none\" /><rect x=\"34.0mm\" y=\"0.0mm\" width=\"0.5mm\" height=\"5mm\" fill=\"#4600FF\" stroke=\"none\" /><rect x=\"34.5mm\" y=\"0.0mm\" width=\"0.5mm\" height=\"5mm\" fill=\"#7300F8\" stroke=\"none\" /><rect x=\"35.0mm\" y=\"0.0mm\" width=\"0.5mm\" height=\"5mm\" fill=\"#A300CE\" stroke=\"none\" /><rect x=\"35.5mm\" y=\"0.0mm\" width=\"0.5mm\" height=\"5mm\" fill=\"#D40097\" stroke=\"none\" /><rect x=\"36.0mm\" y=\"0.0mm\" width=\"0.5mm\" height=\"5mm\" fill=\"#FF0056\" stroke=\"none\" /><rect x=\"36.5mm\" y=\"0.0mm\" width=\"0.5mm\" height=\"5mm\" fill=\"#FF000F\" stroke=\"none\" /><rect x=\"37.0mm\" y=\"0.0mm\" width=\"0.5mm\" height=\"5mm\" fill=\"#FF0000\" stroke=\"none\" /><rect x=\"37.5mm\" y=\"0.0mm\" width=\"0.5mm\" height=\"5mm\" fill=\"#FF1700\" stroke=\"none\" /><rect x=\"38.0mm\" y=\"0.0mm\" width=\"0.5mm\" height=\"5mm\" fill=\"#FF4800\" stroke=\"none\" /><rect x=\"38.5mm\" y=\"0.0mm\" width=\"0.5mm\" height=\"5mm\" fill=\"#FF7900\" stroke=\"none\" /><rect x=\"39.0mm\" y=\"0.0mm\" width=\"0.5mm\" height=\"5mm\" fill=\"#FFA700\" stroke=\"none\" /><rect x=\"39.5mm\" y=\"0.0mm\" width=\"0.5mm\" height=\"5mm\" fill=\"#FFD000\" stroke=\"none\" /><rect x=\"40.0mm\" y=\"0.0mm\" width=\"0.5mm\" height=\"5mm\" fill=\"#FFF100\" stroke=\"none\" /><rect x=\"40.5mm\" y=\"0.0mm\" width=\"0.5mm\" height=\"5mm\" fill=\"#ECFF00\" stroke=\"none\" /><rect x=\"41.0mm\" y=\"0.0mm\" width=\"0.5mm\" height=\"5mm\" fill=\"#BCFF00\" stroke=\"none\" /><rect x=\"41.5mm\" y=\"0.0mm\" width=\"0.5mm\" height=\"5mm\" fill=\"#8BFF00\" stroke=\"none\" /><rect x=\"42.0mm\" y=\"0.0mm\" width=\"0.5mm\" height=\"5mm\" fill=\"#5CFF00\" stroke=\"none\" /><rect x=\"42.5mm\" y=\"0.0mm\" width=\"0.5mm\" height=\"5mm\" fill=\"#32E900\" stroke=\"none\" /><rect x=\"43.0mm\" y=\"0.0mm\" width=\"0.5mm\" height=\"5mm\" fill=\"#11C52B\" stroke=\"none\" /><rect x=\"43.5mm\" y=\"0.0mm\" width=\"0.5mm\" height=\"5mm\" fill=\"#009A70\" stroke=\"none\" /><rect x=\"44.0mm\" y=\"0.0mm\" width=\"0.5mm\" height=\"5mm\" fill=\"#006BAE\" stroke=\"none\" /><rect x=\"44.5mm\" y=\"0.0mm\" width=\"0.5mm\" height=\"5mm\" fill=\"#0039E0\" stroke=\"none\" /><rect x=\"45.0mm\" y=\"0.0mm\" width=\"0.5mm\" height=\"5mm\" fill=\"#000AFF\" stroke=\"none\" /><rect x=\"45.5mm\" y=\"0.0mm\" width=\"0.5mm\" height=\"5mm\" fill=\"#1300FF\" stroke=\"none\" /><rect x=\"46.0mm\" y=\"0.0mm\" width=\"0.5mm\" height=\"5mm\" fill=\"#3600FF\" stroke=\"none\" /><rect x=\"46.5mm\" y=\"0.0mm\" width=\"0.5mm\" height=\"5mm\" fill=\"#6000FF\" stroke=\"none\" /><rect x=\"47.0mm\" y=\"0.0mm\" width=\"0.5mm\" height=\"5mm\" fill=\"#8F00E1\" stroke=\"none\" /><rect x=\"47.5mm\" y=\"0.0mm\" width=\"0.5mm\" height=\"5mm\" fill=\"#C100AF\" stroke=\"none\" /><rect x=\"48.0mm\" y=\"0.0mm\" width=\"0.5mm\" height=\"5mm\" fill=\"#F00071\" stroke=\"none\" /><rect x=\"48.5mm\" y=\"0.0mm\" width=\"0.5mm\" height=\"5mm\" fill=\"#FF002C\" stroke=\"none\" /><rect x=\"49.0mm\" y=\"0.0mm\" width=\"0.5mm\" height=\"5mm\" fill=\"#FF0000\" stroke=\"none\" /><rect x=\"49.5mm\" y=\"0.0mm\" width=\"0.5mm\" height=\"5mm\" fill=\"#FF0500\" stroke=\"none\" /><rect x=\"50.0mm\" y=\"0.0mm\" width=\"0.5mm\" height=\"5mm\" fill=\"#FF3400\" stroke=\"none\" /><rect x=\"50.5mm\" y=\"0.0mm\" width=\"0.5mm\" height=\"5mm\" fill=\"#FF6500\" stroke=\"none\" /><rect x=\"51.0mm\" y=\"0.0mm\" width=\"0.5mm\" height=\"5mm\" fill=\"#FF9500\" stroke=\"none\" /><rect x=\"51.5mm\" y=\"0.0mm\" width=\"0.5mm\" height=\"5mm\" fill=\"#FFC100\" stroke=\"none\" /><rect x=\"52.0mm\" y=\"0.0mm\" width=\"0.5mm\" height=\"5mm\" fill=\"#FFE500\" stroke=\"none\" /><rect x=\"52.5mm\" y=\"0.0mm\" width=\"0.5mm\" height=\"5mm\" fill=\"#FFFF00\" stroke=\"none\" /><rect x=\"53.0mm\" y=\"0.0mm\" width=\"0.5mm\" height=\"5mm\" fill=\"#D0FF00\" stroke=\"none\" /><rect x=\"53.5mm\" y=\"0.0mm\" width=\"0.5mm\" height=\"5mm\" fill=\"#9FFF00\" stroke=\"none\" /><rect x=\"54.0mm\" y=\"0.0mm\" width=\"0.5mm\" height=\"5mm\" fill=\"#6FFF00\" stroke=\"none\" /><rect x=\"54.5mm\" y=\"0.0mm\" width=\"0.5mm\" height=\"5mm\" fill=\"#42F400\" stroke=\"none\" /><rect x=\"55.0mm\" y=\"0.0mm\" width=\"0.5mm\" height=\"5mm\" fill=\"#1DD50E\" stroke=\"none\" /><rect x=\"55.5mm\" y=\"0.0mm\" width=\"0.5mm\" height=\"5mm\" fill=\"#01AC55\" stroke=\"none\" /><rect x=\"56.0mm\" y=\"0.0mm\" width=\"0.5mm\" height=\"5mm\" fill=\"#007E96\" stroke=\"none\" /><rect x=\"56.5mm\" y=\"0.0mm\" width=\"0.5mm\" height=\"5mm\" fill=\"#004DCD\" stroke=\"none\" /><rect x=\"57.0mm\" y=\"0.0mm\" width=\"0.5mm\" height=\"5mm\" fill=\"#001DF7\" stroke=\"none\" /><rect x=\"57.5mm\" y=\"0.0mm\" width=\"0.5mm\" height=\"5mm\" fill=\"#0800FF\" stroke=\"none\" /><rect x=\"58.0mm\" y=\"0.0mm\" width=\"0.5mm\" height=\"5mm\" fill=\"#2700FF\" stroke=\"none\" /><rect x=\"58.5mm\" y=\"0.0mm\" width=\"0.5mm\" height=\"5mm\" fill=\"#4E00FF\" stroke=\"none\" /><rect x=\"59.0mm\" y=\"0.0mm\" width=\"0.5mm\" height=\"5mm\" fill=\"#7C00F1\" stroke=\"none\" /><rect x=\"59.5mm\" y=\"0.0mm\" width=\"0.5mm\" height=\"5mm\" fill=\"#AD00C4\" stroke=\"none\" /><rect x=\"60.0mm\" y=\"0.0mm\" width=\"0.5mm\" height=\"5mm\" fill=\"#DD008B\" stroke=\"none\" /><rect x=\"60.5mm\" y=\"0.0mm\" width=\"0.5mm\" height=\"5mm\" fill=\"#FF0048\" stroke=\"none\" /><rect x=\"61.0mm\" y=\"0.0mm\" width=\"0.5mm\" height=\"5mm\" fill=\"#FF0001\" stroke=\"none\" /><rect x=\"61.5mm\" y=\"0.0mm\" width=\"0.5mm\" height=\"5mm\" fill=\"#FF0000\" stroke=\"none\" /><rect x=\"62.0mm\" y=\"0.0mm\" width=\"0.5mm\" height=\"5mm\" fill=\"#FF2100\" stroke=\"none\" /><rect x=\"62.5mm\" y=\"0.0mm\" width=\"0.5mm\" height=\"5mm\" fill=\"#FF5100\" stroke=\"none\" /><rect x=\"63.0mm\" y=\"0.0mm\" width=\"0.5mm\" height=\"5mm\" fill=\"#FF8200\" stroke=\"none\" /><rect x=\"63.5mm\" y=\"0.0mm\" width=\"0.5mm\" height=\"5mm\" fill=\"#FFB000\" stroke=\"none\" /><rect x=\"64.0mm\" y=\"0.0mm\" width=\"0.5mm\" height=\"5mm\" fill=\"#FFD700\" stroke=\"none\" /><rect x=\"64.5mm\" y=\"0.0mm\" width=\"0.5mm\" height=\"5mm\" fill=\"#FFF700\" stroke=\"none\" /><rect x=\"65.0mm\" y=\"0.0mm\" width=\"0.5mm\" height=\"5mm\" fill=\"#E3FF00\" stroke=\"none\" /><rect x=\"65.5mm\" y=\"0.0mm\" width=\"0.5mm\" height=\"5mm\" fill=\"#B3FF00\" stroke=\"none\" /><rect x=\"66.0mm\" y=\"0.0mm\" width=\"0.5mm\" height=\"5mm\" fill=\"#82FF00\" stroke=\"none\" /><rect x=\"66.5mm\" y=\"0.0mm\" width=\"0.5mm\" height=\"5mm\" fill=\"#54FE00\" stroke=\"none\" /><rect x=\"67.0mm\" y=\"0.0mm\" width=\"0.5mm\" height=\"5mm\" fill=\"#2BE300\" stroke=\"none\" /><rect x=\"67.5mm\" y=\"0.0mm\" width=\"0.5mm\" height=\"5mm\" fill=\"#0BBD39\" stroke=\"none\" /><rect x=\"68.0mm\" y=\"0.0mm\" width=\"0.5mm\" height=\"5mm\" fill=\"#00917D\" stroke=\"none\" /><rect x=\"68.5mm\" y=\"0.0mm\" width=\"0.5mm\" height=\"5mm\" fill=\"#0061B9\" stroke=\"none\" /><rect x=\"69.0mm\" y=\"0.0mm\" width=\"0.5mm\" height=\"5mm\" fill=\"#0030E8\" stroke=\"none\" /><rect x=\"69.5mm\" y=\"0.0mm\" width=\"0.5mm\" height=\"5mm\" fill=\"#0001FF\" stroke=\"none\" /><rect x=\"70.0mm\" y=\"0.0mm\" width=\"0.5mm\" height=\"5mm\" fill=\"#1900FF\" stroke=\"none\" /><rect x=\"70.5mm\" y=\"0.0mm\" width=\"0.5mm\" height=\"5mm\" fill=\"#3E00FF\" stroke=\"none\" /><rect x=\"71.0mm\" y=\"0.0mm\" width=\"0.5mm\" height=\"5mm\" fill=\"#6900FE\" stroke=\"none\" /><rect x=\"71.5mm\" y=\"0.0mm\" width=\"0.5mm\" height=\"5mm\" fill=\"#9900D8\" stroke=\"none\" /><rect x=\"72.0mm\" y=\"0.0mm\" width=\"0.5mm\" height=\"5mm\" fill=\"#CA00A3\" stroke=\"none\" /><rect x=\"72.5mm\" y=\"0.0mm\" width=\"0.5mm\" height=\"5mm\" fill=\"#F90064\" stroke=\"none\" /><rect x=\"73.0mm\" y=\"0.0mm\" width=\"0.5mm\" height=\"5mm\" fill=\"#FF001E\" stroke=\"none\" /><rect x=\"73.5mm\" y=\"0.0mm\" width=\"0.5mm\" height=\"5mm\" fill=\"#FF0000\" stroke=\"none\" /><rect x=\"74.0mm\" y=\"0.0mm\" width=\"0.5mm\" height=\"5mm\" fill=\"#FF0E00\" stroke=\"none\" /><rect x=\"74.5mm\" y=\"0.0mm\" width=\"0.5mm\" height=\"5mm\" fill=\"#FF3D00\" stroke=\"none\" /><rect x=\"75.0mm\" y=\"0.0mm\" width=\"0.5mm\" height=\"5mm\" fill=\"#FF6F00\" stroke=\"none\" /><rect x=\"75.5mm\" y=\"0.0mm\" width=\"0.5mm\" height=\"5mm\" fill=\"#FF9E00\" stroke=\"none\" /><rect x=\"76.0mm\" y=\"0.0mm\" width=\"0.5mm\" height=\"5mm\" fill=\"#FFC800\" stroke=\"none\" /><rect x=\"76.5mm\" y=\"0.0mm\" width=\"0.5mm\" height=\"5mm\" fill=\"#FFEB00\" stroke=\"none\" /><rect x=\"77.0mm\" y=\"0.0mm\" width=\"0.5mm\" height=\"5mm\" fill=\"#F6FF00\" stroke=\"none\" /><rect x=\"77.5mm\" y=\"0.0mm\" width=\"0.5mm\" height=\"5mm\" fill=\"#C6FF00\" stroke=\"none\" /><rect x=\"78.0mm\" y=\"0.0mm\" width=\"0.5mm\" height=\"5mm\" fill=\"#95FF00\" stroke=\"none\" /><rect x=\"78.5mm\" y=\"0.0mm\" width=\"0.5mm\" height=\"5mm\" fill=\"#66FF00\" stroke=\"none\" /><rect x=\"79.0mm\" y=\"0.0mm\" width=\"0.5mm\" height=\"5mm\" fill=\"#3BEF00\" stroke=\"none\" /><rect x=\"79.5mm\" y=\"0.0mm\" width=\"0.5mm\" height=\"5mm\" fill=\"#17CD1C\" stroke=\"none\" /><rect x=\"80.0mm\" y=\"0.0mm\" width=\"0.5mm\" height=\"5mm\" fill=\"#00A462\" stroke=\"none\" /><rect x=\"80.5mm\" y=\"0.0mm\" width=\"0.5mm\" height=\"5mm\" fill=\"#0075A2\" stroke=\"none\" /><rect x=\"81.0mm\" y=\"0.0mm\" width=\"0.5mm\" height=\"5mm\" fill=\"#0044D7\" stroke=\"none\" /><rect x=\"81.5mm\" y=\"0.0mm\" width=\"0.5mm\" height=\"5mm\" fill=\"#0014FE\" stroke=\"none\" /><rect x=\"82.0mm\" y=\"0.0mm\" width=\"0.5mm\" height=\"5mm\" fill=\"#0D00FF\" stroke=\"none\" /><rect x=\"82.5mm\" y=\"0.0mm\" width=\"0.5mm\" height=\"5mm\" fill=\"#2E00FF\" stroke=\"none\" /><rect x=\"83.0mm\" y=\"0.0mm\" width=\"0.5mm\" height=\"5mm\" fill=\"#5700FF\" stroke=\"none\" /><rect x=\"83.5mm\" y=\"0.0mm\" width=\"0.5mm\" height=\"5mm\" fill=\"#8600E9\" stroke=\"none\" /><rect x=\"84.0mm\" y=\"0.0mm\" width=\"0.5mm\" height=\"5mm\" fill=\"#B700BA\" stroke=\"none\" /><rect x=\"84.5mm\" y=\"0.0mm\" width=\"0.5mm\" height=\"5mm\" fill=\"#E7007E\" stroke=\"none\" /><rect x=\"85.0mm\" y=\"0.0mm\" width=\"0.5mm\" height=\"5mm\" fill=\"#FF003A\" stroke=\"none\" /><rect x=\"85.5mm\" y=\"0.0mm\" width=\"0.5mm\" height=\"5mm\" fill=\"#FF0000\" stroke=\"none\" /><rect x=\"86.0mm\" y=\"0.0mm\" width=\"0.5mm\" height=\"5mm\" fill=\"#FF0000\" stroke=\"none\" /><rect x=\"86.5mm\" y=\"0.0mm\" width=\"0.5mm\" height=\"5mm\" fill=\"#FF2A00\" stroke=\"none\" /><rect x=\"87.0mm\" y=\"0.0mm\" width=\"0.5mm\" height=\"5mm\" fill=\"#FF5B00\" stroke=\"none\" /><rect x=\"87.5mm\" y=\"0.0mm\" width=\"0.5mm\" height=\"5mm\" fill=\"#FF8B00\" stroke=\"none\" /><rect x=\"88.0mm\" y=\"0.0mm\" width=\"0.5mm\" height=\"5mm\" fill=\"#FFB800\" stroke=\"none\" /><rect x=\"88.5mm\" y=\"0.0mm\" width=\"0.5mm\" height=\"5mm\" fill=\"#FFDE00\" stroke=\"none\" /><rect x=\"89.0mm\" y=\"0.0mm\" width=\"0.5mm\" height=\"5mm\" fill=\"#FFFB00\" stroke=\"none\" /><rect x=\"89.5mm\" y=\"0.0mm\" width=\"0.5mm\" height=\"5mm\" fill=\"#DAFF00\" stroke=\"none\" /><rect x=\"90.0mm\" y=\"0.0mm\" width=\"0.5mm\" height=\"5mm\" fill=\"#A9FF00\" stroke=\"none\" /><rect x=\"90.5mm\" y=\"0.0mm\" width=\"0.5mm\" height=\"5mm\" fill=\"#78FF00\" stroke=\"none\" /><rect x=\"91.0mm\" y=\"0.0mm\" width=\"0.5mm\" height=\"5mm\" fill=\"#4BFA00\" stroke=\"none\" /><rect x=\"91.5mm\" y=\"0.0mm\" width=\"0.5mm\" height=\"5mm\" fill=\"#24DC00\" stroke=\"none\" /><rect x=\"92.0mm\" y=\"0.0mm\" width=\"0.5mm\" height=\"5mm\" fill=\"#06B546\" stroke=\"none\" /><rect x=\"92.5mm\" y=\"0.0mm\" width=\"0.5mm\" height=\"5mm\" fill=\"#008889\" stroke=\"none\" /><rect x=\"93.0mm\" y=\"0.0mm\" width=\"0.5mm\" height=\"5mm\" fill=\"#0057C3\" stroke=\"none\" /><rect x=\"93.5mm\" y=\"0.0mm\" width=\"0.5mm\" height=\"5mm\" fill=\"#0027F0\" stroke=\"none\" /><rect x=\"94.0mm\" y=\"0.0mm\" width=\"0.5mm\" height=\"5mm\" fill=\"#0300FF\" stroke=\"none\" /><rect x=\"94.5mm\" y=\"0.0mm\" width=\"0.5mm\" height=\"5mm\" fill=\"#2000FF\" stroke=\"none\" /><rect x=\"95.0mm\" y=\"0.0mm\" width=\"0.5mm\" height=\"5mm\" fill=\"#4600FF\" stroke=\"none\" /><rect x=\"95.5mm\" y=\"0.0mm\" width=\"0.5mm\" height=\"5mm\" fill=\"#7200F8\" stroke=\"none\" /><rect x=\"96.0mm\" y=\"0.0mm\" width=\"0.5mm\" height=\"5mm\" fill=\"#A300CF\" stroke=\"none\" /><rect x=\"96.5mm\" y=\"0.0mm\" width=\"0.5mm\" height=\"5mm\" fill=\"#D40097\" stroke=\"none\" /><rect x=\"97.0mm\" y=\"0.0mm\" width=\"0.5mm\" height=\"5mm\" fill=\"#FF0056\" stroke=\"none\" /><rect x=\"97.5mm\" y=\"0.0mm\" width=\"0.5mm\" height=\"5mm\" fill=\"#FF0010\" stroke=\"none\" /><rect x=\"98.0mm\" y=\"0.0mm\" width=\"0.5mm\" height=\"5mm\" fill=\"#FF0000\" stroke=\"none\" /><rect x=\"98.5mm\" y=\"0.0mm\" width=\"0.5mm\" height=\"5mm\" fill=\"#FF1700\" stroke=\"none\" /><rect x=\"99.0mm\" y=\"0.0mm\" width=\"0.5mm\" height=\"5mm\" fill=\"#FF4700\" stroke=\"none\" /><rect x=\"99.5mm\" y=\"0.0mm\" width=\"0.5mm\" height=\"5mm\" fill=\"#FF7800\" stroke=\"none\" /><rect x=\"100.0mm\" y=\"0.0mm\" width=\"0.5mm\" height=\"5mm\" fill=\"#FFA700\" stroke=\"none\" /><rect x=\"100.5mm\" y=\"0.0mm\" width=\"0.5mm\" height=\"5mm\" fill=\"#FFD000\" stroke=\"none\" /><rect x=\"101.0mm\" y=\"0.0mm\" width=\"0.5mm\" height=\"5mm\" fill=\"#FFF100\" stroke=\"none\" /><rect x=\"101.5mm\" y=\"0.0mm\" width=\"0.5mm\" height=\"5mm\" fill=\"#EDFF00\" stroke=\"none\" /><rect x=\"102.0mm\" y=\"0.0mm\" width=\"0.5mm\" height=\"5mm\" fill=\"#BDFF00\" stroke=\"none\" /><rect x=\"102.5mm\" y=\"0.0mm\" width=\"0.5mm\" height=\"5mm\" fill=\"#8CFF00\" stroke=\"none\" /><rect x=\"103.0mm\" y=\"0.0mm\" width=\"0.5mm\" height=\"5mm\" fill=\"#5DFF00\" stroke=\"none\" /><rect x=\"103.5mm\" y=\"0.0mm\" width=\"0.5mm\" height=\"5mm\" fill=\"#33E900\" stroke=\"none\" /><rect x=\"104.0mm\" y=\"0.0mm\" width=\"0.5mm\" height=\"5mm\" fill=\"#11C62A\" stroke=\"none\" /><rect x=\"104.5mm\" y=\"0.0mm\" width=\"0.5mm\" height=\"5mm\" fill=\"#009B6F\" stroke=\"none\" /><rect x=\"105.0mm\" y=\"0.0mm\" width=\"0.5mm\" height=\"5mm\" fill=\"#006BAD\" stroke=\"none\" /><rect x=\"105.5mm\" y=\"0.0mm\" width=\"0.5mm\" height=\"5mm\" fill=\"#003AE0\" stroke=\"none\" /><rect x=\"106.0mm\" y=\"0.0mm\" width=\"0.5mm\" height=\"5mm\" fill=\"#000BFF\" stroke=\"none\" /><rect x=\"106.5mm\" y=\"0.0mm\" width=\"0.5mm\" height=\"5mm\" fill=\"#1300FF\" stroke=\"none\" /><rect x=\"107.0mm\" y=\"0.0mm\" width=\"0.5mm\" height=\"5mm\" fill=\"#3500FF\" stroke=\"none\" /><rect x=\"107.5mm\" y=\"0.0mm\" width=\"0.5mm\" height=\"5mm\" fill=\"#6000FF\" stroke=\"none\" /><rect x=\"108.0mm\" y=\"0.0mm\" width=\"0.5mm\" height=\"5mm\" fill=\"#8F00E1\" stroke=\"none\" /><rect x=\"108.5mm\" y=\"0.0mm\" width=\"0.5mm\" height=\"5mm\" fill=\"#C000AF\" stroke=\"none\" /><rect x=\"109.0mm\" y=\"0.0mm\" width=\"0.5mm\" height=\"5mm\" fill=\"#F00071\" stroke=\"none\" /><rect x=\"109.5mm\" y=\"0.0mm\" width=\"0.5mm\" height=\"5mm\" fill=\"#FF002C\" stroke=\"none\" /><rect x=\"110.0mm\" y=\"0.0mm\" width=\"0.5mm\" height=\"5mm\" fill=\"#FF0000\" stroke=\"none\" /><rect x=\"110.5mm\" y=\"0.0mm\" width=\"0.5mm\" height=\"5mm\" fill=\"#FF0500\" stroke=\"none\" /><rect x=\"111.0mm\" y=\"0.0mm\" width=\"0.5mm\" height=\"5mm\" fill=\"#FF3300\" stroke=\"none\" /><rect x=\"111.5mm\" y=\"0.0mm\" width=\"0.5mm\" height=\"5mm\" fill=\"#FF6500\" stroke=\"none\" /><rect x=\"112.0mm\" y=\"0.0mm\" width=\"0.5mm\" height=\"5mm\" fill=\"#FF9400\" stroke=\"none\" /><rect x=\"112.5mm\" y=\"0.0mm\" width=\"0.5mm\" height=\"5mm\" fill=\"#FFC000\" stroke=\"none\" /><rect x=\"113.0mm\" y=\"0.0mm\" width=\"0.5mm\" height=\"5mm\" fill=\"#FFE500\" stroke=\"none\" /><rect x=\"113.5mm\" y=\"0.0mm\" width=\"0.5mm\" height=\"5mm\" fill=\"#FFFF00\" stroke=\"none\" /><rect x=\"114.0mm\" y=\"0.0mm\" width=\"0.5mm\" height=\"5mm\" fill=\"#D0FF00\" stroke=\"none\" /><rect x=\"114.5mm\" y=\"0.0mm\" width=\"0.5mm\" height=\"5mm\" fill=\"#9FFF00\" stroke=\"none\" /><rect x=\"115.0mm\" y=\"0.0mm\" width=\"0.5mm\" height=\"5mm\" fill=\"#6FFF00\" stroke=\"none\" /><rect x=\"115.5mm\" y=\"0.0mm\" width=\"0.5mm\" height=\"5mm\" fill=\"#43F500\" stroke=\"none\" /><rect x=\"116.0mm\" y=\"0.0mm\" width=\"0.5mm\" height=\"5mm\" fill=\"#1DD50D\" stroke=\"none\" /><rect x=\"116.5mm\" y=\"0.0mm\" width=\"0.5mm\" height=\"5mm\" fill=\"#01AD54\" stroke=\"none\" /><rect x=\"117.0mm\" y=\"0.0mm\" width=\"0.5mm\" height=\"5mm\" fill=\"#007F95\" stroke=\"none\" /><rect x=\"117.5mm\" y=\"0.0mm\" width=\"0.5mm\" height=\"5mm\" fill=\"#004ECD\" stroke=\"none\" /><rect x=\"118.0mm\" y=\"0.0mm\" width=\"0.5mm\" height=\"5mm\" fill=\"#001DF7\" stroke=\"none\" /><rect x=\"118.5mm\" y=\"0.0mm\" width=\"0.5mm\" height=\"5mm\" fill=\"#0800FF\" stroke=\"none\" /><rect x=\"119.0mm\" y=\"0.0mm\" width=\"0.5mm\" height=\"5mm\" fill=\"#2600FF\" stroke=\"none\" /><rect x=\"119.5mm\" y=\"0.0mm\" width=\"0.5mm\" height=\"5mm\" fill=\"#4E00FF\" stroke=\"none\" /><rect x=\"120.0mm\" y=\"0.0mm\" width=\"0.5mm\" height=\"5mm\" fill=\"#7C00F1\" stroke=\"none\" /><rect x=\"120.5mm\" y=\"0.0mm\" width=\"0.5mm\" height=\"5mm\" fill=\"#AC00C5\" stroke=\"none\" /><rect x=\"121.0mm\" y=\"0.0mm\" width=\"0.5mm\" height=\"5mm\" fill=\"#DD008B\" stroke=\"none\" /><rect x=\"121.5mm\" y=\"0.0mm\" width=\"0.5mm\" height=\"5mm\" fill=\"#FF0049\" stroke=\"none\" /><rect x=\"122.0mm\" y=\"0.0mm\" width=\"0.5mm\" height=\"5mm\" fill=\"#FF0001\" stroke=\"none\" /><rect x=\"122.5mm\" y=\"0.0mm\" width=\"0.5mm\" height=\"5mm\" fill=\"#FF0000\" stroke=\"none\" /><rect x=\"123.0mm\" y=\"0.0mm\" width=\"0.5mm\" height=\"5mm\" fill=\"#FF2000\" stroke=\"none\" /><rect x=\"123.5mm\" y=\"0.0mm\" width=\"0.5mm\" height=\"5mm\" fill=\"#FF5100\" stroke=\"none\" /><rect x=\"124.0mm\" y=\"0.0mm\" width=\"0.5mm\" height=\"5mm\" fill=\"#FF8200\" stroke=\"none\" /><rect x=\"124.5mm\" y=\"0.0mm\" width=\"0.5mm\" height=\"5mm\" fill=\"#FFAF00\" stroke=\"none\" /><rect x=\"125.0mm\" y=\"0.0mm\" width=\"0.5mm\" height=\"5mm\" fill=\"#FFD700\" stroke=\"none\" /><rect x=\"125.5mm\" y=\"0.0mm\" width=\"0.5mm\" height=\"5mm\" fill=\"#FFF600\" stroke=\"none\" /><rect x=\"126.0mm\" y=\"0.0mm\" width=\"0.5mm\" height=\"5mm\" fill=\"#E4FF00\" stroke=\"none\" /><rect x=\"126.5mm\" y=\"0.0mm\" width=\"0.5mm\" height=\"5mm\" fill=\"#B3FF00\" stroke=\"none\" /><rect x=\"127.0mm\" y=\"0.0mm\" width=\"0.5mm\" height=\"5mm\" fill=\"#82FF00\" stroke=\"none\" /><rect x=\"127.5mm\" y=\"0.0mm\" width=\"0.5mm\" height=\"5mm\" fill=\"#54FF00\" stroke=\"none\" /></svg>"
      ],
      "text/plain": [
       "ColorMap \"prism\""
      ]
     },
     "execution_count": 37,
     "metadata": {},
     "output_type": "execute_result"
    }
   ],
   "source": [
    "flm = pyimport(\"folium\")\n",
    "mpl_cm = pyimport(\"matplotlib.cm\")\n",
    "mpl_colors = pyimport(\"matplotlib.colors\")\n",
    "cmap = mpl_cm.get_cmap(\"prism\")"
   ]
  },
  {
   "cell_type": "markdown",
   "metadata": {},
   "source": [
    "## Scraping Toronto Postcode Table"
   ]
  },
  {
   "cell_type": "code",
   "execution_count": 38,
   "metadata": {},
   "outputs": [
    {
     "data": {
      "text/plain": [
       "\"https://en.wikipedia.org/wiki/List_of_postal_codes_of_Canada:_M\""
      ]
     },
     "execution_count": 38,
     "metadata": {},
     "output_type": "execute_result"
    }
   ],
   "source": [
    "# Set our url for M postal codes in Toronto\n",
    "url = \"https://en.wikipedia.org/wiki/List_of_postal_codes_of_Canada:_M\""
   ]
  },
  {
   "cell_type": "code",
   "execution_count": 39,
   "metadata": {},
   "outputs": [],
   "source": [
    "# Grab the page\n",
    "res = HTTP.get(url);"
   ]
  },
  {
   "cell_type": "code",
   "execution_count": 40,
   "metadata": {
    "scrolled": true
   },
   "outputs": [
    {
     "data": {
      "text/plain": [
       "181-element Array{HTMLNode,1}:\n",
       " HTMLElement{:tr}:<tr>\n",
       "  <th>\n",
       "    Postal Code\n",
       "  </th>\n",
       "  <th>\n",
       "    District\n",
       "  </th>\n",
       "  <th>\n",
       "    Neighbourhood\n",
       "  </th>\n",
       "</tr>\n",
       "\n",
       "\n",
       " HTMLElement{:tr}:<tr>\n",
       "  <td>\n",
       "    M1A\n",
       "  </td>\n",
       "  <td>\n",
       "    Not assigned\n",
       "  </td>\n",
       "  <td>\n",
       "    Not assigned\n",
       "  </td>\n",
       "</tr>\n",
       "\n",
       "\n",
       " HTMLElement{:tr}:<tr>\n",
       "  <td>\n",
       "    M2A\n",
       "  </td>\n",
       "  <td>\n",
       "    Not assigned\n",
       "  </td>\n",
       "  <td>\n",
       "    Not assigned\n",
       "  </td>\n",
       "</tr>\n",
       "\n",
       "\n",
       " HTMLElement{:tr}:<tr>\n",
       "  <td>\n",
       "    M3A\n",
       "  </td>\n",
       "  <td>\n",
       "    North York\n",
       "  </td>\n",
       "  <td>\n",
       "    Parkwoods\n",
       "  </td>\n",
       "</tr>\n",
       "\n",
       "\n",
       " HTMLElement{:tr}:<tr>\n",
       "  <td>\n",
       "    M4A\n",
       "  </td>\n",
       "  <td>\n",
       "    North York\n",
       "  </td>\n",
       "  <td>\n",
       "    Victoria Village\n",
       "  </td>\n",
       "</tr>\n",
       "\n",
       "\n",
       " HTMLElement{:tr}:<tr>\n",
       "  <td>\n",
       "    M5A\n",
       "  </td>\n",
       "  <td>\n",
       "    Downtown Toronto\n",
       "  </td>\n",
       "  <td>\n",
       "    Regent Park, Harbourfront\n",
       "  </td>\n",
       "</tr>\n",
       "\n",
       "\n",
       " HTMLElement{:tr}:<tr>\n",
       "  <td>\n",
       "    M6A\n",
       "  </td>\n",
       "  <td>\n",
       "    North York\n",
       "  </td>\n",
       "  <td>\n",
       "    Lawrence Manor, Lawrence Heights\n",
       "  </td>\n",
       "</tr>\n",
       "\n",
       "\n",
       " HTMLElement{:tr}:<tr>\n",
       "  <td>\n",
       "    M7A\n",
       "  </td>\n",
       "  <td>\n",
       "    Downtown Toronto\n",
       "  </td>\n",
       "  <td>\n",
       "    Queen's Park, Ontario Provincial Government\n",
       "  </td>\n",
       "</tr>\n",
       "\n",
       "\n",
       " HTMLElement{:tr}:<tr>\n",
       "  <td>\n",
       "    M8A\n",
       "  </td>\n",
       "  <td>\n",
       "    Not assigned\n",
       "  </td>\n",
       "  <td>\n",
       "    Not assigned\n",
       "  </td>\n",
       "</tr>\n",
       "\n",
       "\n",
       " HTMLElement{:tr}:<tr>\n",
       "  <td>\n",
       "    M9A\n",
       "  </td>\n",
       "  <td>\n",
       "    Etobicoke\n",
       "  </td>\n",
       "  <td>\n",
       "    Islington Avenue, Humber Valley Village\n",
       "  </td>\n",
       "</tr>\n",
       "\n",
       "\n",
       " HTMLElement{:tr}:<tr>\n",
       "  <td>\n",
       "    M1B\n",
       "  </td>\n",
       "  <td>\n",
       "    Scarborough\n",
       "  </td>\n",
       "  <td>\n",
       "    Malvern, Rouge\n",
       "  </td>\n",
       "</tr>\n",
       "\n",
       "\n",
       " HTMLElement{:tr}:<tr>\n",
       "  <td>\n",
       "    M2B\n",
       "  </td>\n",
       "  <td>\n",
       "    Not assigned\n",
       "  </td>\n",
       "  <td>\n",
       "    Not assigned\n",
       "  </td>\n",
       "</tr>\n",
       "\n",
       "\n",
       " HTMLElement{:tr}:<tr>\n",
       "  <td>\n",
       "    M3B\n",
       "  </td>\n",
       "  <td>\n",
       "    North York\n",
       "  </td>\n",
       "  <td>\n",
       "    Don Mills\n",
       "  </td>\n",
       "</tr>\n",
       "\n",
       "\n",
       " ⋮\n",
       " HTMLElement{:tr}:<tr>\n",
       "  <td>\n",
       "    M7Y\n",
       "  </td>\n",
       "  <td>\n",
       "    East Toronto\n",
       "  </td>\n",
       "  <td>\n",
       "    Business reply mail Processing Centre, South Central Letter Processing Plant Toronto\n",
       "  </td>\n",
       "</tr>\n",
       "\n",
       "\n",
       " HTMLElement{:tr}:<tr>\n",
       "  <td>\n",
       "    M8Y\n",
       "  </td>\n",
       "  <td>\n",
       "    Etobicoke\n",
       "  </td>\n",
       "  <td>\n",
       "    Old Mill South, King's Mill Park, Sunnylea, Humber Bay, Mimico NE, The Queensway East, Royal York South East, Kingsway Park South East\n",
       "  </td>\n",
       "</tr>\n",
       "\n",
       "\n",
       " HTMLElement{:tr}:<tr>\n",
       "  <td>\n",
       "    M9Y\n",
       "  </td>\n",
       "  <td>\n",
       "    Not assigned\n",
       "  </td>\n",
       "  <td>\n",
       "    Not assigned\n",
       "  </td>\n",
       "</tr>\n",
       "\n",
       "\n",
       " HTMLElement{:tr}:<tr>\n",
       "  <td>\n",
       "    M1Z\n",
       "  </td>\n",
       "  <td>\n",
       "    Not assigned\n",
       "  </td>\n",
       "  <td>\n",
       "    Not assigned\n",
       "  </td>\n",
       "</tr>\n",
       "\n",
       "\n",
       " HTMLElement{:tr}:<tr>\n",
       "  <td>\n",
       "    M2Z\n",
       "  </td>\n",
       "  <td>\n",
       "    Not assigned\n",
       "  </td>\n",
       "  <td>\n",
       "    Not assigned\n",
       "  </td>\n",
       "</tr>\n",
       "\n",
       "\n",
       " HTMLElement{:tr}:<tr>\n",
       "  <td>\n",
       "    M3Z\n",
       "  </td>\n",
       "  <td>\n",
       "    Not assigned\n",
       "  </td>\n",
       "  <td>\n",
       "    Not assigned\n",
       "  </td>\n",
       "</tr>\n",
       "\n",
       "\n",
       " HTMLElement{:tr}:<tr>\n",
       "  <td>\n",
       "    M4Z\n",
       "  </td>\n",
       "  <td>\n",
       "    Not assigned\n",
       "  </td>\n",
       "  <td>\n",
       "    Not assigned\n",
       "  </td>\n",
       "</tr>\n",
       "\n",
       "\n",
       " HTMLElement{:tr}:<tr>\n",
       "  <td>\n",
       "    M5Z\n",
       "  </td>\n",
       "  <td>\n",
       "    Not assigned\n",
       "  </td>\n",
       "  <td>\n",
       "    Not assigned\n",
       "  </td>\n",
       "</tr>\n",
       "\n",
       "\n",
       " HTMLElement{:tr}:<tr>\n",
       "  <td>\n",
       "    M6Z\n",
       "  </td>\n",
       "  <td>\n",
       "    Not assigned\n",
       "  </td>\n",
       "  <td>\n",
       "    Not assigned\n",
       "  </td>\n",
       "</tr>\n",
       "\n",
       "\n",
       " HTMLElement{:tr}:<tr>\n",
       "  <td>\n",
       "    M7Z\n",
       "  </td>\n",
       "  <td>\n",
       "    Not assigned\n",
       "  </td>\n",
       "  <td>\n",
       "    Not assigned\n",
       "  </td>\n",
       "</tr>\n",
       "\n",
       "\n",
       " HTMLElement{:tr}:<tr>\n",
       "  <td>\n",
       "    M8Z\n",
       "  </td>\n",
       "  <td>\n",
       "    Etobicoke\n",
       "  </td>\n",
       "  <td>\n",
       "    Mimico NW, The Queensway West, South of Bloor, Kingsway Park South West, Royal York South West\n",
       "  </td>\n",
       "</tr>\n",
       "\n",
       "\n",
       " HTMLElement{:tr}:<tr>\n",
       "  <td>\n",
       "    M9Z\n",
       "  </td>\n",
       "  <td>\n",
       "    Not assigned\n",
       "  </td>\n",
       "  <td>\n",
       "    Not assigned\n",
       "  </td>\n",
       "</tr>\n",
       "\n"
      ]
     },
     "execution_count": 40,
     "metadata": {},
     "output_type": "execute_result"
    }
   ],
   "source": [
    "# Parse into HTML\n",
    "body = String(res.body)\n",
    "html = parsehtml(body)\n",
    "table = eachmatch(sel\".wikitable\", html.root)[1]\n",
    "trows = table.children[1].children"
   ]
  },
  {
   "cell_type": "code",
   "execution_count": 41,
   "metadata": {
    "scrolled": true
   },
   "outputs": [],
   "source": [
    "# Extract header\n",
    "header = trows[1]\n",
    "colnames = []\n",
    "for col in header.children\n",
    "    push!(colnames, chomp(col.children[1].text))\n",
    "end"
   ]
  },
  {
   "cell_type": "code",
   "execution_count": 42,
   "metadata": {},
   "outputs": [],
   "source": [
    "# Extract table data\n",
    "postcodes = []\n",
    "boroughs = []\n",
    "neighborhoods = []\n",
    "\n",
    "for row in trows[2:end]\n",
    "    push!(postcodes, chomp(row.children[1].children[1].text))\n",
    "    push!(boroughs, chomp(row.children[2].children[1].text))\n",
    "    push!(neighborhoods, chomp(row.children[3].children[1].text))\n",
    "end"
   ]
  },
  {
   "cell_type": "code",
   "execution_count": 43,
   "metadata": {},
   "outputs": [
    {
     "data": {
      "text/html": [
       "<table class=\"data-frame\"><thead><tr><th></th><th>Postal Code</th><th>District</th><th>Neighbourhood</th></tr><tr><th></th><th>Any</th><th>Any</th><th>Any</th></tr></thead><tbody><p>103 rows × 3 columns</p><tr><th>1</th><td>M3A</td><td>North York</td><td>Parkwoods</td></tr><tr><th>2</th><td>M4A</td><td>North York</td><td>Victoria Village</td></tr><tr><th>3</th><td>M5A</td><td>Downtown Toronto</td><td>Regent Park, Harbourfront</td></tr><tr><th>4</th><td>M6A</td><td>North York</td><td>Lawrence Manor, Lawrence Heights</td></tr><tr><th>5</th><td>M7A</td><td>Downtown Toronto</td><td>Queen's Park, Ontario Provincial Government</td></tr><tr><th>6</th><td>M9A</td><td>Etobicoke</td><td>Islington Avenue, Humber Valley Village</td></tr><tr><th>7</th><td>M1B</td><td>Scarborough</td><td>Malvern, Rouge</td></tr><tr><th>8</th><td>M3B</td><td>North York</td><td>Don Mills</td></tr><tr><th>9</th><td>M4B</td><td>East York</td><td>Parkview Hill, Woodbine Gardens</td></tr><tr><th>10</th><td>M5B</td><td>Downtown Toronto</td><td>Garden District, Ryerson</td></tr><tr><th>11</th><td>M6B</td><td>North York</td><td>Glencairn</td></tr><tr><th>12</th><td>M9B</td><td>Etobicoke</td><td>West Deane Park, Princess Gardens, Martin Grove, Islington, Cloverdale</td></tr><tr><th>13</th><td>M1C</td><td>Scarborough</td><td>Rouge Hill, Port Union, Highland Creek</td></tr><tr><th>14</th><td>M3C</td><td>North York</td><td>Don Mills</td></tr><tr><th>15</th><td>M4C</td><td>East York</td><td>Woodbine Heights</td></tr><tr><th>16</th><td>M5C</td><td>Downtown Toronto</td><td>St. James Town</td></tr><tr><th>17</th><td>M6C</td><td>York</td><td>Humewood-Cedarvale</td></tr><tr><th>18</th><td>M9C</td><td>Etobicoke</td><td>Eringate, Bloordale Gardens, Old Burnhamthorpe, Markland Wood</td></tr><tr><th>19</th><td>M1E</td><td>Scarborough</td><td>Guildwood, Morningside, West Hill</td></tr><tr><th>20</th><td>M4E</td><td>East Toronto</td><td>The Beaches</td></tr><tr><th>21</th><td>M5E</td><td>Downtown Toronto</td><td>Berczy Park</td></tr><tr><th>22</th><td>M6E</td><td>York</td><td>Caledonia-Fairbanks</td></tr><tr><th>23</th><td>M1G</td><td>Scarborough</td><td>Woburn</td></tr><tr><th>24</th><td>M4G</td><td>East York</td><td>Leaside</td></tr><tr><th>25</th><td>M5G</td><td>Downtown Toronto</td><td>Central Bay Street</td></tr><tr><th>26</th><td>M6G</td><td>Downtown Toronto</td><td>Christie</td></tr><tr><th>27</th><td>M1H</td><td>Scarborough</td><td>Cedarbrae</td></tr><tr><th>28</th><td>M2H</td><td>North York</td><td>Hillcrest Village</td></tr><tr><th>29</th><td>M3H</td><td>North York</td><td>Bathurst Manor, Wilson Heights, Downsview North</td></tr><tr><th>30</th><td>M4H</td><td>East York</td><td>Thorncliffe Park</td></tr><tr><th>&vellip;</th><td>&vellip;</td><td>&vellip;</td><td>&vellip;</td></tr></tbody></table>"
      ],
      "text/latex": [
       "\\begin{tabular}{r|ccc}\n",
       "\t& Postal Code & District & Neighbourhood\\\\\n",
       "\t\\hline\n",
       "\t& Any & Any & Any\\\\\n",
       "\t\\hline\n",
       "\t1 & M3A & North York & Parkwoods \\\\\n",
       "\t2 & M4A & North York & Victoria Village \\\\\n",
       "\t3 & M5A & Downtown Toronto & Regent Park, Harbourfront \\\\\n",
       "\t4 & M6A & North York & Lawrence Manor, Lawrence Heights \\\\\n",
       "\t5 & M7A & Downtown Toronto & Queen's Park, Ontario Provincial Government \\\\\n",
       "\t6 & M9A & Etobicoke & Islington Avenue, Humber Valley Village \\\\\n",
       "\t7 & M1B & Scarborough & Malvern, Rouge \\\\\n",
       "\t8 & M3B & North York & Don Mills \\\\\n",
       "\t9 & M4B & East York & Parkview Hill, Woodbine Gardens \\\\\n",
       "\t10 & M5B & Downtown Toronto & Garden District, Ryerson \\\\\n",
       "\t11 & M6B & North York & Glencairn \\\\\n",
       "\t12 & M9B & Etobicoke & West Deane Park, Princess Gardens, Martin Grove, Islington, Cloverdale \\\\\n",
       "\t13 & M1C & Scarborough & Rouge Hill, Port Union, Highland Creek \\\\\n",
       "\t14 & M3C & North York & Don Mills \\\\\n",
       "\t15 & M4C & East York & Woodbine Heights \\\\\n",
       "\t16 & M5C & Downtown Toronto & St. James Town \\\\\n",
       "\t17 & M6C & York & Humewood-Cedarvale \\\\\n",
       "\t18 & M9C & Etobicoke & Eringate, Bloordale Gardens, Old Burnhamthorpe, Markland Wood \\\\\n",
       "\t19 & M1E & Scarborough & Guildwood, Morningside, West Hill \\\\\n",
       "\t20 & M4E & East Toronto & The Beaches \\\\\n",
       "\t21 & M5E & Downtown Toronto & Berczy Park \\\\\n",
       "\t22 & M6E & York & Caledonia-Fairbanks \\\\\n",
       "\t23 & M1G & Scarborough & Woburn \\\\\n",
       "\t24 & M4G & East York & Leaside \\\\\n",
       "\t25 & M5G & Downtown Toronto & Central Bay Street \\\\\n",
       "\t26 & M6G & Downtown Toronto & Christie \\\\\n",
       "\t27 & M1H & Scarborough & Cedarbrae \\\\\n",
       "\t28 & M2H & North York & Hillcrest Village \\\\\n",
       "\t29 & M3H & North York & Bathurst Manor, Wilson Heights, Downsview North \\\\\n",
       "\t30 & M4H & East York & Thorncliffe Park \\\\\n",
       "\t$\\dots$ & $\\dots$ & $\\dots$ & $\\dots$ \\\\\n",
       "\\end{tabular}\n"
      ],
      "text/plain": [
       "103×3 DataFrame. Omitted printing of 1 columns\n",
       "│ Row │ Postal Code │ District         │\n",
       "│     │ \u001b[90mAny\u001b[39m         │ \u001b[90mAny\u001b[39m              │\n",
       "├─────┼─────────────┼──────────────────┤\n",
       "│ 1   │ M3A         │ North York       │\n",
       "│ 2   │ M4A         │ North York       │\n",
       "│ 3   │ M5A         │ Downtown Toronto │\n",
       "│ 4   │ M6A         │ North York       │\n",
       "│ 5   │ M7A         │ Downtown Toronto │\n",
       "│ 6   │ M9A         │ Etobicoke        │\n",
       "│ 7   │ M1B         │ Scarborough      │\n",
       "│ 8   │ M3B         │ North York       │\n",
       "│ 9   │ M4B         │ East York        │\n",
       "│ 10  │ M5B         │ Downtown Toronto │\n",
       "⋮\n",
       "│ 93  │ M5W         │ Downtown Toronto │\n",
       "│ 94  │ M8W         │ Etobicoke        │\n",
       "│ 95  │ M9W         │ Etobicoke        │\n",
       "│ 96  │ M1X         │ Scarborough      │\n",
       "│ 97  │ M4X         │ Downtown Toronto │\n",
       "│ 98  │ M5X         │ Downtown Toronto │\n",
       "│ 99  │ M8X         │ Etobicoke        │\n",
       "│ 100 │ M4Y         │ Downtown Toronto │\n",
       "│ 101 │ M7Y         │ East Toronto     │\n",
       "│ 102 │ M8Y         │ Etobicoke        │\n",
       "│ 103 │ M8Z         │ Etobicoke        │"
      ]
     },
     "execution_count": 43,
     "metadata": {},
     "output_type": "execute_result"
    }
   ],
   "source": [
    "# Create DataFrame, filter out unassigned boroughs\n",
    "df = DataFrame(\n",
    "    colnames[1] => postcodes, \n",
    "    colnames[2] => boroughs, \n",
    "    colnames[3] => neighborhoods\n",
    ")\n",
    "df = df[df[:District] .≠ \"Not assigned\", :]"
   ]
  },
  {
   "cell_type": "code",
   "execution_count": 44,
   "metadata": {
    "scrolled": true
   },
   "outputs": [
    {
     "data": {
      "text/plain": [
       "(103, 3)"
      ]
     },
     "execution_count": 44,
     "metadata": {},
     "output_type": "execute_result"
    }
   ],
   "source": [
    "# Print dataframe dimensions\n",
    "size(df)"
   ]
  },
  {
   "cell_type": "markdown",
   "metadata": {},
   "source": [
    "## Adding Geocoding data\n"
   ]
  },
  {
   "cell_type": "code",
   "execution_count": 45,
   "metadata": {},
   "outputs": [
    {
     "data": {
      "text/html": [
       "<table class=\"data-frame\"><thead><tr><th></th><th>Postal Code</th><th>Latitude</th><th>Longitude</th></tr><tr><th></th><th>String</th><th>Float64</th><th>Float64</th></tr></thead><tbody><p>103 rows × 3 columns</p><tr><th>1</th><td>M1B</td><td>43.8067</td><td>-79.1944</td></tr><tr><th>2</th><td>M1C</td><td>43.7845</td><td>-79.1605</td></tr><tr><th>3</th><td>M1E</td><td>43.7636</td><td>-79.1887</td></tr><tr><th>4</th><td>M1G</td><td>43.771</td><td>-79.2169</td></tr><tr><th>5</th><td>M1H</td><td>43.7731</td><td>-79.2395</td></tr><tr><th>6</th><td>M1J</td><td>43.7447</td><td>-79.2395</td></tr><tr><th>7</th><td>M1K</td><td>43.7279</td><td>-79.262</td></tr><tr><th>8</th><td>M1L</td><td>43.7111</td><td>-79.2846</td></tr><tr><th>9</th><td>M1M</td><td>43.7163</td><td>-79.2395</td></tr><tr><th>10</th><td>M1N</td><td>43.6927</td><td>-79.2648</td></tr><tr><th>11</th><td>M1P</td><td>43.7574</td><td>-79.2733</td></tr><tr><th>12</th><td>M1R</td><td>43.7501</td><td>-79.2958</td></tr><tr><th>13</th><td>M1S</td><td>43.7942</td><td>-79.262</td></tr><tr><th>14</th><td>M1T</td><td>43.7816</td><td>-79.3043</td></tr><tr><th>15</th><td>M1V</td><td>43.8153</td><td>-79.2846</td></tr><tr><th>16</th><td>M1W</td><td>43.7995</td><td>-79.3184</td></tr><tr><th>17</th><td>M1X</td><td>43.8361</td><td>-79.2056</td></tr><tr><th>18</th><td>M2H</td><td>43.8038</td><td>-79.3635</td></tr><tr><th>19</th><td>M2J</td><td>43.7785</td><td>-79.3466</td></tr><tr><th>20</th><td>M2K</td><td>43.7869</td><td>-79.386</td></tr><tr><th>21</th><td>M2L</td><td>43.7575</td><td>-79.3747</td></tr><tr><th>22</th><td>M2M</td><td>43.7891</td><td>-79.4085</td></tr><tr><th>23</th><td>M2N</td><td>43.7701</td><td>-79.4085</td></tr><tr><th>24</th><td>M2P</td><td>43.7528</td><td>-79.4</td></tr><tr><th>25</th><td>M2R</td><td>43.7827</td><td>-79.4423</td></tr><tr><th>26</th><td>M3A</td><td>43.7533</td><td>-79.3297</td></tr><tr><th>27</th><td>M3B</td><td>43.7459</td><td>-79.3522</td></tr><tr><th>28</th><td>M3C</td><td>43.7259</td><td>-79.3409</td></tr><tr><th>29</th><td>M3H</td><td>43.7543</td><td>-79.4423</td></tr><tr><th>30</th><td>M3J</td><td>43.768</td><td>-79.4873</td></tr><tr><th>&vellip;</th><td>&vellip;</td><td>&vellip;</td><td>&vellip;</td></tr></tbody></table>"
      ],
      "text/latex": [
       "\\begin{tabular}{r|ccc}\n",
       "\t& Postal Code & Latitude & Longitude\\\\\n",
       "\t\\hline\n",
       "\t& String & Float64 & Float64\\\\\n",
       "\t\\hline\n",
       "\t1 & M1B & 43.8067 & -79.1944 \\\\\n",
       "\t2 & M1C & 43.7845 & -79.1605 \\\\\n",
       "\t3 & M1E & 43.7636 & -79.1887 \\\\\n",
       "\t4 & M1G & 43.771 & -79.2169 \\\\\n",
       "\t5 & M1H & 43.7731 & -79.2395 \\\\\n",
       "\t6 & M1J & 43.7447 & -79.2395 \\\\\n",
       "\t7 & M1K & 43.7279 & -79.262 \\\\\n",
       "\t8 & M1L & 43.7111 & -79.2846 \\\\\n",
       "\t9 & M1M & 43.7163 & -79.2395 \\\\\n",
       "\t10 & M1N & 43.6927 & -79.2648 \\\\\n",
       "\t11 & M1P & 43.7574 & -79.2733 \\\\\n",
       "\t12 & M1R & 43.7501 & -79.2958 \\\\\n",
       "\t13 & M1S & 43.7942 & -79.262 \\\\\n",
       "\t14 & M1T & 43.7816 & -79.3043 \\\\\n",
       "\t15 & M1V & 43.8153 & -79.2846 \\\\\n",
       "\t16 & M1W & 43.7995 & -79.3184 \\\\\n",
       "\t17 & M1X & 43.8361 & -79.2056 \\\\\n",
       "\t18 & M2H & 43.8038 & -79.3635 \\\\\n",
       "\t19 & M2J & 43.7785 & -79.3466 \\\\\n",
       "\t20 & M2K & 43.7869 & -79.386 \\\\\n",
       "\t21 & M2L & 43.7575 & -79.3747 \\\\\n",
       "\t22 & M2M & 43.7891 & -79.4085 \\\\\n",
       "\t23 & M2N & 43.7701 & -79.4085 \\\\\n",
       "\t24 & M2P & 43.7528 & -79.4 \\\\\n",
       "\t25 & M2R & 43.7827 & -79.4423 \\\\\n",
       "\t26 & M3A & 43.7533 & -79.3297 \\\\\n",
       "\t27 & M3B & 43.7459 & -79.3522 \\\\\n",
       "\t28 & M3C & 43.7259 & -79.3409 \\\\\n",
       "\t29 & M3H & 43.7543 & -79.4423 \\\\\n",
       "\t30 & M3J & 43.768 & -79.4873 \\\\\n",
       "\t$\\dots$ & $\\dots$ & $\\dots$ & $\\dots$ \\\\\n",
       "\\end{tabular}\n"
      ],
      "text/plain": [
       "103×3 DataFrame\n",
       "│ Row │ Postal Code │ Latitude │ Longitude │\n",
       "│     │ \u001b[90mString\u001b[39m      │ \u001b[90mFloat64\u001b[39m  │ \u001b[90mFloat64\u001b[39m   │\n",
       "├─────┼─────────────┼──────────┼───────────┤\n",
       "│ 1   │ M1B         │ 43.8067  │ -79.1944  │\n",
       "│ 2   │ M1C         │ 43.7845  │ -79.1605  │\n",
       "│ 3   │ M1E         │ 43.7636  │ -79.1887  │\n",
       "│ 4   │ M1G         │ 43.771   │ -79.2169  │\n",
       "│ 5   │ M1H         │ 43.7731  │ -79.2395  │\n",
       "│ 6   │ M1J         │ 43.7447  │ -79.2395  │\n",
       "│ 7   │ M1K         │ 43.7279  │ -79.262   │\n",
       "│ 8   │ M1L         │ 43.7111  │ -79.2846  │\n",
       "│ 9   │ M1M         │ 43.7163  │ -79.2395  │\n",
       "│ 10  │ M1N         │ 43.6927  │ -79.2648  │\n",
       "⋮\n",
       "│ 93  │ M8Z         │ 43.6288  │ -79.521   │\n",
       "│ 94  │ M9A         │ 43.6679  │ -79.5322  │\n",
       "│ 95  │ M9B         │ 43.6509  │ -79.5547  │\n",
       "│ 96  │ M9C         │ 43.6435  │ -79.5772  │\n",
       "│ 97  │ M9L         │ 43.7563  │ -79.566   │\n",
       "│ 98  │ M9M         │ 43.7248  │ -79.5322  │\n",
       "│ 99  │ M9N         │ 43.7069  │ -79.5182  │\n",
       "│ 100 │ M9P         │ 43.6963  │ -79.5322  │\n",
       "│ 101 │ M9R         │ 43.6889  │ -79.5547  │\n",
       "│ 102 │ M9V         │ 43.7394  │ -79.5884  │\n",
       "│ 103 │ M9W         │ 43.7067  │ -79.5941  │"
      ]
     },
     "execution_count": 45,
     "metadata": {},
     "output_type": "execute_result"
    }
   ],
   "source": [
    "geo_df = CSV.read(\"./Geospatial_Coordinates.csv\")"
   ]
  },
  {
   "cell_type": "code",
   "execution_count": 46,
   "metadata": {
    "scrolled": true
   },
   "outputs": [
    {
     "data": {
      "text/html": [
       "<table class=\"data-frame\"><thead><tr><th></th><th>Postal Code</th><th>District</th><th>Neighbourhood</th></tr><tr><th></th><th>Any</th><th>Any</th><th>Any</th></tr></thead><tbody><p>103 rows × 5 columns (omitted printing of 2 columns)</p><tr><th>1</th><td>M3A</td><td>North York</td><td>Parkwoods</td></tr><tr><th>2</th><td>M4A</td><td>North York</td><td>Victoria Village</td></tr><tr><th>3</th><td>M5A</td><td>Downtown Toronto</td><td>Regent Park, Harbourfront</td></tr><tr><th>4</th><td>M6A</td><td>North York</td><td>Lawrence Manor, Lawrence Heights</td></tr><tr><th>5</th><td>M7A</td><td>Downtown Toronto</td><td>Queen's Park, Ontario Provincial Government</td></tr><tr><th>6</th><td>M9A</td><td>Etobicoke</td><td>Islington Avenue, Humber Valley Village</td></tr><tr><th>7</th><td>M1B</td><td>Scarborough</td><td>Malvern, Rouge</td></tr><tr><th>8</th><td>M3B</td><td>North York</td><td>Don Mills</td></tr><tr><th>9</th><td>M4B</td><td>East York</td><td>Parkview Hill, Woodbine Gardens</td></tr><tr><th>10</th><td>M5B</td><td>Downtown Toronto</td><td>Garden District, Ryerson</td></tr><tr><th>11</th><td>M6B</td><td>North York</td><td>Glencairn</td></tr><tr><th>12</th><td>M9B</td><td>Etobicoke</td><td>West Deane Park, Princess Gardens, Martin Grove, Islington, Cloverdale</td></tr><tr><th>13</th><td>M1C</td><td>Scarborough</td><td>Rouge Hill, Port Union, Highland Creek</td></tr><tr><th>14</th><td>M3C</td><td>North York</td><td>Don Mills</td></tr><tr><th>15</th><td>M4C</td><td>East York</td><td>Woodbine Heights</td></tr><tr><th>16</th><td>M5C</td><td>Downtown Toronto</td><td>St. James Town</td></tr><tr><th>17</th><td>M6C</td><td>York</td><td>Humewood-Cedarvale</td></tr><tr><th>18</th><td>M9C</td><td>Etobicoke</td><td>Eringate, Bloordale Gardens, Old Burnhamthorpe, Markland Wood</td></tr><tr><th>19</th><td>M1E</td><td>Scarborough</td><td>Guildwood, Morningside, West Hill</td></tr><tr><th>20</th><td>M4E</td><td>East Toronto</td><td>The Beaches</td></tr><tr><th>21</th><td>M5E</td><td>Downtown Toronto</td><td>Berczy Park</td></tr><tr><th>22</th><td>M6E</td><td>York</td><td>Caledonia-Fairbanks</td></tr><tr><th>23</th><td>M1G</td><td>Scarborough</td><td>Woburn</td></tr><tr><th>24</th><td>M4G</td><td>East York</td><td>Leaside</td></tr><tr><th>25</th><td>M5G</td><td>Downtown Toronto</td><td>Central Bay Street</td></tr><tr><th>26</th><td>M6G</td><td>Downtown Toronto</td><td>Christie</td></tr><tr><th>27</th><td>M1H</td><td>Scarborough</td><td>Cedarbrae</td></tr><tr><th>28</th><td>M2H</td><td>North York</td><td>Hillcrest Village</td></tr><tr><th>29</th><td>M3H</td><td>North York</td><td>Bathurst Manor, Wilson Heights, Downsview North</td></tr><tr><th>30</th><td>M4H</td><td>East York</td><td>Thorncliffe Park</td></tr><tr><th>&vellip;</th><td>&vellip;</td><td>&vellip;</td><td>&vellip;</td></tr></tbody></table>"
      ],
      "text/latex": [
       "\\begin{tabular}{r|cccc}\n",
       "\t& Postal Code & District & Neighbourhood & \\\\\n",
       "\t\\hline\n",
       "\t& Any & Any & Any & \\\\\n",
       "\t\\hline\n",
       "\t1 & M3A & North York & Parkwoods & $\\dots$ \\\\\n",
       "\t2 & M4A & North York & Victoria Village & $\\dots$ \\\\\n",
       "\t3 & M5A & Downtown Toronto & Regent Park, Harbourfront & $\\dots$ \\\\\n",
       "\t4 & M6A & North York & Lawrence Manor, Lawrence Heights & $\\dots$ \\\\\n",
       "\t5 & M7A & Downtown Toronto & Queen's Park, Ontario Provincial Government & $\\dots$ \\\\\n",
       "\t6 & M9A & Etobicoke & Islington Avenue, Humber Valley Village & $\\dots$ \\\\\n",
       "\t7 & M1B & Scarborough & Malvern, Rouge & $\\dots$ \\\\\n",
       "\t8 & M3B & North York & Don Mills & $\\dots$ \\\\\n",
       "\t9 & M4B & East York & Parkview Hill, Woodbine Gardens & $\\dots$ \\\\\n",
       "\t10 & M5B & Downtown Toronto & Garden District, Ryerson & $\\dots$ \\\\\n",
       "\t11 & M6B & North York & Glencairn & $\\dots$ \\\\\n",
       "\t12 & M9B & Etobicoke & West Deane Park, Princess Gardens, Martin Grove, Islington, Cloverdale & $\\dots$ \\\\\n",
       "\t13 & M1C & Scarborough & Rouge Hill, Port Union, Highland Creek & $\\dots$ \\\\\n",
       "\t14 & M3C & North York & Don Mills & $\\dots$ \\\\\n",
       "\t15 & M4C & East York & Woodbine Heights & $\\dots$ \\\\\n",
       "\t16 & M5C & Downtown Toronto & St. James Town & $\\dots$ \\\\\n",
       "\t17 & M6C & York & Humewood-Cedarvale & $\\dots$ \\\\\n",
       "\t18 & M9C & Etobicoke & Eringate, Bloordale Gardens, Old Burnhamthorpe, Markland Wood & $\\dots$ \\\\\n",
       "\t19 & M1E & Scarborough & Guildwood, Morningside, West Hill & $\\dots$ \\\\\n",
       "\t20 & M4E & East Toronto & The Beaches & $\\dots$ \\\\\n",
       "\t21 & M5E & Downtown Toronto & Berczy Park & $\\dots$ \\\\\n",
       "\t22 & M6E & York & Caledonia-Fairbanks & $\\dots$ \\\\\n",
       "\t23 & M1G & Scarborough & Woburn & $\\dots$ \\\\\n",
       "\t24 & M4G & East York & Leaside & $\\dots$ \\\\\n",
       "\t25 & M5G & Downtown Toronto & Central Bay Street & $\\dots$ \\\\\n",
       "\t26 & M6G & Downtown Toronto & Christie & $\\dots$ \\\\\n",
       "\t27 & M1H & Scarborough & Cedarbrae & $\\dots$ \\\\\n",
       "\t28 & M2H & North York & Hillcrest Village & $\\dots$ \\\\\n",
       "\t29 & M3H & North York & Bathurst Manor, Wilson Heights, Downsview North & $\\dots$ \\\\\n",
       "\t30 & M4H & East York & Thorncliffe Park & $\\dots$ \\\\\n",
       "\t$\\dots$ & $\\dots$ & $\\dots$ & $\\dots$ &  \\\\\n",
       "\\end{tabular}\n"
      ],
      "text/plain": [
       "103×5 DataFrame. Omitted printing of 3 columns\n",
       "│ Row │ Postal Code │ District         │\n",
       "│     │ \u001b[90mAny\u001b[39m         │ \u001b[90mAny\u001b[39m              │\n",
       "├─────┼─────────────┼──────────────────┤\n",
       "│ 1   │ M3A         │ North York       │\n",
       "│ 2   │ M4A         │ North York       │\n",
       "│ 3   │ M5A         │ Downtown Toronto │\n",
       "│ 4   │ M6A         │ North York       │\n",
       "│ 5   │ M7A         │ Downtown Toronto │\n",
       "│ 6   │ M9A         │ Etobicoke        │\n",
       "│ 7   │ M1B         │ Scarborough      │\n",
       "│ 8   │ M3B         │ North York       │\n",
       "│ 9   │ M4B         │ East York        │\n",
       "│ 10  │ M5B         │ Downtown Toronto │\n",
       "⋮\n",
       "│ 93  │ M5W         │ Downtown Toronto │\n",
       "│ 94  │ M8W         │ Etobicoke        │\n",
       "│ 95  │ M9W         │ Etobicoke        │\n",
       "│ 96  │ M1X         │ Scarborough      │\n",
       "│ 97  │ M4X         │ Downtown Toronto │\n",
       "│ 98  │ M5X         │ Downtown Toronto │\n",
       "│ 99  │ M8X         │ Etobicoke        │\n",
       "│ 100 │ M4Y         │ Downtown Toronto │\n",
       "│ 101 │ M7Y         │ East Toronto     │\n",
       "│ 102 │ M8Y         │ Etobicoke        │\n",
       "│ 103 │ M8Z         │ Etobicoke        │"
      ]
     },
     "execution_count": 46,
     "metadata": {},
     "output_type": "execute_result"
    }
   ],
   "source": [
    "# Join dataframes\n",
    "latlong_df = leftjoin(df, geo_df, on=\"Postal Code\")"
   ]
  },
  {
   "cell_type": "code",
   "execution_count": 47,
   "metadata": {},
   "outputs": [
    {
     "data": {
      "text/plain": [
       "39-element Array{Any,1}:\n",
       " \"Regent Park, Harbourfront\"\n",
       " \"Queen's Park, Ontario Provincial Government\"\n",
       " \"Garden District, Ryerson\"\n",
       " \"St. James Town\"\n",
       " \"The Beaches\"\n",
       " \"Berczy Park\"\n",
       " \"Central Bay Street\"\n",
       " \"Christie\"\n",
       " \"Richmond, Adelaide, King\"\n",
       " \"Dufferin, Dovercourt Village\"\n",
       " \"Harbourfront East, Union Station, Toronto Islands\"\n",
       " \"Little Portugal, Trinity\"\n",
       " \"The Danforth West, Riverdale\"\n",
       " ⋮\n",
       " \"University of Toronto, Harbord\"\n",
       " \"Runnymede, Swansea\"\n",
       " \"Moore Park, Summerhill East\"\n",
       " \"Kensington Market, Chinatown, Grange Park\"\n",
       " \"Summerhill West, Rathnelly, South Hill, Forest Hill SE, Deer Park\"\n",
       " \"CN Tower, King and Spadina, Railway Lands, Harbourfront West, Bathurst Quay, South Niagara, Island airport\"\n",
       " \"Rosedale\"\n",
       " \"Stn A PO Boxes\"\n",
       " \"St. James Town, Cabbagetown\"\n",
       " \"First Canadian Place, Underground city\"\n",
       " \"Church and Wellesley\"\n",
       " \"Business reply mail Processing Centre, South Central Letter Processing Plant Toronto\""
      ]
     },
     "execution_count": 47,
     "metadata": {},
     "output_type": "execute_result"
    }
   ],
   "source": [
    "# Just Toronto\n",
    "toronto_df = latlong_df[occursin.(r\"Toronto\", latlong_df[:District]), :]\n",
    "unique(toronto_df[:District])\n",
    "unique(toronto_df[:Neighbourhood])"
   ]
  },
  {
   "cell_type": "markdown",
   "metadata": {},
   "source": [
    "## Clustering Neighborhoods"
   ]
  },
  {
   "cell_type": "code",
   "execution_count": 81,
   "metadata": {},
   "outputs": [
    {
     "data": {
      "image/svg+xml": [
       "<?xml version=\"1.0\" encoding=\"utf-8\"?>\n",
       "<svg xmlns=\"http://www.w3.org/2000/svg\" xmlns:xlink=\"http://www.w3.org/1999/xlink\" width=\"600\" height=\"400\" viewBox=\"0 0 2400 1600\">\n",
       "<defs>\n",
       "  <clipPath id=\"clip560\">\n",
       "    <rect x=\"0\" y=\"0\" width=\"2400\" height=\"1600\"/>\n",
       "  </clipPath>\n",
       "</defs>\n",
       "<path clip-path=\"url(#clip560)\" d=\"\n",
       "M0 1600 L2400 1600 L2400 0 L0 0  Z\n",
       "  \" fill=\"#ffffff\" fill-rule=\"evenodd\" fill-opacity=\"1\"/>\n",
       "<defs>\n",
       "  <clipPath id=\"clip561\">\n",
       "    <rect x=\"480\" y=\"0\" width=\"1681\" height=\"1600\"/>\n",
       "  </clipPath>\n",
       "</defs>\n",
       "<path clip-path=\"url(#clip560)\" d=\"\n",
       "M203.172 1486.45 L2352.76 1486.45 L2352.76 47.2441 L203.172 47.2441  Z\n",
       "  \" fill=\"#ffffff\" fill-rule=\"evenodd\" fill-opacity=\"1\"/>\n",
       "<defs>\n",
       "  <clipPath id=\"clip562\">\n",
       "    <rect x=\"203\" y=\"47\" width=\"2151\" height=\"1440\"/>\n",
       "  </clipPath>\n",
       "</defs>\n",
       "<polyline clip-path=\"url(#clip562)\" style=\"stroke:#000000; stroke-width:2; stroke-opacity:0.1; fill:none\" points=\"\n",
       "  628.975,1486.45 628.975,47.2441 \n",
       "  \"/>\n",
       "<polyline clip-path=\"url(#clip562)\" style=\"stroke:#000000; stroke-width:2; stroke-opacity:0.1; fill:none\" points=\"\n",
       "  1158.68,1486.45 1158.68,47.2441 \n",
       "  \"/>\n",
       "<polyline clip-path=\"url(#clip562)\" style=\"stroke:#000000; stroke-width:2; stroke-opacity:0.1; fill:none\" points=\"\n",
       "  1688.39,1486.45 1688.39,47.2441 \n",
       "  \"/>\n",
       "<polyline clip-path=\"url(#clip562)\" style=\"stroke:#000000; stroke-width:2; stroke-opacity:0.1; fill:none\" points=\"\n",
       "  2218.09,1486.45 2218.09,47.2441 \n",
       "  \"/>\n",
       "<polyline clip-path=\"url(#clip562)\" style=\"stroke:#000000; stroke-width:2; stroke-opacity:0.1; fill:none\" points=\"\n",
       "  203.172,1294.24 2352.76,1294.24 \n",
       "  \"/>\n",
       "<polyline clip-path=\"url(#clip562)\" style=\"stroke:#000000; stroke-width:2; stroke-opacity:0.1; fill:none\" points=\"\n",
       "  203.172,1020.15 2352.76,1020.15 \n",
       "  \"/>\n",
       "<polyline clip-path=\"url(#clip562)\" style=\"stroke:#000000; stroke-width:2; stroke-opacity:0.1; fill:none\" points=\"\n",
       "  203.172,746.065 2352.76,746.065 \n",
       "  \"/>\n",
       "<polyline clip-path=\"url(#clip562)\" style=\"stroke:#000000; stroke-width:2; stroke-opacity:0.1; fill:none\" points=\"\n",
       "  203.172,471.978 2352.76,471.978 \n",
       "  \"/>\n",
       "<polyline clip-path=\"url(#clip562)\" style=\"stroke:#000000; stroke-width:2; stroke-opacity:0.1; fill:none\" points=\"\n",
       "  203.172,197.892 2352.76,197.892 \n",
       "  \"/>\n",
       "<polyline clip-path=\"url(#clip560)\" style=\"stroke:#000000; stroke-width:4; stroke-opacity:1; fill:none\" points=\"\n",
       "  203.172,1486.45 2352.76,1486.45 \n",
       "  \"/>\n",
       "<polyline clip-path=\"url(#clip560)\" style=\"stroke:#000000; stroke-width:4; stroke-opacity:1; fill:none\" points=\"\n",
       "  203.172,1486.45 203.172,47.2441 \n",
       "  \"/>\n",
       "<polyline clip-path=\"url(#clip560)\" style=\"stroke:#000000; stroke-width:4; stroke-opacity:1; fill:none\" points=\"\n",
       "  628.975,1486.45 628.975,1469.18 \n",
       "  \"/>\n",
       "<polyline clip-path=\"url(#clip560)\" style=\"stroke:#000000; stroke-width:4; stroke-opacity:1; fill:none\" points=\"\n",
       "  1158.68,1486.45 1158.68,1469.18 \n",
       "  \"/>\n",
       "<polyline clip-path=\"url(#clip560)\" style=\"stroke:#000000; stroke-width:4; stroke-opacity:1; fill:none\" points=\"\n",
       "  1688.39,1486.45 1688.39,1469.18 \n",
       "  \"/>\n",
       "<polyline clip-path=\"url(#clip560)\" style=\"stroke:#000000; stroke-width:4; stroke-opacity:1; fill:none\" points=\"\n",
       "  2218.09,1486.45 2218.09,1469.18 \n",
       "  \"/>\n",
       "<polyline clip-path=\"url(#clip560)\" style=\"stroke:#000000; stroke-width:4; stroke-opacity:1; fill:none\" points=\"\n",
       "  203.172,1294.24 228.967,1294.24 \n",
       "  \"/>\n",
       "<polyline clip-path=\"url(#clip560)\" style=\"stroke:#000000; stroke-width:4; stroke-opacity:1; fill:none\" points=\"\n",
       "  203.172,1020.15 228.967,1020.15 \n",
       "  \"/>\n",
       "<polyline clip-path=\"url(#clip560)\" style=\"stroke:#000000; stroke-width:4; stroke-opacity:1; fill:none\" points=\"\n",
       "  203.172,746.065 228.967,746.065 \n",
       "  \"/>\n",
       "<polyline clip-path=\"url(#clip560)\" style=\"stroke:#000000; stroke-width:4; stroke-opacity:1; fill:none\" points=\"\n",
       "  203.172,471.978 228.967,471.978 \n",
       "  \"/>\n",
       "<polyline clip-path=\"url(#clip560)\" style=\"stroke:#000000; stroke-width:4; stroke-opacity:1; fill:none\" points=\"\n",
       "  203.172,197.892 228.967,197.892 \n",
       "  \"/>\n",
       "<path clip-path=\"url(#clip560)\" d=\"M 0 0 M564.531 1525.04 L577.008 1525.04 L577.008 1528.83 L564.531 1528.83 L564.531 1525.04 Z\" fill=\"#000000\" fill-rule=\"evenodd\" fill-opacity=\"1\" /><path clip-path=\"url(#clip560)\" d=\"M 0 0 M580.897 1505.36 L603.119 1505.36 L603.119 1507.35 L590.573 1539.92 L585.688 1539.92 L597.494 1509.3 L580.897 1509.3 L580.897 1505.36 Z\" fill=\"#000000\" fill-rule=\"evenodd\" fill-opacity=\"1\" /><path clip-path=\"url(#clip560)\" d=\"M 0 0 M608.327 1539.2 L608.327 1534.94 Q610.086 1535.78 611.892 1536.22 Q613.697 1536.66 615.434 1536.66 Q620.063 1536.66 622.494 1533.55 Q624.947 1530.43 625.295 1524.09 Q623.952 1526.08 621.892 1527.14 Q619.832 1528.21 617.332 1528.21 Q612.146 1528.21 609.114 1525.08 Q606.105 1521.93 606.105 1516.49 Q606.105 1511.17 609.253 1507.95 Q612.401 1504.73 617.633 1504.73 Q623.628 1504.73 626.776 1509.34 Q629.947 1513.92 629.947 1522.67 Q629.947 1530.85 626.058 1535.73 Q622.193 1540.59 615.642 1540.59 Q613.883 1540.59 612.077 1540.24 Q610.271 1539.9 608.327 1539.2 M617.633 1524.55 Q620.781 1524.55 622.609 1522.4 Q624.461 1520.24 624.461 1516.49 Q624.461 1512.77 622.609 1510.61 Q620.781 1508.44 617.633 1508.44 Q614.484 1508.44 612.633 1510.61 Q610.804 1512.77 610.804 1516.49 Q610.804 1520.24 612.633 1522.4 Q614.484 1524.55 617.633 1524.55 Z\" fill=\"#000000\" fill-rule=\"evenodd\" fill-opacity=\"1\" /><path clip-path=\"url(#clip560)\" d=\"M 0 0 M635.017 1534.04 L639.901 1534.04 L639.901 1539.92 L635.017 1539.92 L635.017 1534.04 Z\" fill=\"#000000\" fill-rule=\"evenodd\" fill-opacity=\"1\" /><path clip-path=\"url(#clip560)\" d=\"M 0 0 M657.818 1509.43 L646.012 1527.88 L657.818 1527.88 L657.818 1509.43 M656.591 1505.36 L662.47 1505.36 L662.47 1527.88 L667.401 1527.88 L667.401 1531.77 L662.47 1531.77 L662.47 1539.92 L657.818 1539.92 L657.818 1531.77 L642.216 1531.77 L642.216 1527.26 L656.591 1505.36 Z\" fill=\"#000000\" fill-rule=\"evenodd\" fill-opacity=\"1\" /><path clip-path=\"url(#clip560)\" d=\"M 0 0 M672.517 1505.36 L690.873 1505.36 L690.873 1509.3 L676.799 1509.3 L676.799 1517.77 Q677.817 1517.42 678.836 1517.26 Q679.854 1517.07 680.873 1517.07 Q686.66 1517.07 690.04 1520.24 Q693.419 1523.42 693.419 1528.83 Q693.419 1534.41 689.947 1537.51 Q686.475 1540.59 680.155 1540.59 Q677.979 1540.59 675.711 1540.22 Q673.466 1539.85 671.058 1539.11 L671.058 1534.41 Q673.142 1535.54 675.364 1536.1 Q677.586 1536.66 680.063 1536.66 Q684.067 1536.66 686.405 1534.55 Q688.743 1532.44 688.743 1528.83 Q688.743 1525.22 686.405 1523.11 Q684.067 1521.01 680.063 1521.01 Q678.188 1521.01 676.313 1521.42 Q674.461 1521.84 672.517 1522.72 L672.517 1505.36 Z\" fill=\"#000000\" fill-rule=\"evenodd\" fill-opacity=\"1\" /><path clip-path=\"url(#clip560)\" d=\"M 0 0 M1093.74 1525.04 L1106.22 1525.04 L1106.22 1528.83 L1093.74 1528.83 L1093.74 1525.04 Z\" fill=\"#000000\" fill-rule=\"evenodd\" fill-opacity=\"1\" /><path clip-path=\"url(#clip560)\" d=\"M 0 0 M1110.1 1505.36 L1132.33 1505.36 L1132.33 1507.35 L1119.78 1539.92 L1114.9 1539.92 L1126.7 1509.3 L1110.1 1509.3 L1110.1 1505.36 Z\" fill=\"#000000\" fill-rule=\"evenodd\" fill-opacity=\"1\" /><path clip-path=\"url(#clip560)\" d=\"M 0 0 M1137.53 1539.2 L1137.53 1534.94 Q1139.29 1535.78 1141.1 1536.22 Q1142.9 1536.66 1144.64 1536.66 Q1149.27 1536.66 1151.7 1533.55 Q1154.15 1530.43 1154.5 1524.09 Q1153.16 1526.08 1151.1 1527.14 Q1149.04 1528.21 1146.54 1528.21 Q1141.35 1528.21 1138.32 1525.08 Q1135.31 1521.93 1135.31 1516.49 Q1135.31 1511.17 1138.46 1507.95 Q1141.61 1504.73 1146.84 1504.73 Q1152.84 1504.73 1155.98 1509.34 Q1159.15 1513.92 1159.15 1522.67 Q1159.15 1530.85 1155.27 1535.73 Q1151.4 1540.59 1144.85 1540.59 Q1143.09 1540.59 1141.28 1540.24 Q1139.48 1539.9 1137.53 1539.2 M1146.84 1524.55 Q1149.99 1524.55 1151.82 1522.4 Q1153.67 1520.24 1153.67 1516.49 Q1153.67 1512.77 1151.82 1510.61 Q1149.99 1508.44 1146.84 1508.44 Q1143.69 1508.44 1141.84 1510.61 Q1140.01 1512.77 1140.01 1516.49 Q1140.01 1520.24 1141.84 1522.4 Q1143.69 1524.55 1146.84 1524.55 Z\" fill=\"#000000\" fill-rule=\"evenodd\" fill-opacity=\"1\" /><path clip-path=\"url(#clip560)\" d=\"M 0 0 M1164.22 1534.04 L1169.11 1534.04 L1169.11 1539.92 L1164.22 1539.92 L1164.22 1534.04 Z\" fill=\"#000000\" fill-rule=\"evenodd\" fill-opacity=\"1\" /><path clip-path=\"url(#clip560)\" d=\"M 0 0 M1187.02 1509.43 L1175.22 1527.88 L1187.02 1527.88 L1187.02 1509.43 M1185.8 1505.36 L1191.68 1505.36 L1191.68 1527.88 L1196.61 1527.88 L1196.61 1531.77 L1191.68 1531.77 L1191.68 1539.92 L1187.02 1539.92 L1187.02 1531.77 L1171.42 1531.77 L1171.42 1527.26 L1185.8 1505.36 Z\" fill=\"#000000\" fill-rule=\"evenodd\" fill-opacity=\"1\" /><path clip-path=\"url(#clip560)\" d=\"M 0 0 M1211.68 1508.44 Q1208.07 1508.44 1206.24 1512 Q1204.43 1515.55 1204.43 1522.67 Q1204.43 1529.78 1206.24 1533.35 Q1208.07 1536.89 1211.68 1536.89 Q1215.31 1536.89 1217.12 1533.35 Q1218.95 1529.78 1218.95 1522.67 Q1218.95 1515.55 1217.12 1512 Q1215.31 1508.44 1211.68 1508.44 M1211.68 1504.73 Q1217.49 1504.73 1220.54 1509.34 Q1223.62 1513.92 1223.62 1522.67 Q1223.62 1531.4 1220.54 1536.01 Q1217.49 1540.59 1211.68 1540.59 Q1205.87 1540.59 1202.79 1536.01 Q1199.73 1531.4 1199.73 1522.67 Q1199.73 1513.92 1202.79 1509.34 Q1205.87 1504.73 1211.68 1504.73 Z\" fill=\"#000000\" fill-rule=\"evenodd\" fill-opacity=\"1\" /><path clip-path=\"url(#clip560)\" d=\"M 0 0 M1624.51 1525.04 L1636.99 1525.04 L1636.99 1528.83 L1624.51 1528.83 L1624.51 1525.04 Z\" fill=\"#000000\" fill-rule=\"evenodd\" fill-opacity=\"1\" /><path clip-path=\"url(#clip560)\" d=\"M 0 0 M1640.87 1505.36 L1663.1 1505.36 L1663.1 1507.35 L1650.55 1539.92 L1645.67 1539.92 L1657.47 1509.3 L1640.87 1509.3 L1640.87 1505.36 Z\" fill=\"#000000\" fill-rule=\"evenodd\" fill-opacity=\"1\" /><path clip-path=\"url(#clip560)\" d=\"M 0 0 M1668.3 1539.2 L1668.3 1534.94 Q1670.06 1535.78 1671.87 1536.22 Q1673.67 1536.66 1675.41 1536.66 Q1680.04 1536.66 1682.47 1533.55 Q1684.92 1530.43 1685.27 1524.09 Q1683.93 1526.08 1681.87 1527.14 Q1679.81 1528.21 1677.31 1528.21 Q1672.12 1528.21 1669.09 1525.08 Q1666.08 1521.93 1666.08 1516.49 Q1666.08 1511.17 1669.23 1507.95 Q1672.38 1504.73 1677.61 1504.73 Q1683.61 1504.73 1686.75 1509.34 Q1689.92 1513.92 1689.92 1522.67 Q1689.92 1530.85 1686.04 1535.73 Q1682.17 1540.59 1675.62 1540.59 Q1673.86 1540.59 1672.05 1540.24 Q1670.25 1539.9 1668.3 1539.2 M1677.61 1524.55 Q1680.76 1524.55 1682.59 1522.4 Q1684.44 1520.24 1684.44 1516.49 Q1684.44 1512.77 1682.59 1510.61 Q1680.76 1508.44 1677.61 1508.44 Q1674.46 1508.44 1672.61 1510.61 Q1670.78 1512.77 1670.78 1516.49 Q1670.78 1520.24 1672.61 1522.4 Q1674.46 1524.55 1677.61 1524.55 Z\" fill=\"#000000\" fill-rule=\"evenodd\" fill-opacity=\"1\" /><path clip-path=\"url(#clip560)\" d=\"M 0 0 M1694.99 1534.04 L1699.88 1534.04 L1699.88 1539.92 L1694.99 1539.92 L1694.99 1534.04 Z\" fill=\"#000000\" fill-rule=\"evenodd\" fill-opacity=\"1\" /><path clip-path=\"url(#clip560)\" d=\"M 0 0 M1719.11 1521.29 Q1722.47 1522 1724.35 1524.27 Q1726.24 1526.54 1726.24 1529.87 Q1726.24 1534.99 1722.73 1537.79 Q1719.21 1540.59 1712.73 1540.59 Q1710.55 1540.59 1708.23 1540.15 Q1705.94 1539.73 1703.49 1538.88 L1703.49 1534.36 Q1705.43 1535.5 1707.75 1536.08 Q1710.06 1536.66 1712.59 1536.66 Q1716.98 1536.66 1719.28 1534.92 Q1721.59 1533.18 1721.59 1529.87 Q1721.59 1526.82 1719.44 1525.11 Q1717.31 1523.37 1713.49 1523.37 L1709.46 1523.37 L1709.46 1519.53 L1713.67 1519.53 Q1717.12 1519.53 1718.95 1518.16 Q1720.78 1516.77 1720.78 1514.18 Q1720.78 1511.52 1718.88 1510.11 Q1717.01 1508.67 1713.49 1508.67 Q1711.57 1508.67 1709.37 1509.09 Q1707.17 1509.5 1704.53 1510.38 L1704.53 1506.22 Q1707.19 1505.48 1709.51 1505.11 Q1711.85 1504.73 1713.91 1504.73 Q1719.23 1504.73 1722.33 1507.17 Q1725.43 1509.57 1725.43 1513.69 Q1725.43 1516.56 1723.79 1518.55 Q1722.15 1520.52 1719.11 1521.29 Z\" fill=\"#000000\" fill-rule=\"evenodd\" fill-opacity=\"1\" /><path clip-path=\"url(#clip560)\" d=\"M 0 0 M1731.36 1505.36 L1749.72 1505.36 L1749.72 1509.3 L1735.64 1509.3 L1735.64 1517.77 Q1736.66 1517.42 1737.68 1517.26 Q1738.7 1517.07 1739.72 1517.07 Q1745.5 1517.07 1748.88 1520.24 Q1752.26 1523.42 1752.26 1528.83 Q1752.26 1534.41 1748.79 1537.51 Q1745.32 1540.59 1739 1540.59 Q1736.82 1540.59 1734.55 1540.22 Q1732.31 1539.85 1729.9 1539.11 L1729.9 1534.41 Q1731.98 1535.54 1734.21 1536.1 Q1736.43 1536.66 1738.91 1536.66 Q1742.91 1536.66 1745.25 1534.55 Q1747.59 1532.44 1747.59 1528.83 Q1747.59 1525.22 1745.25 1523.11 Q1742.91 1521.01 1738.91 1521.01 Q1737.03 1521.01 1735.16 1521.42 Q1733.3 1521.84 1731.36 1522.72 L1731.36 1505.36 Z\" fill=\"#000000\" fill-rule=\"evenodd\" fill-opacity=\"1\" /><path clip-path=\"url(#clip560)\" d=\"M 0 0 M2153.72 1525.04 L2166.19 1525.04 L2166.19 1528.83 L2153.72 1528.83 L2153.72 1525.04 Z\" fill=\"#000000\" fill-rule=\"evenodd\" fill-opacity=\"1\" /><path clip-path=\"url(#clip560)\" d=\"M 0 0 M2170.08 1505.36 L2192.3 1505.36 L2192.3 1507.35 L2179.76 1539.92 L2174.87 1539.92 L2186.68 1509.3 L2170.08 1509.3 L2170.08 1505.36 Z\" fill=\"#000000\" fill-rule=\"evenodd\" fill-opacity=\"1\" /><path clip-path=\"url(#clip560)\" d=\"M 0 0 M2197.51 1539.2 L2197.51 1534.94 Q2199.27 1535.78 2201.08 1536.22 Q2202.88 1536.66 2204.62 1536.66 Q2209.25 1536.66 2211.68 1533.55 Q2214.13 1530.43 2214.48 1524.09 Q2213.14 1526.08 2211.08 1527.14 Q2209.02 1528.21 2206.52 1528.21 Q2201.33 1528.21 2198.3 1525.08 Q2195.29 1521.93 2195.29 1516.49 Q2195.29 1511.17 2198.44 1507.95 Q2201.59 1504.73 2206.82 1504.73 Q2212.81 1504.73 2215.96 1509.34 Q2219.13 1513.92 2219.13 1522.67 Q2219.13 1530.85 2215.24 1535.73 Q2211.38 1540.59 2204.83 1540.59 Q2203.07 1540.59 2201.26 1540.24 Q2199.46 1539.9 2197.51 1539.2 M2206.82 1524.55 Q2209.97 1524.55 2211.79 1522.4 Q2213.65 1520.24 2213.65 1516.49 Q2213.65 1512.77 2211.79 1510.61 Q2209.97 1508.44 2206.82 1508.44 Q2203.67 1508.44 2201.82 1510.61 Q2199.99 1512.77 2199.99 1516.49 Q2199.99 1520.24 2201.82 1522.4 Q2203.67 1524.55 2206.82 1524.55 Z\" fill=\"#000000\" fill-rule=\"evenodd\" fill-opacity=\"1\" /><path clip-path=\"url(#clip560)\" d=\"M 0 0 M2224.2 1534.04 L2229.09 1534.04 L2229.09 1539.92 L2224.2 1539.92 L2224.2 1534.04 Z\" fill=\"#000000\" fill-rule=\"evenodd\" fill-opacity=\"1\" /><path clip-path=\"url(#clip560)\" d=\"M 0 0 M2248.32 1521.29 Q2251.68 1522 2253.55 1524.27 Q2255.45 1526.54 2255.45 1529.87 Q2255.45 1534.99 2251.93 1537.79 Q2248.41 1540.59 2241.93 1540.59 Q2239.76 1540.59 2237.44 1540.15 Q2235.15 1539.73 2232.7 1538.88 L2232.7 1534.36 Q2234.64 1535.5 2236.96 1536.08 Q2239.27 1536.66 2241.79 1536.66 Q2246.19 1536.66 2248.48 1534.92 Q2250.8 1533.18 2250.8 1529.87 Q2250.8 1526.82 2248.65 1525.11 Q2246.52 1523.37 2242.7 1523.37 L2238.67 1523.37 L2238.67 1519.53 L2242.88 1519.53 Q2246.33 1519.53 2248.16 1518.16 Q2249.99 1516.77 2249.99 1514.18 Q2249.99 1511.52 2248.09 1510.11 Q2246.22 1508.67 2242.7 1508.67 Q2240.78 1508.67 2238.58 1509.09 Q2236.38 1509.5 2233.74 1510.38 L2233.74 1506.22 Q2236.4 1505.48 2238.72 1505.11 Q2241.05 1504.73 2243.11 1504.73 Q2248.44 1504.73 2251.54 1507.17 Q2254.64 1509.57 2254.64 1513.69 Q2254.64 1516.56 2253 1518.55 Q2251.35 1520.52 2248.32 1521.29 Z\" fill=\"#000000\" fill-rule=\"evenodd\" fill-opacity=\"1\" /><path clip-path=\"url(#clip560)\" d=\"M 0 0 M2270.52 1508.44 Q2266.91 1508.44 2265.08 1512 Q2263.28 1515.55 2263.28 1522.67 Q2263.28 1529.78 2265.08 1533.35 Q2266.91 1536.89 2270.52 1536.89 Q2274.15 1536.89 2275.96 1533.35 Q2277.79 1529.78 2277.79 1522.67 Q2277.79 1515.55 2275.96 1512 Q2274.15 1508.44 2270.52 1508.44 M2270.52 1504.73 Q2276.33 1504.73 2279.39 1509.34 Q2282.47 1513.92 2282.47 1522.67 Q2282.47 1531.4 2279.39 1536.01 Q2276.33 1540.59 2270.52 1540.59 Q2264.71 1540.59 2261.63 1536.01 Q2258.58 1531.4 2258.58 1522.67 Q2258.58 1513.92 2261.63 1509.34 Q2264.71 1504.73 2270.52 1504.73 Z\" fill=\"#000000\" fill-rule=\"evenodd\" fill-opacity=\"1\" /><path clip-path=\"url(#clip560)\" d=\"M 0 0 M78.5939 1281.03 L66.7884 1299.48 L78.5939 1299.48 L78.5939 1281.03 M77.367 1276.96 L83.2466 1276.96 L83.2466 1299.48 L88.1772 1299.48 L88.1772 1303.37 L83.2466 1303.37 L83.2466 1311.52 L78.5939 1311.52 L78.5939 1303.37 L62.9921 1303.37 L62.9921 1298.86 L77.367 1276.96 Z\" fill=\"#000000\" fill-rule=\"evenodd\" fill-opacity=\"1\" /><path clip-path=\"url(#clip560)\" d=\"M 0 0 M107.413 1292.88 Q110.77 1293.6 112.645 1295.87 Q114.543 1298.14 114.543 1301.47 Q114.543 1306.59 111.024 1309.39 Q107.506 1312.19 101.024 1312.19 Q98.8484 1312.19 96.5336 1311.75 Q94.242 1311.33 91.7883 1310.48 L91.7883 1305.96 Q93.7327 1307.1 96.0475 1307.68 Q98.3623 1308.25 100.885 1308.25 Q105.284 1308.25 107.575 1306.52 Q109.89 1304.78 109.89 1301.47 Q109.89 1298.42 107.737 1296.7 Q105.608 1294.97 101.788 1294.97 L97.7605 1294.97 L97.7605 1291.12 L101.973 1291.12 Q105.422 1291.12 107.251 1289.76 Q109.08 1288.37 109.08 1285.78 Q109.08 1283.12 107.182 1281.7 Q105.307 1280.27 101.788 1280.27 Q99.8669 1280.27 97.6679 1280.68 Q95.4688 1281.1 92.8299 1281.98 L92.8299 1277.81 Q95.492 1277.07 97.8068 1276.7 Q100.145 1276.33 102.205 1276.33 Q107.529 1276.33 110.631 1278.76 Q113.733 1281.17 113.733 1285.29 Q113.733 1288.16 112.089 1290.15 Q110.446 1292.12 107.413 1292.88 Z\" fill=\"#000000\" fill-rule=\"evenodd\" fill-opacity=\"1\" /><path clip-path=\"url(#clip560)\" d=\"M 0 0 M119.612 1305.64 L124.496 1305.64 L124.496 1311.52 L119.612 1311.52 L119.612 1305.64 Z\" fill=\"#000000\" fill-rule=\"evenodd\" fill-opacity=\"1\" /><path clip-path=\"url(#clip560)\" d=\"M 0 0 M140.144 1292.37 Q136.996 1292.37 135.145 1294.53 Q133.316 1296.68 133.316 1300.43 Q133.316 1304.16 135.145 1306.33 Q136.996 1308.49 140.144 1308.49 Q143.293 1308.49 145.121 1306.33 Q146.973 1304.16 146.973 1300.43 Q146.973 1296.68 145.121 1294.53 Q143.293 1292.37 140.144 1292.37 M149.427 1277.72 L149.427 1281.98 Q147.668 1281.15 145.862 1280.71 Q144.08 1280.27 142.32 1280.27 Q137.691 1280.27 135.237 1283.39 Q132.807 1286.52 132.459 1292.84 Q133.825 1290.82 135.885 1289.76 Q137.945 1288.67 140.422 1288.67 Q145.631 1288.67 148.64 1291.84 Q151.672 1294.99 151.672 1300.43 Q151.672 1305.75 148.524 1308.97 Q145.376 1312.19 140.144 1312.19 Q134.149 1312.19 130.978 1307.61 Q127.807 1303 127.807 1294.27 Q127.807 1286.08 131.695 1281.22 Q135.584 1276.33 142.135 1276.33 Q143.894 1276.33 145.677 1276.68 Q147.482 1277.03 149.427 1277.72 Z\" fill=\"#000000\" fill-rule=\"evenodd\" fill-opacity=\"1\" /><path clip-path=\"url(#clip560)\" d=\"M 0 0 M169.589 1281.03 L157.783 1299.48 L169.589 1299.48 L169.589 1281.03 M168.362 1276.96 L174.242 1276.96 L174.242 1299.48 L179.172 1299.48 L179.172 1303.37 L174.242 1303.37 L174.242 1311.52 L169.589 1311.52 L169.589 1303.37 L153.987 1303.37 L153.987 1298.86 L168.362 1276.96 Z\" fill=\"#000000\" fill-rule=\"evenodd\" fill-opacity=\"1\" /><path clip-path=\"url(#clip560)\" d=\"M 0 0 M78.918 1006.95 L67.1125 1025.39 L78.918 1025.39 L78.918 1006.95 M77.6911 1002.87 L83.5707 1002.87 L83.5707 1025.39 L88.5012 1025.39 L88.5012 1029.28 L83.5707 1029.28 L83.5707 1037.43 L78.918 1037.43 L78.918 1029.28 L63.3162 1029.28 L63.3162 1024.77 L77.6911 1002.87 Z\" fill=\"#000000\" fill-rule=\"evenodd\" fill-opacity=\"1\" /><path clip-path=\"url(#clip560)\" d=\"M 0 0 M107.737 1018.8 Q111.094 1019.51 112.969 1021.78 Q114.867 1024.05 114.867 1027.38 Q114.867 1032.5 111.348 1035.3 Q107.83 1038.1 101.348 1038.1 Q99.1725 1038.1 96.8577 1037.66 Q94.566 1037.25 92.1123 1036.39 L92.1123 1031.88 Q94.0568 1033.01 96.3716 1033.59 Q98.6864 1034.17 101.21 1034.17 Q105.608 1034.17 107.899 1032.43 Q110.214 1030.7 110.214 1027.38 Q110.214 1024.33 108.061 1022.62 Q105.932 1020.88 102.112 1020.88 L98.0845 1020.88 L98.0845 1017.04 L102.297 1017.04 Q105.747 1017.04 107.575 1015.67 Q109.404 1014.28 109.404 1011.69 Q109.404 1009.03 107.506 1007.62 Q105.631 1006.18 102.112 1006.18 Q100.191 1006.18 97.9919 1006.6 Q95.7929 1007.01 93.154 1007.89 L93.154 1003.73 Q95.816 1002.99 98.1308 1002.62 Q100.469 1002.25 102.529 1002.25 Q107.853 1002.25 110.955 1004.68 Q114.057 1007.08 114.057 1011.2 Q114.057 1014.07 112.413 1016.07 Q110.77 1018.03 107.737 1018.8 Z\" fill=\"#000000\" fill-rule=\"evenodd\" fill-opacity=\"1\" /><path clip-path=\"url(#clip560)\" d=\"M 0 0 M119.936 1031.55 L124.82 1031.55 L124.82 1037.43 L119.936 1037.43 L119.936 1031.55 Z\" fill=\"#000000\" fill-rule=\"evenodd\" fill-opacity=\"1\" /><path clip-path=\"url(#clip560)\" d=\"M 0 0 M140.469 1018.29 Q137.32 1018.29 135.469 1020.44 Q133.64 1022.59 133.64 1026.34 Q133.64 1030.07 135.469 1032.25 Q137.32 1034.4 140.469 1034.4 Q143.617 1034.4 145.445 1032.25 Q147.297 1030.07 147.297 1026.34 Q147.297 1022.59 145.445 1020.44 Q143.617 1018.29 140.469 1018.29 M149.751 1003.64 L149.751 1007.89 Q147.992 1007.06 146.186 1006.62 Q144.404 1006.18 142.644 1006.18 Q138.015 1006.18 135.561 1009.31 Q133.131 1012.43 132.783 1018.75 Q134.149 1016.74 136.209 1015.67 Q138.27 1014.58 140.746 1014.58 Q145.955 1014.58 148.964 1017.76 Q151.996 1020.9 151.996 1026.34 Q151.996 1031.67 148.848 1034.88 Q145.7 1038.1 140.469 1038.1 Q134.473 1038.1 131.302 1033.52 Q128.131 1028.91 128.131 1020.19 Q128.131 1011.99 132.02 1007.13 Q135.908 1002.25 142.459 1002.25 Q144.219 1002.25 146.001 1002.59 Q147.806 1002.94 149.751 1003.64 Z\" fill=\"#000000\" fill-rule=\"evenodd\" fill-opacity=\"1\" /><path clip-path=\"url(#clip560)\" d=\"M 0 0 M167.644 1018.29 Q164.496 1018.29 162.644 1020.44 Q160.816 1022.59 160.816 1026.34 Q160.816 1030.07 162.644 1032.25 Q164.496 1034.4 167.644 1034.4 Q170.792 1034.4 172.621 1032.25 Q174.473 1030.07 174.473 1026.34 Q174.473 1022.59 172.621 1020.44 Q170.792 1018.29 167.644 1018.29 M176.927 1003.64 L176.927 1007.89 Q175.167 1007.06 173.362 1006.62 Q171.58 1006.18 169.82 1006.18 Q165.191 1006.18 162.737 1009.31 Q160.306 1012.43 159.959 1018.75 Q161.325 1016.74 163.385 1015.67 Q165.445 1014.58 167.922 1014.58 Q173.13 1014.58 176.14 1017.76 Q179.172 1020.9 179.172 1026.34 Q179.172 1031.67 176.024 1034.88 Q172.876 1038.1 167.644 1038.1 Q161.649 1038.1 158.478 1033.52 Q155.306 1028.91 155.306 1020.19 Q155.306 1011.99 159.195 1007.13 Q163.084 1002.25 169.635 1002.25 Q171.394 1002.25 173.177 1002.59 Q174.982 1002.94 176.927 1003.64 Z\" fill=\"#000000\" fill-rule=\"evenodd\" fill-opacity=\"1\" /><path clip-path=\"url(#clip560)\" d=\"M 0 0 M79.1726 732.859 L67.3671 751.308 L79.1726 751.308 L79.1726 732.859 M77.9457 728.785 L83.8253 728.785 L83.8253 751.308 L88.7559 751.308 L88.7559 755.197 L83.8253 755.197 L83.8253 763.345 L79.1726 763.345 L79.1726 755.197 L63.5708 755.197 L63.5708 750.683 L77.9457 728.785 Z\" fill=\"#000000\" fill-rule=\"evenodd\" fill-opacity=\"1\" /><path clip-path=\"url(#clip560)\" d=\"M 0 0 M107.992 744.711 Q111.348 745.428 113.223 747.697 Q115.121 749.965 115.121 753.299 Q115.121 758.414 111.603 761.215 Q108.084 764.016 101.603 764.016 Q99.4271 764.016 97.1123 763.576 Q94.8207 763.16 92.367 762.303 L92.367 757.789 Q94.3114 758.923 96.6262 759.502 Q98.941 760.081 101.464 760.081 Q105.862 760.081 108.154 758.345 Q110.469 756.609 110.469 753.299 Q110.469 750.243 108.316 748.53 Q106.186 746.794 102.367 746.794 L98.3392 746.794 L98.3392 742.951 L102.552 742.951 Q106.001 742.951 107.83 741.586 Q109.659 740.197 109.659 737.604 Q109.659 734.942 107.76 733.53 Q105.885 732.095 102.367 732.095 Q100.446 732.095 98.2466 732.512 Q96.0475 732.928 93.4086 733.808 L93.4086 729.641 Q96.0707 728.9 98.3855 728.53 Q100.723 728.16 102.784 728.16 Q108.108 728.16 111.209 730.59 Q114.311 732.998 114.311 737.118 Q114.311 739.988 112.668 741.979 Q111.024 743.947 107.992 744.711 Z\" fill=\"#000000\" fill-rule=\"evenodd\" fill-opacity=\"1\" /><path clip-path=\"url(#clip560)\" d=\"M 0 0 M120.191 757.465 L125.075 757.465 L125.075 763.345 L120.191 763.345 L120.191 757.465 Z\" fill=\"#000000\" fill-rule=\"evenodd\" fill-opacity=\"1\" /><path clip-path=\"url(#clip560)\" d=\"M 0 0 M140.723 744.201 Q137.575 744.201 135.723 746.354 Q133.895 748.507 133.895 752.257 Q133.895 755.984 135.723 758.16 Q137.575 760.312 140.723 760.312 Q143.871 760.312 145.7 758.16 Q147.552 755.984 147.552 752.257 Q147.552 748.507 145.7 746.354 Q143.871 744.201 140.723 744.201 M150.006 729.549 L150.006 733.808 Q148.246 732.975 146.441 732.535 Q144.658 732.095 142.899 732.095 Q138.27 732.095 135.816 735.22 Q133.385 738.345 133.038 744.664 Q134.404 742.65 136.464 741.586 Q138.524 740.498 141.001 740.498 Q146.209 740.498 149.219 743.669 Q152.251 746.817 152.251 752.257 Q152.251 757.581 149.103 760.798 Q145.955 764.016 140.723 764.016 Q134.728 764.016 131.557 759.433 Q128.385 754.826 128.385 746.099 Q128.385 737.905 132.274 733.044 Q136.163 728.16 142.714 728.16 Q144.473 728.16 146.256 728.507 Q148.061 728.854 150.006 729.549 Z\" fill=\"#000000\" fill-rule=\"evenodd\" fill-opacity=\"1\" /><path clip-path=\"url(#clip560)\" d=\"M 0 0 M167.32 746.933 Q163.987 746.933 162.066 748.715 Q160.168 750.498 160.168 753.623 Q160.168 756.748 162.066 758.53 Q163.987 760.312 167.32 760.312 Q170.654 760.312 172.575 758.53 Q174.496 756.724 174.496 753.623 Q174.496 750.498 172.575 748.715 Q170.677 746.933 167.32 746.933 M162.644 744.942 Q159.635 744.201 157.945 742.141 Q156.279 740.081 156.279 737.118 Q156.279 732.975 159.218 730.567 Q162.181 728.16 167.32 728.16 Q172.482 728.16 175.422 730.567 Q178.362 732.975 178.362 737.118 Q178.362 740.081 176.672 742.141 Q175.005 744.201 172.019 744.942 Q175.399 745.729 177.274 748.021 Q179.172 750.312 179.172 753.623 Q179.172 758.646 176.093 761.331 Q173.038 764.016 167.32 764.016 Q161.603 764.016 158.524 761.331 Q155.468 758.646 155.468 753.623 Q155.468 750.312 157.367 748.021 Q159.265 745.729 162.644 744.942 M160.931 737.558 Q160.931 740.243 162.598 741.748 Q164.288 743.252 167.32 743.252 Q170.33 743.252 172.019 741.748 Q173.732 740.243 173.732 737.558 Q173.732 734.873 172.019 733.368 Q170.33 731.863 167.32 731.863 Q164.288 731.863 162.598 733.368 Q160.931 734.873 160.931 737.558 Z\" fill=\"#000000\" fill-rule=\"evenodd\" fill-opacity=\"1\" /><path clip-path=\"url(#clip560)\" d=\"M 0 0 M80.1448 458.772 L68.3393 477.221 L80.1448 477.221 L80.1448 458.772 M78.918 454.698 L84.7976 454.698 L84.7976 477.221 L89.7281 477.221 L89.7281 481.11 L84.7976 481.11 L84.7976 489.258 L80.1448 489.258 L80.1448 481.11 L64.543 481.11 L64.543 476.596 L78.918 454.698 Z\" fill=\"#000000\" fill-rule=\"evenodd\" fill-opacity=\"1\" /><path clip-path=\"url(#clip560)\" d=\"M 0 0 M108.964 470.624 Q112.321 471.342 114.196 473.61 Q116.094 475.879 116.094 479.212 Q116.094 484.328 112.575 487.129 Q109.057 489.93 102.575 489.93 Q100.399 489.93 98.0845 489.49 Q95.7929 489.073 93.3392 488.217 L93.3392 483.703 Q95.2836 484.837 97.5984 485.416 Q99.9132 485.994 102.436 485.994 Q106.834 485.994 109.126 484.258 Q111.441 482.522 111.441 479.212 Q111.441 476.156 109.288 474.444 Q107.159 472.707 103.339 472.707 L99.3114 472.707 L99.3114 468.865 L103.524 468.865 Q106.973 468.865 108.802 467.499 Q110.631 466.11 110.631 463.518 Q110.631 460.856 108.733 459.444 Q106.858 458.008 103.339 458.008 Q101.418 458.008 99.2188 458.425 Q97.0197 458.842 94.3808 459.721 L94.3808 455.555 Q97.0429 454.814 99.3577 454.444 Q101.696 454.073 103.756 454.073 Q109.08 454.073 112.182 456.504 Q115.284 458.911 115.284 463.032 Q115.284 465.902 113.64 467.893 Q111.996 469.86 108.964 470.624 Z\" fill=\"#000000\" fill-rule=\"evenodd\" fill-opacity=\"1\" /><path clip-path=\"url(#clip560)\" d=\"M 0 0 M121.163 483.379 L126.047 483.379 L126.047 489.258 L121.163 489.258 L121.163 483.379 Z\" fill=\"#000000\" fill-rule=\"evenodd\" fill-opacity=\"1\" /><path clip-path=\"url(#clip560)\" d=\"M 0 0 M129.936 454.698 L152.158 454.698 L152.158 456.689 L139.612 489.258 L134.728 489.258 L146.533 458.633 L129.936 458.633 L129.936 454.698 Z\" fill=\"#000000\" fill-rule=\"evenodd\" fill-opacity=\"1\" /><path clip-path=\"url(#clip560)\" d=\"M 0 0 M167.228 457.777 Q163.617 457.777 161.788 461.342 Q159.982 464.883 159.982 472.013 Q159.982 479.119 161.788 482.684 Q163.617 486.226 167.228 486.226 Q170.862 486.226 172.667 482.684 Q174.496 479.119 174.496 472.013 Q174.496 464.883 172.667 461.342 Q170.862 457.777 167.228 457.777 M167.228 454.073 Q173.038 454.073 176.093 458.68 Q179.172 463.263 179.172 472.013 Q179.172 480.74 176.093 485.346 Q173.038 489.93 167.228 489.93 Q161.418 489.93 158.339 485.346 Q155.283 480.74 155.283 472.013 Q155.283 463.263 158.339 458.68 Q161.418 454.073 167.228 454.073 Z\" fill=\"#000000\" fill-rule=\"evenodd\" fill-opacity=\"1\" /><path clip-path=\"url(#clip560)\" d=\"M 0 0 M81.742 184.686 L69.9365 203.135 L81.742 203.135 L81.742 184.686 M80.5152 180.612 L86.3948 180.612 L86.3948 203.135 L91.3253 203.135 L91.3253 207.024 L86.3948 207.024 L86.3948 215.172 L81.742 215.172 L81.742 207.024 L66.1403 207.024 L66.1403 202.51 L80.5152 180.612 Z\" fill=\"#000000\" fill-rule=\"evenodd\" fill-opacity=\"1\" /><path clip-path=\"url(#clip560)\" d=\"M 0 0 M110.561 196.538 Q113.918 197.255 115.793 199.524 Q117.691 201.792 117.691 205.126 Q117.691 210.241 114.172 213.042 Q110.654 215.843 104.172 215.843 Q101.997 215.843 99.6817 215.403 Q97.3901 214.987 94.9364 214.13 L94.9364 209.616 Q96.8808 210.751 99.1956 211.329 Q101.51 211.908 104.034 211.908 Q108.432 211.908 110.723 210.172 Q113.038 208.436 113.038 205.126 Q113.038 202.07 110.885 200.357 Q108.756 198.621 104.936 198.621 L100.909 198.621 L100.909 194.778 L105.122 194.778 Q108.571 194.778 110.399 193.413 Q112.228 192.024 112.228 189.431 Q112.228 186.769 110.33 185.357 Q108.455 183.922 104.936 183.922 Q103.015 183.922 100.816 184.339 Q98.6169 184.755 95.9781 185.635 L95.9781 181.468 Q98.6401 180.728 100.955 180.357 Q103.293 179.987 105.353 179.987 Q110.677 179.987 113.779 182.417 Q116.881 184.825 116.881 188.945 Q116.881 191.815 115.237 193.806 Q113.594 195.774 110.561 196.538 Z\" fill=\"#000000\" fill-rule=\"evenodd\" fill-opacity=\"1\" /><path clip-path=\"url(#clip560)\" d=\"M 0 0 M122.76 209.292 L127.645 209.292 L127.645 215.172 L122.76 215.172 L122.76 209.292 Z\" fill=\"#000000\" fill-rule=\"evenodd\" fill-opacity=\"1\" /><path clip-path=\"url(#clip560)\" d=\"M 0 0 M131.533 180.612 L153.756 180.612 L153.756 182.603 L141.209 215.172 L136.325 215.172 L148.131 184.547 L131.533 184.547 L131.533 180.612 Z\" fill=\"#000000\" fill-rule=\"evenodd\" fill-opacity=\"1\" /><path clip-path=\"url(#clip560)\" d=\"M 0 0 M162.853 211.237 L179.172 211.237 L179.172 215.172 L157.228 215.172 L157.228 211.237 Q159.89 208.482 164.473 203.852 Q169.08 199.2 170.26 197.857 Q172.505 195.334 173.385 193.598 Q174.288 191.839 174.288 190.149 Q174.288 187.394 172.343 185.658 Q170.422 183.922 167.32 183.922 Q165.121 183.922 162.668 184.686 Q160.237 185.45 157.459 187.001 L157.459 182.278 Q160.283 181.144 162.737 180.566 Q165.191 179.987 167.228 179.987 Q172.598 179.987 175.792 182.672 Q178.987 185.357 178.987 189.848 Q178.987 191.977 178.177 193.899 Q177.39 195.797 175.283 198.389 Q174.704 199.061 171.603 202.278 Q168.501 205.473 162.853 211.237 Z\" fill=\"#000000\" fill-rule=\"evenodd\" fill-opacity=\"1\" /><circle clip-path=\"url(#clip562)\" cx=\"1575.71\" cy=\"1098.82\" r=\"14\" fill=\"#009af9\" fill-rule=\"evenodd\" fill-opacity=\"1\" stroke=\"#000000\" stroke-opacity=\"1\" stroke-width=\"3.2\"/>\n",
       "<circle clip-path=\"url(#clip562)\" cx=\"1269.98\" cy=\"988.611\" r=\"14\" fill=\"#009af9\" fill-rule=\"evenodd\" fill-opacity=\"1\" stroke=\"#000000\" stroke-opacity=\"1\" stroke-width=\"3.2\"/>\n",
       "<circle clip-path=\"url(#clip562)\" cx=\"1381.82\" cy=\"1059.05\" r=\"14\" fill=\"#009af9\" fill-rule=\"evenodd\" fill-opacity=\"1\" stroke=\"#000000\" stroke-opacity=\"1\" stroke-width=\"3.2\"/>\n",
       "<circle clip-path=\"url(#clip562)\" cx=\"1419.11\" cy=\"1136.72\" r=\"14\" fill=\"#009af9\" fill-rule=\"evenodd\" fill-opacity=\"1\" stroke=\"#000000\" stroke-opacity=\"1\" stroke-width=\"3.2\"/>\n",
       "<circle clip-path=\"url(#clip562)\" cx=\"2291.92\" cy=\"795.984\" r=\"14\" fill=\"#009af9\" fill-rule=\"evenodd\" fill-opacity=\"1\" stroke=\"#000000\" stroke-opacity=\"1\" stroke-width=\"3.2\"/>\n",
       "<circle clip-path=\"url(#clip562)\" cx=\"1441.47\" cy=\"1228.86\" r=\"14\" fill=\"#009af9\" fill-rule=\"evenodd\" fill-opacity=\"1\" stroke=\"#000000\" stroke-opacity=\"1\" stroke-width=\"3.2\"/>\n",
       "<circle clip-path=\"url(#clip562)\" cx=\"1292.35\" cy=\"1048.21\" r=\"14\" fill=\"#009af9\" fill-rule=\"evenodd\" fill-opacity=\"1\" stroke=\"#000000\" stroke-opacity=\"1\" stroke-width=\"3.2\"/>\n",
       "<circle clip-path=\"url(#clip562)\" cx=\"919.638\" cy=\"889.385\" r=\"14\" fill=\"#009af9\" fill-rule=\"evenodd\" fill-opacity=\"1\" stroke=\"#000000\" stroke-opacity=\"1\" stroke-width=\"3.2\"/>\n",
       "<circle clip-path=\"url(#clip562)\" cx=\"1322.17\" cy=\"1149.37\" r=\"14\" fill=\"#009af9\" fill-rule=\"evenodd\" fill-opacity=\"1\" stroke=\"#000000\" stroke-opacity=\"1\" stroke-width=\"3.2\"/>\n",
       "<circle clip-path=\"url(#clip562)\" cx=\"710.981\" cy=\"896.742\" r=\"14\" fill=\"#009af9\" fill-rule=\"evenodd\" fill-opacity=\"1\" stroke=\"#000000\" stroke-opacity=\"1\" stroke-width=\"3.2\"/>\n",
       "<circle clip-path=\"url(#clip562)\" cx=\"1352\" cy=\"1283.06\" r=\"14\" fill=\"#009af9\" fill-rule=\"evenodd\" fill-opacity=\"1\" stroke=\"#000000\" stroke-opacity=\"1\" stroke-width=\"3.2\"/>\n",
       "<circle clip-path=\"url(#clip562)\" cx=\"949.45\" cy=\"1185.61\" r=\"14\" fill=\"#009af9\" fill-rule=\"evenodd\" fill-opacity=\"1\" stroke=\"#000000\" stroke-opacity=\"1\" stroke-width=\"3.2\"/>\n",
       "<circle clip-path=\"url(#clip562)\" cx=\"1665.21\" cy=\"752.134\" r=\"14\" fill=\"#009af9\" fill-rule=\"evenodd\" fill-opacity=\"1\" stroke=\"#000000\" stroke-opacity=\"1\" stroke-width=\"3.2\"/>\n",
       "<circle clip-path=\"url(#clip562)\" cx=\"1353.86\" cy=\"1195.88\" r=\"14\" fill=\"#009af9\" fill-rule=\"evenodd\" fill-opacity=\"1\" stroke=\"#000000\" stroke-opacity=\"1\" stroke-width=\"3.2\"/>\n",
       "<circle clip-path=\"url(#clip562)\" cx=\"860.018\" cy=\"1337.44\" r=\"14\" fill=\"#009af9\" fill-rule=\"evenodd\" fill-opacity=\"1\" stroke=\"#000000\" stroke-opacity=\"1\" stroke-width=\"3.2\"/>\n",
       "<circle clip-path=\"url(#clip562)\" cx=\"2053.12\" cy=\"896.833\" r=\"14\" fill=\"#009af9\" fill-rule=\"evenodd\" fill-opacity=\"1\" stroke=\"#000000\" stroke-opacity=\"1\" stroke-width=\"3.2\"/>\n",
       "<circle clip-path=\"url(#clip562)\" cx=\"1372.5\" cy=\"1181.88\" r=\"14\" fill=\"#009af9\" fill-rule=\"evenodd\" fill-opacity=\"1\" stroke=\"#000000\" stroke-opacity=\"1\" stroke-width=\"3.2\"/>\n",
       "<circle clip-path=\"url(#clip562)\" cx=\"1784.55\" cy=\"1026.65\" r=\"14\" fill=\"#009af9\" fill-rule=\"evenodd\" fill-opacity=\"1\" stroke=\"#000000\" stroke-opacity=\"1\" stroke-width=\"3.2\"/>\n",
       "<circle clip-path=\"url(#clip562)\" cx=\"1277.44\" cy=\"87.9763\" r=\"14\" fill=\"#009af9\" fill-rule=\"evenodd\" fill-opacity=\"1\" stroke=\"#000000\" stroke-opacity=\"1\" stroke-width=\"3.2\"/>\n",
       "<circle clip-path=\"url(#clip562)\" cx=\"979.263\" cy=\"311.709\" r=\"14\" fill=\"#009af9\" fill-rule=\"evenodd\" fill-opacity=\"1\" stroke=\"#000000\" stroke-opacity=\"1\" stroke-width=\"3.2\"/>\n",
       "<circle clip-path=\"url(#clip562)\" cx=\"1262.53\" cy=\"297.233\" r=\"14\" fill=\"#009af9\" fill-rule=\"evenodd\" fill-opacity=\"1\" stroke=\"#000000\" stroke-opacity=\"1\" stroke-width=\"3.2\"/>\n",
       "<circle clip-path=\"url(#clip562)\" cx=\"1038.89\" cy=\"513.809\" r=\"14\" fill=\"#009af9\" fill-rule=\"evenodd\" fill-opacity=\"1\" stroke=\"#000000\" stroke-opacity=\"1\" stroke-width=\"3.2\"/>\n",
       "<circle clip-path=\"url(#clip562)\" cx=\"472.571\" cy=\"998.111\" r=\"14\" fill=\"#009af9\" fill-rule=\"evenodd\" fill-opacity=\"1\" stroke=\"#000000\" stroke-opacity=\"1\" stroke-width=\"3.2\"/>\n",
       "<circle clip-path=\"url(#clip562)\" cx=\"1098.52\" cy=\"261.159\" r=\"14\" fill=\"#009af9\" fill-rule=\"evenodd\" fill-opacity=\"1\" stroke=\"#000000\" stroke-opacity=\"1\" stroke-width=\"3.2\"/>\n",
       "<circle clip-path=\"url(#clip562)\" cx=\"1098.52\" cy=\"845.973\" r=\"14\" fill=\"#009af9\" fill-rule=\"evenodd\" fill-opacity=\"1\" stroke=\"#000000\" stroke-opacity=\"1\" stroke-width=\"3.2\"/>\n",
       "<circle clip-path=\"url(#clip562)\" cx=\"561.967\" cy=\"1171.45\" r=\"14\" fill=\"#009af9\" fill-rule=\"evenodd\" fill-opacity=\"1\" stroke=\"#000000\" stroke-opacity=\"1\" stroke-width=\"3.2\"/>\n",
       "<circle clip-path=\"url(#clip562)\" cx=\"1277.44\" cy=\"412.715\" r=\"14\" fill=\"#009af9\" fill-rule=\"evenodd\" fill-opacity=\"1\" stroke=\"#000000\" stroke-opacity=\"1\" stroke-width=\"3.2\"/>\n",
       "<circle clip-path=\"url(#clip562)\" cx=\"1158.16\" cy=\"983.21\" r=\"14\" fill=\"#009af9\" fill-rule=\"evenodd\" fill-opacity=\"1\" stroke=\"#000000\" stroke-opacity=\"1\" stroke-width=\"3.2\"/>\n",
       "<circle clip-path=\"url(#clip562)\" cx=\"264.009\" cy=\"1135.67\" r=\"14\" fill=\"#009af9\" fill-rule=\"evenodd\" fill-opacity=\"1\" stroke=\"#000000\" stroke-opacity=\"1\" stroke-width=\"3.2\"/>\n",
       "<circle clip-path=\"url(#clip562)\" cx=\"1337.09\" cy=\"614.855\" r=\"14\" fill=\"#009af9\" fill-rule=\"evenodd\" fill-opacity=\"1\" stroke=\"#000000\" stroke-opacity=\"1\" stroke-width=\"3.2\"/>\n",
       "<circle clip-path=\"url(#clip562)\" cx=\"1158.16\" cy=\"1113.26\" r=\"14\" fill=\"#009af9\" fill-rule=\"evenodd\" fill-opacity=\"1\" stroke=\"#000000\" stroke-opacity=\"1\" stroke-width=\"3.2\"/>\n",
       "<circle clip-path=\"url(#clip562)\" cx=\"1158.16\" cy=\"658.189\" r=\"14\" fill=\"#009af9\" fill-rule=\"evenodd\" fill-opacity=\"1\" stroke=\"#000000\" stroke-opacity=\"1\" stroke-width=\"3.2\"/>\n",
       "<circle clip-path=\"url(#clip562)\" cx=\"1217.8\" cy=\"1445.72\" r=\"14\" fill=\"#009af9\" fill-rule=\"evenodd\" fill-opacity=\"1\" stroke=\"#000000\" stroke-opacity=\"1\" stroke-width=\"3.2\"/>\n",
       "<circle clip-path=\"url(#clip562)\" cx=\"1396.74\" cy=\"752.059\" r=\"14\" fill=\"#009af9\" fill-rule=\"evenodd\" fill-opacity=\"1\" stroke=\"#000000\" stroke-opacity=\"1\" stroke-width=\"3.2\"/>\n",
       "<circle clip-path=\"url(#clip562)\" cx=\"1425.16\" cy=\"1206.05\" r=\"14\" fill=\"#009af9\" fill-rule=\"evenodd\" fill-opacity=\"1\" stroke=\"#000000\" stroke-opacity=\"1\" stroke-width=\"3.2\"/>\n",
       "<circle clip-path=\"url(#clip562)\" cx=\"1501.13\" cy=\"910.969\" r=\"14\" fill=\"#009af9\" fill-rule=\"evenodd\" fill-opacity=\"1\" stroke=\"#000000\" stroke-opacity=\"1\" stroke-width=\"3.2\"/>\n",
       "<circle clip-path=\"url(#clip562)\" cx=\"1346.41\" cy=\"1178.72\" r=\"14\" fill=\"#009af9\" fill-rule=\"evenodd\" fill-opacity=\"1\" stroke=\"#000000\" stroke-opacity=\"1\" stroke-width=\"3.2\"/>\n",
       "<circle clip-path=\"url(#clip562)\" cx=\"1337.09\" cy=\"939.845\" r=\"14\" fill=\"#009af9\" fill-rule=\"evenodd\" fill-opacity=\"1\" stroke=\"#000000\" stroke-opacity=\"1\" stroke-width=\"3.2\"/>\n",
       "<circle clip-path=\"url(#clip562)\" cx=\"1989.7\" cy=\"982.548\" r=\"14\" fill=\"#009af9\" fill-rule=\"evenodd\" fill-opacity=\"1\" stroke=\"#000000\" stroke-opacity=\"1\" stroke-width=\"3.2\"/>\n",
       "<path clip-path=\"url(#clip560)\" d=\"\n",
       "M1991.24 216.178 L2281.1 216.178 L2281.1 95.2176 L1991.24 95.2176  Z\n",
       "  \" fill=\"#ffffff\" fill-rule=\"evenodd\" fill-opacity=\"1\"/>\n",
       "<polyline clip-path=\"url(#clip560)\" style=\"stroke:#000000; stroke-width:4; stroke-opacity:1; fill:none\" points=\"\n",
       "  1991.24,216.178 2281.1,216.178 2281.1,95.2176 1991.24,95.2176 1991.24,216.178 \n",
       "  \"/>\n",
       "<circle clip-path=\"url(#clip560)\" cx=\"2086.78\" cy=\"155.698\" r=\"23\" fill=\"#009af9\" fill-rule=\"evenodd\" fill-opacity=\"1\" stroke=\"#000000\" stroke-opacity=\"1\" stroke-width=\"5.12\"/>\n",
       "<circle clip-path=\"url(#clip560)\" cx=\"2086.78\" cy=\"155.698\" r=\"23\" fill=\"#009af9\" fill-rule=\"evenodd\" fill-opacity=\"1\" stroke=\"#000000\" stroke-opacity=\"1\" stroke-width=\"5.12\"/>\n",
       "<circle clip-path=\"url(#clip560)\" cx=\"2086.78\" cy=\"155.698\" r=\"23\" fill=\"#009af9\" fill-rule=\"evenodd\" fill-opacity=\"1\" stroke=\"#000000\" stroke-opacity=\"1\" stroke-width=\"5.12\"/>\n",
       "<circle clip-path=\"url(#clip560)\" cx=\"2086.78\" cy=\"155.698\" r=\"23\" fill=\"#009af9\" fill-rule=\"evenodd\" fill-opacity=\"1\" stroke=\"#000000\" stroke-opacity=\"1\" stroke-width=\"5.12\"/>\n",
       "<circle clip-path=\"url(#clip560)\" cx=\"2086.78\" cy=\"155.698\" r=\"23\" fill=\"#009af9\" fill-rule=\"evenodd\" fill-opacity=\"1\" stroke=\"#000000\" stroke-opacity=\"1\" stroke-width=\"5.12\"/>\n",
       "<circle clip-path=\"url(#clip560)\" cx=\"2086.78\" cy=\"155.698\" r=\"23\" fill=\"#009af9\" fill-rule=\"evenodd\" fill-opacity=\"1\" stroke=\"#000000\" stroke-opacity=\"1\" stroke-width=\"5.12\"/>\n",
       "<circle clip-path=\"url(#clip560)\" cx=\"2086.78\" cy=\"155.698\" r=\"23\" fill=\"#009af9\" fill-rule=\"evenodd\" fill-opacity=\"1\" stroke=\"#000000\" stroke-opacity=\"1\" stroke-width=\"5.12\"/>\n",
       "<circle clip-path=\"url(#clip560)\" cx=\"2086.78\" cy=\"155.698\" r=\"23\" fill=\"#009af9\" fill-rule=\"evenodd\" fill-opacity=\"1\" stroke=\"#000000\" stroke-opacity=\"1\" stroke-width=\"5.12\"/>\n",
       "<circle clip-path=\"url(#clip560)\" cx=\"2086.78\" cy=\"155.698\" r=\"23\" fill=\"#009af9\" fill-rule=\"evenodd\" fill-opacity=\"1\" stroke=\"#000000\" stroke-opacity=\"1\" stroke-width=\"5.12\"/>\n",
       "<circle clip-path=\"url(#clip560)\" cx=\"2086.78\" cy=\"155.698\" r=\"23\" fill=\"#009af9\" fill-rule=\"evenodd\" fill-opacity=\"1\" stroke=\"#000000\" stroke-opacity=\"1\" stroke-width=\"5.12\"/>\n",
       "<circle clip-path=\"url(#clip560)\" cx=\"2086.78\" cy=\"155.698\" r=\"23\" fill=\"#009af9\" fill-rule=\"evenodd\" fill-opacity=\"1\" stroke=\"#000000\" stroke-opacity=\"1\" stroke-width=\"5.12\"/>\n",
       "<circle clip-path=\"url(#clip560)\" cx=\"2086.78\" cy=\"155.698\" r=\"23\" fill=\"#009af9\" fill-rule=\"evenodd\" fill-opacity=\"1\" stroke=\"#000000\" stroke-opacity=\"1\" stroke-width=\"5.12\"/>\n",
       "<circle clip-path=\"url(#clip560)\" cx=\"2086.78\" cy=\"155.698\" r=\"23\" fill=\"#009af9\" fill-rule=\"evenodd\" fill-opacity=\"1\" stroke=\"#000000\" stroke-opacity=\"1\" stroke-width=\"5.12\"/>\n",
       "<circle clip-path=\"url(#clip560)\" cx=\"2086.78\" cy=\"155.698\" r=\"23\" fill=\"#009af9\" fill-rule=\"evenodd\" fill-opacity=\"1\" stroke=\"#000000\" stroke-opacity=\"1\" stroke-width=\"5.12\"/>\n",
       "<circle clip-path=\"url(#clip560)\" cx=\"2086.78\" cy=\"155.698\" r=\"23\" fill=\"#009af9\" fill-rule=\"evenodd\" fill-opacity=\"1\" stroke=\"#000000\" stroke-opacity=\"1\" stroke-width=\"5.12\"/>\n",
       "<circle clip-path=\"url(#clip560)\" cx=\"2086.78\" cy=\"155.698\" r=\"23\" fill=\"#009af9\" fill-rule=\"evenodd\" fill-opacity=\"1\" stroke=\"#000000\" stroke-opacity=\"1\" stroke-width=\"5.12\"/>\n",
       "<circle clip-path=\"url(#clip560)\" cx=\"2086.78\" cy=\"155.698\" r=\"23\" fill=\"#009af9\" fill-rule=\"evenodd\" fill-opacity=\"1\" stroke=\"#000000\" stroke-opacity=\"1\" stroke-width=\"5.12\"/>\n",
       "<circle clip-path=\"url(#clip560)\" cx=\"2086.78\" cy=\"155.698\" r=\"23\" fill=\"#009af9\" fill-rule=\"evenodd\" fill-opacity=\"1\" stroke=\"#000000\" stroke-opacity=\"1\" stroke-width=\"5.12\"/>\n",
       "<circle clip-path=\"url(#clip560)\" cx=\"2086.78\" cy=\"155.698\" r=\"23\" fill=\"#009af9\" fill-rule=\"evenodd\" fill-opacity=\"1\" stroke=\"#000000\" stroke-opacity=\"1\" stroke-width=\"5.12\"/>\n",
       "<circle clip-path=\"url(#clip560)\" cx=\"2086.78\" cy=\"155.698\" r=\"23\" fill=\"#009af9\" fill-rule=\"evenodd\" fill-opacity=\"1\" stroke=\"#000000\" stroke-opacity=\"1\" stroke-width=\"5.12\"/>\n",
       "<circle clip-path=\"url(#clip560)\" cx=\"2086.78\" cy=\"155.698\" r=\"23\" fill=\"#009af9\" fill-rule=\"evenodd\" fill-opacity=\"1\" stroke=\"#000000\" stroke-opacity=\"1\" stroke-width=\"5.12\"/>\n",
       "<circle clip-path=\"url(#clip560)\" cx=\"2086.78\" cy=\"155.698\" r=\"23\" fill=\"#009af9\" fill-rule=\"evenodd\" fill-opacity=\"1\" stroke=\"#000000\" stroke-opacity=\"1\" stroke-width=\"5.12\"/>\n",
       "<circle clip-path=\"url(#clip560)\" cx=\"2086.78\" cy=\"155.698\" r=\"23\" fill=\"#009af9\" fill-rule=\"evenodd\" fill-opacity=\"1\" stroke=\"#000000\" stroke-opacity=\"1\" stroke-width=\"5.12\"/>\n",
       "<circle clip-path=\"url(#clip560)\" cx=\"2086.78\" cy=\"155.698\" r=\"23\" fill=\"#009af9\" fill-rule=\"evenodd\" fill-opacity=\"1\" stroke=\"#000000\" stroke-opacity=\"1\" stroke-width=\"5.12\"/>\n",
       "<circle clip-path=\"url(#clip560)\" cx=\"2086.78\" cy=\"155.698\" r=\"23\" fill=\"#009af9\" fill-rule=\"evenodd\" fill-opacity=\"1\" stroke=\"#000000\" stroke-opacity=\"1\" stroke-width=\"5.12\"/>\n",
       "<circle clip-path=\"url(#clip560)\" cx=\"2086.78\" cy=\"155.698\" r=\"23\" fill=\"#009af9\" fill-rule=\"evenodd\" fill-opacity=\"1\" stroke=\"#000000\" stroke-opacity=\"1\" stroke-width=\"5.12\"/>\n",
       "<circle clip-path=\"url(#clip560)\" cx=\"2086.78\" cy=\"155.698\" r=\"23\" fill=\"#009af9\" fill-rule=\"evenodd\" fill-opacity=\"1\" stroke=\"#000000\" stroke-opacity=\"1\" stroke-width=\"5.12\"/>\n",
       "<circle clip-path=\"url(#clip560)\" cx=\"2086.78\" cy=\"155.698\" r=\"23\" fill=\"#009af9\" fill-rule=\"evenodd\" fill-opacity=\"1\" stroke=\"#000000\" stroke-opacity=\"1\" stroke-width=\"5.12\"/>\n",
       "<circle clip-path=\"url(#clip560)\" cx=\"2086.78\" cy=\"155.698\" r=\"23\" fill=\"#009af9\" fill-rule=\"evenodd\" fill-opacity=\"1\" stroke=\"#000000\" stroke-opacity=\"1\" stroke-width=\"5.12\"/>\n",
       "<circle clip-path=\"url(#clip560)\" cx=\"2086.78\" cy=\"155.698\" r=\"23\" fill=\"#009af9\" fill-rule=\"evenodd\" fill-opacity=\"1\" stroke=\"#000000\" stroke-opacity=\"1\" stroke-width=\"5.12\"/>\n",
       "<circle clip-path=\"url(#clip560)\" cx=\"2086.78\" cy=\"155.698\" r=\"23\" fill=\"#009af9\" fill-rule=\"evenodd\" fill-opacity=\"1\" stroke=\"#000000\" stroke-opacity=\"1\" stroke-width=\"5.12\"/>\n",
       "<circle clip-path=\"url(#clip560)\" cx=\"2086.78\" cy=\"155.698\" r=\"23\" fill=\"#009af9\" fill-rule=\"evenodd\" fill-opacity=\"1\" stroke=\"#000000\" stroke-opacity=\"1\" stroke-width=\"5.12\"/>\n",
       "<circle clip-path=\"url(#clip560)\" cx=\"2086.78\" cy=\"155.698\" r=\"23\" fill=\"#009af9\" fill-rule=\"evenodd\" fill-opacity=\"1\" stroke=\"#000000\" stroke-opacity=\"1\" stroke-width=\"5.12\"/>\n",
       "<circle clip-path=\"url(#clip560)\" cx=\"2086.78\" cy=\"155.698\" r=\"23\" fill=\"#009af9\" fill-rule=\"evenodd\" fill-opacity=\"1\" stroke=\"#000000\" stroke-opacity=\"1\" stroke-width=\"5.12\"/>\n",
       "<circle clip-path=\"url(#clip560)\" cx=\"2086.78\" cy=\"155.698\" r=\"23\" fill=\"#009af9\" fill-rule=\"evenodd\" fill-opacity=\"1\" stroke=\"#000000\" stroke-opacity=\"1\" stroke-width=\"5.12\"/>\n",
       "<circle clip-path=\"url(#clip560)\" cx=\"2086.78\" cy=\"155.698\" r=\"23\" fill=\"#009af9\" fill-rule=\"evenodd\" fill-opacity=\"1\" stroke=\"#000000\" stroke-opacity=\"1\" stroke-width=\"5.12\"/>\n",
       "<circle clip-path=\"url(#clip560)\" cx=\"2086.78\" cy=\"155.698\" r=\"23\" fill=\"#009af9\" fill-rule=\"evenodd\" fill-opacity=\"1\" stroke=\"#000000\" stroke-opacity=\"1\" stroke-width=\"5.12\"/>\n",
       "<circle clip-path=\"url(#clip560)\" cx=\"2086.78\" cy=\"155.698\" r=\"23\" fill=\"#009af9\" fill-rule=\"evenodd\" fill-opacity=\"1\" stroke=\"#000000\" stroke-opacity=\"1\" stroke-width=\"5.12\"/>\n",
       "<circle clip-path=\"url(#clip560)\" cx=\"2086.78\" cy=\"155.698\" r=\"23\" fill=\"#009af9\" fill-rule=\"evenodd\" fill-opacity=\"1\" stroke=\"#000000\" stroke-opacity=\"1\" stroke-width=\"5.12\"/>\n",
       "<path clip-path=\"url(#clip560)\" d=\"M 0 0 M2196.16 175.385 Q2194.35 180.015 2192.64 181.427 Q2190.93 182.839 2188.06 182.839 L2184.65 182.839 L2184.65 179.274 L2187.15 179.274 Q2188.91 179.274 2189.89 178.44 Q2190.86 177.607 2192.04 174.505 L2192.8 172.561 L2182.32 147.052 L2186.83 147.052 L2194.93 167.329 L2203.03 147.052 L2207.55 147.052 L2196.16 175.385 Z\" fill=\"#000000\" fill-rule=\"evenodd\" fill-opacity=\"1\" /><path clip-path=\"url(#clip560)\" d=\"M 0 0 M2213.43 169.042 L2221.07 169.042 L2221.07 142.677 L2212.76 144.343 L2212.76 140.084 L2221.02 138.418 L2225.7 138.418 L2225.7 169.042 L2233.33 169.042 L2233.33 172.978 L2213.43 172.978 L2213.43 169.042 Z\" fill=\"#000000\" fill-rule=\"evenodd\" fill-opacity=\"1\" /></svg>\n"
      ]
     },
     "execution_count": 81,
     "metadata": {},
     "output_type": "execute_result"
    }
   ],
   "source": [
    "scatter(toronto_df[:Longitude], toronto_df[:Latitude])"
   ]
  },
  {
   "cell_type": "code",
   "execution_count": 49,
   "metadata": {},
   "outputs": [
    {
     "data": {
      "text/plain": [
       "2×39 Array{Float64,2}:\n",
       "  43.6543   43.6623   43.6572   43.6515  …   43.6484   43.6659   43.6627\n",
       " -79.3606  -79.3895  -79.3789  -79.3754     -79.3823  -79.3832  -79.3216"
      ]
     },
     "execution_count": 49,
     "metadata": {},
     "output_type": "execute_result"
    }
   ],
   "source": [
    "# Transform into matrix, permute dimensions\n",
    "toronto_matrix = convert(Matrix, toronto_df)\n",
    "toronto_matrix_reshaped = permutedims(convert(Matrix{Float64}, toronto_matrix[:, 4:5]), [2, 1])"
   ]
  },
  {
   "cell_type": "code",
   "execution_count": 50,
   "metadata": {},
   "outputs": [
    {
     "data": {
      "text/plain": [
       "KmeansResult{Array{Float64,2},Float64,Int64}([43.65476389999999 43.66943648 43.655065657142856 43.70563855; -79.38308286842104 -79.32465436 -79.44547175714285 -79.39811351249999], [1, 1, 1, 1, 2, 1, 1, 3, 1, 3  …  4, 1, 4, 1, 1, 1, 1, 1, 1, 2], [0.0005041204058215953, 9.791545744519681e-5, 2.2937321773497388e-5, 6.944464257685468e-5, 0.0010479233824298717, 0.00019544138194760308, 2.865422356990166e-5, 0.0007343435863731429, 1.9782866729656234e-5, 0.00020462795146158896  …  0.000481670653243782, 0.000290287789539434, 0.00037339596383390017, 0.0007950561011966784, 0.0006458165298681706, 0.00013721324285143055, 0.0004117150128877256, 4.077269841218367e-5, 0.00012312714898143895, 5.437807340058498e-5], [19, 5, 7, 8], [19, 5, 7, 8], 0.01410524135644664, 5, true)"
      ]
     },
     "execution_count": 50,
     "metadata": {},
     "output_type": "execute_result"
    }
   ],
   "source": [
    "results = kmeans(toronto_matrix_reshaped, 4)"
   ]
  },
  {
   "cell_type": "code",
   "execution_count": 75,
   "metadata": {},
   "outputs": [
    {
     "data": {
      "image/svg+xml": [
       "<?xml version=\"1.0\" encoding=\"utf-8\"?>\n",
       "<svg xmlns=\"http://www.w3.org/2000/svg\" xmlns:xlink=\"http://www.w3.org/1999/xlink\" width=\"600\" height=\"400\" viewBox=\"0 0 2400 1600\">\n",
       "<defs>\n",
       "  <clipPath id=\"clip520\">\n",
       "    <rect x=\"0\" y=\"0\" width=\"2400\" height=\"1600\"/>\n",
       "  </clipPath>\n",
       "</defs>\n",
       "<path clip-path=\"url(#clip520)\" d=\"\n",
       "M0 1600 L2400 1600 L2400 0 L0 0  Z\n",
       "  \" fill=\"#ffffff\" fill-rule=\"evenodd\" fill-opacity=\"1\"/>\n",
       "<defs>\n",
       "  <clipPath id=\"clip521\">\n",
       "    <rect x=\"480\" y=\"0\" width=\"1681\" height=\"1600\"/>\n",
       "  </clipPath>\n",
       "</defs>\n",
       "<path clip-path=\"url(#clip520)\" d=\"\n",
       "M203.172 1486.45 L2352.76 1486.45 L2352.76 47.2441 L203.172 47.2441  Z\n",
       "  \" fill=\"#ffffff\" fill-rule=\"evenodd\" fill-opacity=\"1\"/>\n",
       "<defs>\n",
       "  <clipPath id=\"clip522\">\n",
       "    <rect x=\"203\" y=\"47\" width=\"2151\" height=\"1440\"/>\n",
       "  </clipPath>\n",
       "</defs>\n",
       "<polyline clip-path=\"url(#clip522)\" style=\"stroke:#000000; stroke-width:2; stroke-opacity:0.1; fill:none\" points=\"\n",
       "  628.975,1486.45 628.975,47.2441 \n",
       "  \"/>\n",
       "<polyline clip-path=\"url(#clip522)\" style=\"stroke:#000000; stroke-width:2; stroke-opacity:0.1; fill:none\" points=\"\n",
       "  1158.68,1486.45 1158.68,47.2441 \n",
       "  \"/>\n",
       "<polyline clip-path=\"url(#clip522)\" style=\"stroke:#000000; stroke-width:2; stroke-opacity:0.1; fill:none\" points=\"\n",
       "  1688.39,1486.45 1688.39,47.2441 \n",
       "  \"/>\n",
       "<polyline clip-path=\"url(#clip522)\" style=\"stroke:#000000; stroke-width:2; stroke-opacity:0.1; fill:none\" points=\"\n",
       "  2218.09,1486.45 2218.09,47.2441 \n",
       "  \"/>\n",
       "<polyline clip-path=\"url(#clip522)\" style=\"stroke:#000000; stroke-width:2; stroke-opacity:0.1; fill:none\" points=\"\n",
       "  203.172,1294.24 2352.76,1294.24 \n",
       "  \"/>\n",
       "<polyline clip-path=\"url(#clip522)\" style=\"stroke:#000000; stroke-width:2; stroke-opacity:0.1; fill:none\" points=\"\n",
       "  203.172,1020.15 2352.76,1020.15 \n",
       "  \"/>\n",
       "<polyline clip-path=\"url(#clip522)\" style=\"stroke:#000000; stroke-width:2; stroke-opacity:0.1; fill:none\" points=\"\n",
       "  203.172,746.065 2352.76,746.065 \n",
       "  \"/>\n",
       "<polyline clip-path=\"url(#clip522)\" style=\"stroke:#000000; stroke-width:2; stroke-opacity:0.1; fill:none\" points=\"\n",
       "  203.172,471.978 2352.76,471.978 \n",
       "  \"/>\n",
       "<polyline clip-path=\"url(#clip522)\" style=\"stroke:#000000; stroke-width:2; stroke-opacity:0.1; fill:none\" points=\"\n",
       "  203.172,197.892 2352.76,197.892 \n",
       "  \"/>\n",
       "<polyline clip-path=\"url(#clip520)\" style=\"stroke:#000000; stroke-width:4; stroke-opacity:1; fill:none\" points=\"\n",
       "  203.172,1486.45 2352.76,1486.45 \n",
       "  \"/>\n",
       "<polyline clip-path=\"url(#clip520)\" style=\"stroke:#000000; stroke-width:4; stroke-opacity:1; fill:none\" points=\"\n",
       "  203.172,1486.45 203.172,47.2441 \n",
       "  \"/>\n",
       "<polyline clip-path=\"url(#clip520)\" style=\"stroke:#000000; stroke-width:4; stroke-opacity:1; fill:none\" points=\"\n",
       "  628.975,1486.45 628.975,1469.18 \n",
       "  \"/>\n",
       "<polyline clip-path=\"url(#clip520)\" style=\"stroke:#000000; stroke-width:4; stroke-opacity:1; fill:none\" points=\"\n",
       "  1158.68,1486.45 1158.68,1469.18 \n",
       "  \"/>\n",
       "<polyline clip-path=\"url(#clip520)\" style=\"stroke:#000000; stroke-width:4; stroke-opacity:1; fill:none\" points=\"\n",
       "  1688.39,1486.45 1688.39,1469.18 \n",
       "  \"/>\n",
       "<polyline clip-path=\"url(#clip520)\" style=\"stroke:#000000; stroke-width:4; stroke-opacity:1; fill:none\" points=\"\n",
       "  2218.09,1486.45 2218.09,1469.18 \n",
       "  \"/>\n",
       "<polyline clip-path=\"url(#clip520)\" style=\"stroke:#000000; stroke-width:4; stroke-opacity:1; fill:none\" points=\"\n",
       "  203.172,1294.24 228.967,1294.24 \n",
       "  \"/>\n",
       "<polyline clip-path=\"url(#clip520)\" style=\"stroke:#000000; stroke-width:4; stroke-opacity:1; fill:none\" points=\"\n",
       "  203.172,1020.15 228.967,1020.15 \n",
       "  \"/>\n",
       "<polyline clip-path=\"url(#clip520)\" style=\"stroke:#000000; stroke-width:4; stroke-opacity:1; fill:none\" points=\"\n",
       "  203.172,746.065 228.967,746.065 \n",
       "  \"/>\n",
       "<polyline clip-path=\"url(#clip520)\" style=\"stroke:#000000; stroke-width:4; stroke-opacity:1; fill:none\" points=\"\n",
       "  203.172,471.978 228.967,471.978 \n",
       "  \"/>\n",
       "<polyline clip-path=\"url(#clip520)\" style=\"stroke:#000000; stroke-width:4; stroke-opacity:1; fill:none\" points=\"\n",
       "  203.172,197.892 228.967,197.892 \n",
       "  \"/>\n",
       "<path clip-path=\"url(#clip520)\" d=\"M 0 0 M564.531 1525.04 L577.008 1525.04 L577.008 1528.83 L564.531 1528.83 L564.531 1525.04 Z\" fill=\"#000000\" fill-rule=\"evenodd\" fill-opacity=\"1\" /><path clip-path=\"url(#clip520)\" d=\"M 0 0 M580.897 1505.36 L603.119 1505.36 L603.119 1507.35 L590.573 1539.92 L585.688 1539.92 L597.494 1509.3 L580.897 1509.3 L580.897 1505.36 Z\" fill=\"#000000\" fill-rule=\"evenodd\" fill-opacity=\"1\" /><path clip-path=\"url(#clip520)\" d=\"M 0 0 M608.327 1539.2 L608.327 1534.94 Q610.086 1535.78 611.892 1536.22 Q613.697 1536.66 615.434 1536.66 Q620.063 1536.66 622.494 1533.55 Q624.947 1530.43 625.295 1524.09 Q623.952 1526.08 621.892 1527.14 Q619.832 1528.21 617.332 1528.21 Q612.146 1528.21 609.114 1525.08 Q606.105 1521.93 606.105 1516.49 Q606.105 1511.17 609.253 1507.95 Q612.401 1504.73 617.633 1504.73 Q623.628 1504.73 626.776 1509.34 Q629.947 1513.92 629.947 1522.67 Q629.947 1530.85 626.058 1535.73 Q622.193 1540.59 615.642 1540.59 Q613.883 1540.59 612.077 1540.24 Q610.271 1539.9 608.327 1539.2 M617.633 1524.55 Q620.781 1524.55 622.609 1522.4 Q624.461 1520.24 624.461 1516.49 Q624.461 1512.77 622.609 1510.61 Q620.781 1508.44 617.633 1508.44 Q614.484 1508.44 612.633 1510.61 Q610.804 1512.77 610.804 1516.49 Q610.804 1520.24 612.633 1522.4 Q614.484 1524.55 617.633 1524.55 Z\" fill=\"#000000\" fill-rule=\"evenodd\" fill-opacity=\"1\" /><path clip-path=\"url(#clip520)\" d=\"M 0 0 M635.017 1534.04 L639.901 1534.04 L639.901 1539.92 L635.017 1539.92 L635.017 1534.04 Z\" fill=\"#000000\" fill-rule=\"evenodd\" fill-opacity=\"1\" /><path clip-path=\"url(#clip520)\" d=\"M 0 0 M657.818 1509.43 L646.012 1527.88 L657.818 1527.88 L657.818 1509.43 M656.591 1505.36 L662.47 1505.36 L662.47 1527.88 L667.401 1527.88 L667.401 1531.77 L662.47 1531.77 L662.47 1539.92 L657.818 1539.92 L657.818 1531.77 L642.216 1531.77 L642.216 1527.26 L656.591 1505.36 Z\" fill=\"#000000\" fill-rule=\"evenodd\" fill-opacity=\"1\" /><path clip-path=\"url(#clip520)\" d=\"M 0 0 M672.517 1505.36 L690.873 1505.36 L690.873 1509.3 L676.799 1509.3 L676.799 1517.77 Q677.817 1517.42 678.836 1517.26 Q679.854 1517.07 680.873 1517.07 Q686.66 1517.07 690.04 1520.24 Q693.419 1523.42 693.419 1528.83 Q693.419 1534.41 689.947 1537.51 Q686.475 1540.59 680.155 1540.59 Q677.979 1540.59 675.711 1540.22 Q673.466 1539.85 671.058 1539.11 L671.058 1534.41 Q673.142 1535.54 675.364 1536.1 Q677.586 1536.66 680.063 1536.66 Q684.067 1536.66 686.405 1534.55 Q688.743 1532.44 688.743 1528.83 Q688.743 1525.22 686.405 1523.11 Q684.067 1521.01 680.063 1521.01 Q678.188 1521.01 676.313 1521.42 Q674.461 1521.84 672.517 1522.72 L672.517 1505.36 Z\" fill=\"#000000\" fill-rule=\"evenodd\" fill-opacity=\"1\" /><path clip-path=\"url(#clip520)\" d=\"M 0 0 M1093.74 1525.04 L1106.22 1525.04 L1106.22 1528.83 L1093.74 1528.83 L1093.74 1525.04 Z\" fill=\"#000000\" fill-rule=\"evenodd\" fill-opacity=\"1\" /><path clip-path=\"url(#clip520)\" d=\"M 0 0 M1110.1 1505.36 L1132.33 1505.36 L1132.33 1507.35 L1119.78 1539.92 L1114.9 1539.92 L1126.7 1509.3 L1110.1 1509.3 L1110.1 1505.36 Z\" fill=\"#000000\" fill-rule=\"evenodd\" fill-opacity=\"1\" /><path clip-path=\"url(#clip520)\" d=\"M 0 0 M1137.53 1539.2 L1137.53 1534.94 Q1139.29 1535.78 1141.1 1536.22 Q1142.9 1536.66 1144.64 1536.66 Q1149.27 1536.66 1151.7 1533.55 Q1154.15 1530.43 1154.5 1524.09 Q1153.16 1526.08 1151.1 1527.14 Q1149.04 1528.21 1146.54 1528.21 Q1141.35 1528.21 1138.32 1525.08 Q1135.31 1521.93 1135.31 1516.49 Q1135.31 1511.17 1138.46 1507.95 Q1141.61 1504.73 1146.84 1504.73 Q1152.84 1504.73 1155.98 1509.34 Q1159.15 1513.92 1159.15 1522.67 Q1159.15 1530.85 1155.27 1535.73 Q1151.4 1540.59 1144.85 1540.59 Q1143.09 1540.59 1141.28 1540.24 Q1139.48 1539.9 1137.53 1539.2 M1146.84 1524.55 Q1149.99 1524.55 1151.82 1522.4 Q1153.67 1520.24 1153.67 1516.49 Q1153.67 1512.77 1151.82 1510.61 Q1149.99 1508.44 1146.84 1508.44 Q1143.69 1508.44 1141.84 1510.61 Q1140.01 1512.77 1140.01 1516.49 Q1140.01 1520.24 1141.84 1522.4 Q1143.69 1524.55 1146.84 1524.55 Z\" fill=\"#000000\" fill-rule=\"evenodd\" fill-opacity=\"1\" /><path clip-path=\"url(#clip520)\" d=\"M 0 0 M1164.22 1534.04 L1169.11 1534.04 L1169.11 1539.92 L1164.22 1539.92 L1164.22 1534.04 Z\" fill=\"#000000\" fill-rule=\"evenodd\" fill-opacity=\"1\" /><path clip-path=\"url(#clip520)\" d=\"M 0 0 M1187.02 1509.43 L1175.22 1527.88 L1187.02 1527.88 L1187.02 1509.43 M1185.8 1505.36 L1191.68 1505.36 L1191.68 1527.88 L1196.61 1527.88 L1196.61 1531.77 L1191.68 1531.77 L1191.68 1539.92 L1187.02 1539.92 L1187.02 1531.77 L1171.42 1531.77 L1171.42 1527.26 L1185.8 1505.36 Z\" fill=\"#000000\" fill-rule=\"evenodd\" fill-opacity=\"1\" /><path clip-path=\"url(#clip520)\" d=\"M 0 0 M1211.68 1508.44 Q1208.07 1508.44 1206.24 1512 Q1204.43 1515.55 1204.43 1522.67 Q1204.43 1529.78 1206.24 1533.35 Q1208.07 1536.89 1211.68 1536.89 Q1215.31 1536.89 1217.12 1533.35 Q1218.95 1529.78 1218.95 1522.67 Q1218.95 1515.55 1217.12 1512 Q1215.31 1508.44 1211.68 1508.44 M1211.68 1504.73 Q1217.49 1504.73 1220.54 1509.34 Q1223.62 1513.92 1223.62 1522.67 Q1223.62 1531.4 1220.54 1536.01 Q1217.49 1540.59 1211.68 1540.59 Q1205.87 1540.59 1202.79 1536.01 Q1199.73 1531.4 1199.73 1522.67 Q1199.73 1513.92 1202.79 1509.34 Q1205.87 1504.73 1211.68 1504.73 Z\" fill=\"#000000\" fill-rule=\"evenodd\" fill-opacity=\"1\" /><path clip-path=\"url(#clip520)\" d=\"M 0 0 M1624.51 1525.04 L1636.99 1525.04 L1636.99 1528.83 L1624.51 1528.83 L1624.51 1525.04 Z\" fill=\"#000000\" fill-rule=\"evenodd\" fill-opacity=\"1\" /><path clip-path=\"url(#clip520)\" d=\"M 0 0 M1640.87 1505.36 L1663.1 1505.36 L1663.1 1507.35 L1650.55 1539.92 L1645.67 1539.92 L1657.47 1509.3 L1640.87 1509.3 L1640.87 1505.36 Z\" fill=\"#000000\" fill-rule=\"evenodd\" fill-opacity=\"1\" /><path clip-path=\"url(#clip520)\" d=\"M 0 0 M1668.3 1539.2 L1668.3 1534.94 Q1670.06 1535.78 1671.87 1536.22 Q1673.67 1536.66 1675.41 1536.66 Q1680.04 1536.66 1682.47 1533.55 Q1684.92 1530.43 1685.27 1524.09 Q1683.93 1526.08 1681.87 1527.14 Q1679.81 1528.21 1677.31 1528.21 Q1672.12 1528.21 1669.09 1525.08 Q1666.08 1521.93 1666.08 1516.49 Q1666.08 1511.17 1669.23 1507.95 Q1672.38 1504.73 1677.61 1504.73 Q1683.61 1504.73 1686.75 1509.34 Q1689.92 1513.92 1689.92 1522.67 Q1689.92 1530.85 1686.04 1535.73 Q1682.17 1540.59 1675.62 1540.59 Q1673.86 1540.59 1672.05 1540.24 Q1670.25 1539.9 1668.3 1539.2 M1677.61 1524.55 Q1680.76 1524.55 1682.59 1522.4 Q1684.44 1520.24 1684.44 1516.49 Q1684.44 1512.77 1682.59 1510.61 Q1680.76 1508.44 1677.61 1508.44 Q1674.46 1508.44 1672.61 1510.61 Q1670.78 1512.77 1670.78 1516.49 Q1670.78 1520.24 1672.61 1522.4 Q1674.46 1524.55 1677.61 1524.55 Z\" fill=\"#000000\" fill-rule=\"evenodd\" fill-opacity=\"1\" /><path clip-path=\"url(#clip520)\" d=\"M 0 0 M1694.99 1534.04 L1699.88 1534.04 L1699.88 1539.92 L1694.99 1539.92 L1694.99 1534.04 Z\" fill=\"#000000\" fill-rule=\"evenodd\" fill-opacity=\"1\" /><path clip-path=\"url(#clip520)\" d=\"M 0 0 M1719.11 1521.29 Q1722.47 1522 1724.35 1524.27 Q1726.24 1526.54 1726.24 1529.87 Q1726.24 1534.99 1722.73 1537.79 Q1719.21 1540.59 1712.73 1540.59 Q1710.55 1540.59 1708.23 1540.15 Q1705.94 1539.73 1703.49 1538.88 L1703.49 1534.36 Q1705.43 1535.5 1707.75 1536.08 Q1710.06 1536.66 1712.59 1536.66 Q1716.98 1536.66 1719.28 1534.92 Q1721.59 1533.18 1721.59 1529.87 Q1721.59 1526.82 1719.44 1525.11 Q1717.31 1523.37 1713.49 1523.37 L1709.46 1523.37 L1709.46 1519.53 L1713.67 1519.53 Q1717.12 1519.53 1718.95 1518.16 Q1720.78 1516.77 1720.78 1514.18 Q1720.78 1511.52 1718.88 1510.11 Q1717.01 1508.67 1713.49 1508.67 Q1711.57 1508.67 1709.37 1509.09 Q1707.17 1509.5 1704.53 1510.38 L1704.53 1506.22 Q1707.19 1505.48 1709.51 1505.11 Q1711.85 1504.73 1713.91 1504.73 Q1719.23 1504.73 1722.33 1507.17 Q1725.43 1509.57 1725.43 1513.69 Q1725.43 1516.56 1723.79 1518.55 Q1722.15 1520.52 1719.11 1521.29 Z\" fill=\"#000000\" fill-rule=\"evenodd\" fill-opacity=\"1\" /><path clip-path=\"url(#clip520)\" d=\"M 0 0 M1731.36 1505.36 L1749.72 1505.36 L1749.72 1509.3 L1735.64 1509.3 L1735.64 1517.77 Q1736.66 1517.42 1737.68 1517.26 Q1738.7 1517.07 1739.72 1517.07 Q1745.5 1517.07 1748.88 1520.24 Q1752.26 1523.42 1752.26 1528.83 Q1752.26 1534.41 1748.79 1537.51 Q1745.32 1540.59 1739 1540.59 Q1736.82 1540.59 1734.55 1540.22 Q1732.31 1539.85 1729.9 1539.11 L1729.9 1534.41 Q1731.98 1535.54 1734.21 1536.1 Q1736.43 1536.66 1738.91 1536.66 Q1742.91 1536.66 1745.25 1534.55 Q1747.59 1532.44 1747.59 1528.83 Q1747.59 1525.22 1745.25 1523.11 Q1742.91 1521.01 1738.91 1521.01 Q1737.03 1521.01 1735.16 1521.42 Q1733.3 1521.84 1731.36 1522.72 L1731.36 1505.36 Z\" fill=\"#000000\" fill-rule=\"evenodd\" fill-opacity=\"1\" /><path clip-path=\"url(#clip520)\" d=\"M 0 0 M2153.72 1525.04 L2166.19 1525.04 L2166.19 1528.83 L2153.72 1528.83 L2153.72 1525.04 Z\" fill=\"#000000\" fill-rule=\"evenodd\" fill-opacity=\"1\" /><path clip-path=\"url(#clip520)\" d=\"M 0 0 M2170.08 1505.36 L2192.3 1505.36 L2192.3 1507.35 L2179.76 1539.92 L2174.87 1539.92 L2186.68 1509.3 L2170.08 1509.3 L2170.08 1505.36 Z\" fill=\"#000000\" fill-rule=\"evenodd\" fill-opacity=\"1\" /><path clip-path=\"url(#clip520)\" d=\"M 0 0 M2197.51 1539.2 L2197.51 1534.94 Q2199.27 1535.78 2201.08 1536.22 Q2202.88 1536.66 2204.62 1536.66 Q2209.25 1536.66 2211.68 1533.55 Q2214.13 1530.43 2214.48 1524.09 Q2213.14 1526.08 2211.08 1527.14 Q2209.02 1528.21 2206.52 1528.21 Q2201.33 1528.21 2198.3 1525.08 Q2195.29 1521.93 2195.29 1516.49 Q2195.29 1511.17 2198.44 1507.95 Q2201.59 1504.73 2206.82 1504.73 Q2212.81 1504.73 2215.96 1509.34 Q2219.13 1513.92 2219.13 1522.67 Q2219.13 1530.85 2215.24 1535.73 Q2211.38 1540.59 2204.83 1540.59 Q2203.07 1540.59 2201.26 1540.24 Q2199.46 1539.9 2197.51 1539.2 M2206.82 1524.55 Q2209.97 1524.55 2211.79 1522.4 Q2213.65 1520.24 2213.65 1516.49 Q2213.65 1512.77 2211.79 1510.61 Q2209.97 1508.44 2206.82 1508.44 Q2203.67 1508.44 2201.82 1510.61 Q2199.99 1512.77 2199.99 1516.49 Q2199.99 1520.24 2201.82 1522.4 Q2203.67 1524.55 2206.82 1524.55 Z\" fill=\"#000000\" fill-rule=\"evenodd\" fill-opacity=\"1\" /><path clip-path=\"url(#clip520)\" d=\"M 0 0 M2224.2 1534.04 L2229.09 1534.04 L2229.09 1539.92 L2224.2 1539.92 L2224.2 1534.04 Z\" fill=\"#000000\" fill-rule=\"evenodd\" fill-opacity=\"1\" /><path clip-path=\"url(#clip520)\" d=\"M 0 0 M2248.32 1521.29 Q2251.68 1522 2253.55 1524.27 Q2255.45 1526.54 2255.45 1529.87 Q2255.45 1534.99 2251.93 1537.79 Q2248.41 1540.59 2241.93 1540.59 Q2239.76 1540.59 2237.44 1540.15 Q2235.15 1539.73 2232.7 1538.88 L2232.7 1534.36 Q2234.64 1535.5 2236.96 1536.08 Q2239.27 1536.66 2241.79 1536.66 Q2246.19 1536.66 2248.48 1534.92 Q2250.8 1533.18 2250.8 1529.87 Q2250.8 1526.82 2248.65 1525.11 Q2246.52 1523.37 2242.7 1523.37 L2238.67 1523.37 L2238.67 1519.53 L2242.88 1519.53 Q2246.33 1519.53 2248.16 1518.16 Q2249.99 1516.77 2249.99 1514.18 Q2249.99 1511.52 2248.09 1510.11 Q2246.22 1508.67 2242.7 1508.67 Q2240.78 1508.67 2238.58 1509.09 Q2236.38 1509.5 2233.74 1510.38 L2233.74 1506.22 Q2236.4 1505.48 2238.72 1505.11 Q2241.05 1504.73 2243.11 1504.73 Q2248.44 1504.73 2251.54 1507.17 Q2254.64 1509.57 2254.64 1513.69 Q2254.64 1516.56 2253 1518.55 Q2251.35 1520.52 2248.32 1521.29 Z\" fill=\"#000000\" fill-rule=\"evenodd\" fill-opacity=\"1\" /><path clip-path=\"url(#clip520)\" d=\"M 0 0 M2270.52 1508.44 Q2266.91 1508.44 2265.08 1512 Q2263.28 1515.55 2263.28 1522.67 Q2263.28 1529.78 2265.08 1533.35 Q2266.91 1536.89 2270.52 1536.89 Q2274.15 1536.89 2275.96 1533.35 Q2277.79 1529.78 2277.79 1522.67 Q2277.79 1515.55 2275.96 1512 Q2274.15 1508.44 2270.52 1508.44 M2270.52 1504.73 Q2276.33 1504.73 2279.39 1509.34 Q2282.47 1513.92 2282.47 1522.67 Q2282.47 1531.4 2279.39 1536.01 Q2276.33 1540.59 2270.52 1540.59 Q2264.71 1540.59 2261.63 1536.01 Q2258.58 1531.4 2258.58 1522.67 Q2258.58 1513.92 2261.63 1509.34 Q2264.71 1504.73 2270.52 1504.73 Z\" fill=\"#000000\" fill-rule=\"evenodd\" fill-opacity=\"1\" /><path clip-path=\"url(#clip520)\" d=\"M 0 0 M78.5939 1281.03 L66.7884 1299.48 L78.5939 1299.48 L78.5939 1281.03 M77.367 1276.96 L83.2466 1276.96 L83.2466 1299.48 L88.1772 1299.48 L88.1772 1303.37 L83.2466 1303.37 L83.2466 1311.52 L78.5939 1311.52 L78.5939 1303.37 L62.9921 1303.37 L62.9921 1298.86 L77.367 1276.96 Z\" fill=\"#000000\" fill-rule=\"evenodd\" fill-opacity=\"1\" /><path clip-path=\"url(#clip520)\" d=\"M 0 0 M107.413 1292.88 Q110.77 1293.6 112.645 1295.87 Q114.543 1298.14 114.543 1301.47 Q114.543 1306.59 111.024 1309.39 Q107.506 1312.19 101.024 1312.19 Q98.8484 1312.19 96.5336 1311.75 Q94.242 1311.33 91.7883 1310.48 L91.7883 1305.96 Q93.7327 1307.1 96.0475 1307.68 Q98.3623 1308.25 100.885 1308.25 Q105.284 1308.25 107.575 1306.52 Q109.89 1304.78 109.89 1301.47 Q109.89 1298.42 107.737 1296.7 Q105.608 1294.97 101.788 1294.97 L97.7605 1294.97 L97.7605 1291.12 L101.973 1291.12 Q105.422 1291.12 107.251 1289.76 Q109.08 1288.37 109.08 1285.78 Q109.08 1283.12 107.182 1281.7 Q105.307 1280.27 101.788 1280.27 Q99.8669 1280.27 97.6679 1280.68 Q95.4688 1281.1 92.8299 1281.98 L92.8299 1277.81 Q95.492 1277.07 97.8068 1276.7 Q100.145 1276.33 102.205 1276.33 Q107.529 1276.33 110.631 1278.76 Q113.733 1281.17 113.733 1285.29 Q113.733 1288.16 112.089 1290.15 Q110.446 1292.12 107.413 1292.88 Z\" fill=\"#000000\" fill-rule=\"evenodd\" fill-opacity=\"1\" /><path clip-path=\"url(#clip520)\" d=\"M 0 0 M119.612 1305.64 L124.496 1305.64 L124.496 1311.52 L119.612 1311.52 L119.612 1305.64 Z\" fill=\"#000000\" fill-rule=\"evenodd\" fill-opacity=\"1\" /><path clip-path=\"url(#clip520)\" d=\"M 0 0 M140.144 1292.37 Q136.996 1292.37 135.145 1294.53 Q133.316 1296.68 133.316 1300.43 Q133.316 1304.16 135.145 1306.33 Q136.996 1308.49 140.144 1308.49 Q143.293 1308.49 145.121 1306.33 Q146.973 1304.16 146.973 1300.43 Q146.973 1296.68 145.121 1294.53 Q143.293 1292.37 140.144 1292.37 M149.427 1277.72 L149.427 1281.98 Q147.668 1281.15 145.862 1280.71 Q144.08 1280.27 142.32 1280.27 Q137.691 1280.27 135.237 1283.39 Q132.807 1286.52 132.459 1292.84 Q133.825 1290.82 135.885 1289.76 Q137.945 1288.67 140.422 1288.67 Q145.631 1288.67 148.64 1291.84 Q151.672 1294.99 151.672 1300.43 Q151.672 1305.75 148.524 1308.97 Q145.376 1312.19 140.144 1312.19 Q134.149 1312.19 130.978 1307.61 Q127.807 1303 127.807 1294.27 Q127.807 1286.08 131.695 1281.22 Q135.584 1276.33 142.135 1276.33 Q143.894 1276.33 145.677 1276.68 Q147.482 1277.03 149.427 1277.72 Z\" fill=\"#000000\" fill-rule=\"evenodd\" fill-opacity=\"1\" /><path clip-path=\"url(#clip520)\" d=\"M 0 0 M169.589 1281.03 L157.783 1299.48 L169.589 1299.48 L169.589 1281.03 M168.362 1276.96 L174.242 1276.96 L174.242 1299.48 L179.172 1299.48 L179.172 1303.37 L174.242 1303.37 L174.242 1311.52 L169.589 1311.52 L169.589 1303.37 L153.987 1303.37 L153.987 1298.86 L168.362 1276.96 Z\" fill=\"#000000\" fill-rule=\"evenodd\" fill-opacity=\"1\" /><path clip-path=\"url(#clip520)\" d=\"M 0 0 M78.918 1006.95 L67.1125 1025.39 L78.918 1025.39 L78.918 1006.95 M77.6911 1002.87 L83.5707 1002.87 L83.5707 1025.39 L88.5012 1025.39 L88.5012 1029.28 L83.5707 1029.28 L83.5707 1037.43 L78.918 1037.43 L78.918 1029.28 L63.3162 1029.28 L63.3162 1024.77 L77.6911 1002.87 Z\" fill=\"#000000\" fill-rule=\"evenodd\" fill-opacity=\"1\" /><path clip-path=\"url(#clip520)\" d=\"M 0 0 M107.737 1018.8 Q111.094 1019.51 112.969 1021.78 Q114.867 1024.05 114.867 1027.38 Q114.867 1032.5 111.348 1035.3 Q107.83 1038.1 101.348 1038.1 Q99.1725 1038.1 96.8577 1037.66 Q94.566 1037.25 92.1123 1036.39 L92.1123 1031.88 Q94.0568 1033.01 96.3716 1033.59 Q98.6864 1034.17 101.21 1034.17 Q105.608 1034.17 107.899 1032.43 Q110.214 1030.7 110.214 1027.38 Q110.214 1024.33 108.061 1022.62 Q105.932 1020.88 102.112 1020.88 L98.0845 1020.88 L98.0845 1017.04 L102.297 1017.04 Q105.747 1017.04 107.575 1015.67 Q109.404 1014.28 109.404 1011.69 Q109.404 1009.03 107.506 1007.62 Q105.631 1006.18 102.112 1006.18 Q100.191 1006.18 97.9919 1006.6 Q95.7929 1007.01 93.154 1007.89 L93.154 1003.73 Q95.816 1002.99 98.1308 1002.62 Q100.469 1002.25 102.529 1002.25 Q107.853 1002.25 110.955 1004.68 Q114.057 1007.08 114.057 1011.2 Q114.057 1014.07 112.413 1016.07 Q110.77 1018.03 107.737 1018.8 Z\" fill=\"#000000\" fill-rule=\"evenodd\" fill-opacity=\"1\" /><path clip-path=\"url(#clip520)\" d=\"M 0 0 M119.936 1031.55 L124.82 1031.55 L124.82 1037.43 L119.936 1037.43 L119.936 1031.55 Z\" fill=\"#000000\" fill-rule=\"evenodd\" fill-opacity=\"1\" /><path clip-path=\"url(#clip520)\" d=\"M 0 0 M140.469 1018.29 Q137.32 1018.29 135.469 1020.44 Q133.64 1022.59 133.64 1026.34 Q133.64 1030.07 135.469 1032.25 Q137.32 1034.4 140.469 1034.4 Q143.617 1034.4 145.445 1032.25 Q147.297 1030.07 147.297 1026.34 Q147.297 1022.59 145.445 1020.44 Q143.617 1018.29 140.469 1018.29 M149.751 1003.64 L149.751 1007.89 Q147.992 1007.06 146.186 1006.62 Q144.404 1006.18 142.644 1006.18 Q138.015 1006.18 135.561 1009.31 Q133.131 1012.43 132.783 1018.75 Q134.149 1016.74 136.209 1015.67 Q138.27 1014.58 140.746 1014.58 Q145.955 1014.58 148.964 1017.76 Q151.996 1020.9 151.996 1026.34 Q151.996 1031.67 148.848 1034.88 Q145.7 1038.1 140.469 1038.1 Q134.473 1038.1 131.302 1033.52 Q128.131 1028.91 128.131 1020.19 Q128.131 1011.99 132.02 1007.13 Q135.908 1002.25 142.459 1002.25 Q144.219 1002.25 146.001 1002.59 Q147.806 1002.94 149.751 1003.64 Z\" fill=\"#000000\" fill-rule=\"evenodd\" fill-opacity=\"1\" /><path clip-path=\"url(#clip520)\" d=\"M 0 0 M167.644 1018.29 Q164.496 1018.29 162.644 1020.44 Q160.816 1022.59 160.816 1026.34 Q160.816 1030.07 162.644 1032.25 Q164.496 1034.4 167.644 1034.4 Q170.792 1034.4 172.621 1032.25 Q174.473 1030.07 174.473 1026.34 Q174.473 1022.59 172.621 1020.44 Q170.792 1018.29 167.644 1018.29 M176.927 1003.64 L176.927 1007.89 Q175.167 1007.06 173.362 1006.62 Q171.58 1006.18 169.82 1006.18 Q165.191 1006.18 162.737 1009.31 Q160.306 1012.43 159.959 1018.75 Q161.325 1016.74 163.385 1015.67 Q165.445 1014.58 167.922 1014.58 Q173.13 1014.58 176.14 1017.76 Q179.172 1020.9 179.172 1026.34 Q179.172 1031.67 176.024 1034.88 Q172.876 1038.1 167.644 1038.1 Q161.649 1038.1 158.478 1033.52 Q155.306 1028.91 155.306 1020.19 Q155.306 1011.99 159.195 1007.13 Q163.084 1002.25 169.635 1002.25 Q171.394 1002.25 173.177 1002.59 Q174.982 1002.94 176.927 1003.64 Z\" fill=\"#000000\" fill-rule=\"evenodd\" fill-opacity=\"1\" /><path clip-path=\"url(#clip520)\" d=\"M 0 0 M79.1726 732.859 L67.3671 751.308 L79.1726 751.308 L79.1726 732.859 M77.9457 728.785 L83.8253 728.785 L83.8253 751.308 L88.7559 751.308 L88.7559 755.197 L83.8253 755.197 L83.8253 763.345 L79.1726 763.345 L79.1726 755.197 L63.5708 755.197 L63.5708 750.683 L77.9457 728.785 Z\" fill=\"#000000\" fill-rule=\"evenodd\" fill-opacity=\"1\" /><path clip-path=\"url(#clip520)\" d=\"M 0 0 M107.992 744.711 Q111.348 745.428 113.223 747.697 Q115.121 749.965 115.121 753.299 Q115.121 758.414 111.603 761.215 Q108.084 764.016 101.603 764.016 Q99.4271 764.016 97.1123 763.576 Q94.8207 763.16 92.367 762.303 L92.367 757.789 Q94.3114 758.923 96.6262 759.502 Q98.941 760.081 101.464 760.081 Q105.862 760.081 108.154 758.345 Q110.469 756.609 110.469 753.299 Q110.469 750.243 108.316 748.53 Q106.186 746.794 102.367 746.794 L98.3392 746.794 L98.3392 742.951 L102.552 742.951 Q106.001 742.951 107.83 741.586 Q109.659 740.197 109.659 737.604 Q109.659 734.942 107.76 733.53 Q105.885 732.095 102.367 732.095 Q100.446 732.095 98.2466 732.512 Q96.0475 732.928 93.4086 733.808 L93.4086 729.641 Q96.0707 728.9 98.3855 728.53 Q100.723 728.16 102.784 728.16 Q108.108 728.16 111.209 730.59 Q114.311 732.998 114.311 737.118 Q114.311 739.988 112.668 741.979 Q111.024 743.947 107.992 744.711 Z\" fill=\"#000000\" fill-rule=\"evenodd\" fill-opacity=\"1\" /><path clip-path=\"url(#clip520)\" d=\"M 0 0 M120.191 757.465 L125.075 757.465 L125.075 763.345 L120.191 763.345 L120.191 757.465 Z\" fill=\"#000000\" fill-rule=\"evenodd\" fill-opacity=\"1\" /><path clip-path=\"url(#clip520)\" d=\"M 0 0 M140.723 744.201 Q137.575 744.201 135.723 746.354 Q133.895 748.507 133.895 752.257 Q133.895 755.984 135.723 758.16 Q137.575 760.312 140.723 760.312 Q143.871 760.312 145.7 758.16 Q147.552 755.984 147.552 752.257 Q147.552 748.507 145.7 746.354 Q143.871 744.201 140.723 744.201 M150.006 729.549 L150.006 733.808 Q148.246 732.975 146.441 732.535 Q144.658 732.095 142.899 732.095 Q138.27 732.095 135.816 735.22 Q133.385 738.345 133.038 744.664 Q134.404 742.65 136.464 741.586 Q138.524 740.498 141.001 740.498 Q146.209 740.498 149.219 743.669 Q152.251 746.817 152.251 752.257 Q152.251 757.581 149.103 760.798 Q145.955 764.016 140.723 764.016 Q134.728 764.016 131.557 759.433 Q128.385 754.826 128.385 746.099 Q128.385 737.905 132.274 733.044 Q136.163 728.16 142.714 728.16 Q144.473 728.16 146.256 728.507 Q148.061 728.854 150.006 729.549 Z\" fill=\"#000000\" fill-rule=\"evenodd\" fill-opacity=\"1\" /><path clip-path=\"url(#clip520)\" d=\"M 0 0 M167.32 746.933 Q163.987 746.933 162.066 748.715 Q160.168 750.498 160.168 753.623 Q160.168 756.748 162.066 758.53 Q163.987 760.312 167.32 760.312 Q170.654 760.312 172.575 758.53 Q174.496 756.724 174.496 753.623 Q174.496 750.498 172.575 748.715 Q170.677 746.933 167.32 746.933 M162.644 744.942 Q159.635 744.201 157.945 742.141 Q156.279 740.081 156.279 737.118 Q156.279 732.975 159.218 730.567 Q162.181 728.16 167.32 728.16 Q172.482 728.16 175.422 730.567 Q178.362 732.975 178.362 737.118 Q178.362 740.081 176.672 742.141 Q175.005 744.201 172.019 744.942 Q175.399 745.729 177.274 748.021 Q179.172 750.312 179.172 753.623 Q179.172 758.646 176.093 761.331 Q173.038 764.016 167.32 764.016 Q161.603 764.016 158.524 761.331 Q155.468 758.646 155.468 753.623 Q155.468 750.312 157.367 748.021 Q159.265 745.729 162.644 744.942 M160.931 737.558 Q160.931 740.243 162.598 741.748 Q164.288 743.252 167.32 743.252 Q170.33 743.252 172.019 741.748 Q173.732 740.243 173.732 737.558 Q173.732 734.873 172.019 733.368 Q170.33 731.863 167.32 731.863 Q164.288 731.863 162.598 733.368 Q160.931 734.873 160.931 737.558 Z\" fill=\"#000000\" fill-rule=\"evenodd\" fill-opacity=\"1\" /><path clip-path=\"url(#clip520)\" d=\"M 0 0 M80.1448 458.772 L68.3393 477.221 L80.1448 477.221 L80.1448 458.772 M78.918 454.698 L84.7976 454.698 L84.7976 477.221 L89.7281 477.221 L89.7281 481.11 L84.7976 481.11 L84.7976 489.258 L80.1448 489.258 L80.1448 481.11 L64.543 481.11 L64.543 476.596 L78.918 454.698 Z\" fill=\"#000000\" fill-rule=\"evenodd\" fill-opacity=\"1\" /><path clip-path=\"url(#clip520)\" d=\"M 0 0 M108.964 470.624 Q112.321 471.342 114.196 473.61 Q116.094 475.879 116.094 479.212 Q116.094 484.328 112.575 487.129 Q109.057 489.93 102.575 489.93 Q100.399 489.93 98.0845 489.49 Q95.7929 489.073 93.3392 488.217 L93.3392 483.703 Q95.2836 484.837 97.5984 485.416 Q99.9132 485.994 102.436 485.994 Q106.834 485.994 109.126 484.258 Q111.441 482.522 111.441 479.212 Q111.441 476.156 109.288 474.444 Q107.159 472.707 103.339 472.707 L99.3114 472.707 L99.3114 468.865 L103.524 468.865 Q106.973 468.865 108.802 467.499 Q110.631 466.11 110.631 463.518 Q110.631 460.856 108.733 459.444 Q106.858 458.008 103.339 458.008 Q101.418 458.008 99.2188 458.425 Q97.0197 458.842 94.3808 459.721 L94.3808 455.555 Q97.0429 454.814 99.3577 454.444 Q101.696 454.073 103.756 454.073 Q109.08 454.073 112.182 456.504 Q115.284 458.911 115.284 463.032 Q115.284 465.902 113.64 467.893 Q111.996 469.86 108.964 470.624 Z\" fill=\"#000000\" fill-rule=\"evenodd\" fill-opacity=\"1\" /><path clip-path=\"url(#clip520)\" d=\"M 0 0 M121.163 483.379 L126.047 483.379 L126.047 489.258 L121.163 489.258 L121.163 483.379 Z\" fill=\"#000000\" fill-rule=\"evenodd\" fill-opacity=\"1\" /><path clip-path=\"url(#clip520)\" d=\"M 0 0 M129.936 454.698 L152.158 454.698 L152.158 456.689 L139.612 489.258 L134.728 489.258 L146.533 458.633 L129.936 458.633 L129.936 454.698 Z\" fill=\"#000000\" fill-rule=\"evenodd\" fill-opacity=\"1\" /><path clip-path=\"url(#clip520)\" d=\"M 0 0 M167.228 457.777 Q163.617 457.777 161.788 461.342 Q159.982 464.883 159.982 472.013 Q159.982 479.119 161.788 482.684 Q163.617 486.226 167.228 486.226 Q170.862 486.226 172.667 482.684 Q174.496 479.119 174.496 472.013 Q174.496 464.883 172.667 461.342 Q170.862 457.777 167.228 457.777 M167.228 454.073 Q173.038 454.073 176.093 458.68 Q179.172 463.263 179.172 472.013 Q179.172 480.74 176.093 485.346 Q173.038 489.93 167.228 489.93 Q161.418 489.93 158.339 485.346 Q155.283 480.74 155.283 472.013 Q155.283 463.263 158.339 458.68 Q161.418 454.073 167.228 454.073 Z\" fill=\"#000000\" fill-rule=\"evenodd\" fill-opacity=\"1\" /><path clip-path=\"url(#clip520)\" d=\"M 0 0 M81.742 184.686 L69.9365 203.135 L81.742 203.135 L81.742 184.686 M80.5152 180.612 L86.3948 180.612 L86.3948 203.135 L91.3253 203.135 L91.3253 207.024 L86.3948 207.024 L86.3948 215.172 L81.742 215.172 L81.742 207.024 L66.1403 207.024 L66.1403 202.51 L80.5152 180.612 Z\" fill=\"#000000\" fill-rule=\"evenodd\" fill-opacity=\"1\" /><path clip-path=\"url(#clip520)\" d=\"M 0 0 M110.561 196.538 Q113.918 197.255 115.793 199.524 Q117.691 201.792 117.691 205.126 Q117.691 210.241 114.172 213.042 Q110.654 215.843 104.172 215.843 Q101.997 215.843 99.6817 215.403 Q97.3901 214.987 94.9364 214.13 L94.9364 209.616 Q96.8808 210.751 99.1956 211.329 Q101.51 211.908 104.034 211.908 Q108.432 211.908 110.723 210.172 Q113.038 208.436 113.038 205.126 Q113.038 202.07 110.885 200.357 Q108.756 198.621 104.936 198.621 L100.909 198.621 L100.909 194.778 L105.122 194.778 Q108.571 194.778 110.399 193.413 Q112.228 192.024 112.228 189.431 Q112.228 186.769 110.33 185.357 Q108.455 183.922 104.936 183.922 Q103.015 183.922 100.816 184.339 Q98.6169 184.755 95.9781 185.635 L95.9781 181.468 Q98.6401 180.728 100.955 180.357 Q103.293 179.987 105.353 179.987 Q110.677 179.987 113.779 182.417 Q116.881 184.825 116.881 188.945 Q116.881 191.815 115.237 193.806 Q113.594 195.774 110.561 196.538 Z\" fill=\"#000000\" fill-rule=\"evenodd\" fill-opacity=\"1\" /><path clip-path=\"url(#clip520)\" d=\"M 0 0 M122.76 209.292 L127.645 209.292 L127.645 215.172 L122.76 215.172 L122.76 209.292 Z\" fill=\"#000000\" fill-rule=\"evenodd\" fill-opacity=\"1\" /><path clip-path=\"url(#clip520)\" d=\"M 0 0 M131.533 180.612 L153.756 180.612 L153.756 182.603 L141.209 215.172 L136.325 215.172 L148.131 184.547 L131.533 184.547 L131.533 180.612 Z\" fill=\"#000000\" fill-rule=\"evenodd\" fill-opacity=\"1\" /><path clip-path=\"url(#clip520)\" d=\"M 0 0 M162.853 211.237 L179.172 211.237 L179.172 215.172 L157.228 215.172 L157.228 211.237 Q159.89 208.482 164.473 203.852 Q169.08 199.2 170.26 197.857 Q172.505 195.334 173.385 193.598 Q174.288 191.839 174.288 190.149 Q174.288 187.394 172.343 185.658 Q170.422 183.922 167.32 183.922 Q165.121 183.922 162.668 184.686 Q160.237 185.45 157.459 187.001 L157.459 182.278 Q160.283 181.144 162.737 180.566 Q165.191 179.987 167.228 179.987 Q172.598 179.987 175.792 182.672 Q178.987 185.357 178.987 189.848 Q178.987 191.977 178.177 193.899 Q177.39 195.797 175.283 198.389 Q174.704 199.061 171.603 202.278 Q168.501 205.473 162.853 211.237 Z\" fill=\"#000000\" fill-rule=\"evenodd\" fill-opacity=\"1\" /><circle clip-path=\"url(#clip522)\" cx=\"1575.71\" cy=\"1098.82\" r=\"14\" fill=\"#ff0000\" fill-rule=\"evenodd\" fill-opacity=\"1\" stroke=\"#000000\" stroke-opacity=\"1\" stroke-width=\"3.2\"/>\n",
       "<circle clip-path=\"url(#clip522)\" cx=\"1269.98\" cy=\"988.611\" r=\"14\" fill=\"#ff0000\" fill-rule=\"evenodd\" fill-opacity=\"1\" stroke=\"#000000\" stroke-opacity=\"1\" stroke-width=\"3.2\"/>\n",
       "<circle clip-path=\"url(#clip522)\" cx=\"1381.82\" cy=\"1059.05\" r=\"14\" fill=\"#ff0000\" fill-rule=\"evenodd\" fill-opacity=\"1\" stroke=\"#000000\" stroke-opacity=\"1\" stroke-width=\"3.2\"/>\n",
       "<circle clip-path=\"url(#clip522)\" cx=\"1419.11\" cy=\"1136.72\" r=\"14\" fill=\"#ff0000\" fill-rule=\"evenodd\" fill-opacity=\"1\" stroke=\"#000000\" stroke-opacity=\"1\" stroke-width=\"3.2\"/>\n",
       "<circle clip-path=\"url(#clip522)\" cx=\"2291.92\" cy=\"795.984\" r=\"14\" fill=\"#ffff00\" fill-rule=\"evenodd\" fill-opacity=\"1\" stroke=\"#000000\" stroke-opacity=\"1\" stroke-width=\"3.2\"/>\n",
       "<circle clip-path=\"url(#clip522)\" cx=\"1441.47\" cy=\"1228.86\" r=\"14\" fill=\"#ff0000\" fill-rule=\"evenodd\" fill-opacity=\"1\" stroke=\"#000000\" stroke-opacity=\"1\" stroke-width=\"3.2\"/>\n",
       "<circle clip-path=\"url(#clip522)\" cx=\"1292.35\" cy=\"1048.21\" r=\"14\" fill=\"#ff0000\" fill-rule=\"evenodd\" fill-opacity=\"1\" stroke=\"#000000\" stroke-opacity=\"1\" stroke-width=\"3.2\"/>\n",
       "<circle clip-path=\"url(#clip522)\" cx=\"919.638\" cy=\"889.385\" r=\"14\" fill=\"#0000ff\" fill-rule=\"evenodd\" fill-opacity=\"1\" stroke=\"#000000\" stroke-opacity=\"1\" stroke-width=\"3.2\"/>\n",
       "<circle clip-path=\"url(#clip522)\" cx=\"1322.17\" cy=\"1149.37\" r=\"14\" fill=\"#ff0000\" fill-rule=\"evenodd\" fill-opacity=\"1\" stroke=\"#000000\" stroke-opacity=\"1\" stroke-width=\"3.2\"/>\n",
       "<circle clip-path=\"url(#clip522)\" cx=\"710.981\" cy=\"896.742\" r=\"14\" fill=\"#0000ff\" fill-rule=\"evenodd\" fill-opacity=\"1\" stroke=\"#000000\" stroke-opacity=\"1\" stroke-width=\"3.2\"/>\n",
       "<circle clip-path=\"url(#clip522)\" cx=\"1352\" cy=\"1283.06\" r=\"14\" fill=\"#ff0000\" fill-rule=\"evenodd\" fill-opacity=\"1\" stroke=\"#000000\" stroke-opacity=\"1\" stroke-width=\"3.2\"/>\n",
       "<circle clip-path=\"url(#clip522)\" cx=\"949.45\" cy=\"1185.61\" r=\"14\" fill=\"#0000ff\" fill-rule=\"evenodd\" fill-opacity=\"1\" stroke=\"#000000\" stroke-opacity=\"1\" stroke-width=\"3.2\"/>\n",
       "<circle clip-path=\"url(#clip522)\" cx=\"1665.21\" cy=\"752.134\" r=\"14\" fill=\"#ffff00\" fill-rule=\"evenodd\" fill-opacity=\"1\" stroke=\"#000000\" stroke-opacity=\"1\" stroke-width=\"3.2\"/>\n",
       "<circle clip-path=\"url(#clip522)\" cx=\"1353.86\" cy=\"1195.88\" r=\"14\" fill=\"#ff0000\" fill-rule=\"evenodd\" fill-opacity=\"1\" stroke=\"#000000\" stroke-opacity=\"1\" stroke-width=\"3.2\"/>\n",
       "<circle clip-path=\"url(#clip522)\" cx=\"860.018\" cy=\"1337.44\" r=\"14\" fill=\"#0000ff\" fill-rule=\"evenodd\" fill-opacity=\"1\" stroke=\"#000000\" stroke-opacity=\"1\" stroke-width=\"3.2\"/>\n",
       "<circle clip-path=\"url(#clip522)\" cx=\"2053.12\" cy=\"896.833\" r=\"14\" fill=\"#ffff00\" fill-rule=\"evenodd\" fill-opacity=\"1\" stroke=\"#000000\" stroke-opacity=\"1\" stroke-width=\"3.2\"/>\n",
       "<circle clip-path=\"url(#clip522)\" cx=\"1372.5\" cy=\"1181.88\" r=\"14\" fill=\"#ff0000\" fill-rule=\"evenodd\" fill-opacity=\"1\" stroke=\"#000000\" stroke-opacity=\"1\" stroke-width=\"3.2\"/>\n",
       "<circle clip-path=\"url(#clip522)\" cx=\"1784.55\" cy=\"1026.65\" r=\"14\" fill=\"#ffff00\" fill-rule=\"evenodd\" fill-opacity=\"1\" stroke=\"#000000\" stroke-opacity=\"1\" stroke-width=\"3.2\"/>\n",
       "<circle clip-path=\"url(#clip522)\" cx=\"1277.44\" cy=\"87.9763\" r=\"14\" fill=\"#008000\" fill-rule=\"evenodd\" fill-opacity=\"1\" stroke=\"#000000\" stroke-opacity=\"1\" stroke-width=\"3.2\"/>\n",
       "<circle clip-path=\"url(#clip522)\" cx=\"979.263\" cy=\"311.709\" r=\"14\" fill=\"#008000\" fill-rule=\"evenodd\" fill-opacity=\"1\" stroke=\"#000000\" stroke-opacity=\"1\" stroke-width=\"3.2\"/>\n",
       "<circle clip-path=\"url(#clip522)\" cx=\"1262.53\" cy=\"297.233\" r=\"14\" fill=\"#008000\" fill-rule=\"evenodd\" fill-opacity=\"1\" stroke=\"#000000\" stroke-opacity=\"1\" stroke-width=\"3.2\"/>\n",
       "<circle clip-path=\"url(#clip522)\" cx=\"1038.89\" cy=\"513.809\" r=\"14\" fill=\"#008000\" fill-rule=\"evenodd\" fill-opacity=\"1\" stroke=\"#000000\" stroke-opacity=\"1\" stroke-width=\"3.2\"/>\n",
       "<circle clip-path=\"url(#clip522)\" cx=\"472.571\" cy=\"998.111\" r=\"14\" fill=\"#0000ff\" fill-rule=\"evenodd\" fill-opacity=\"1\" stroke=\"#000000\" stroke-opacity=\"1\" stroke-width=\"3.2\"/>\n",
       "<circle clip-path=\"url(#clip522)\" cx=\"1098.52\" cy=\"261.159\" r=\"14\" fill=\"#008000\" fill-rule=\"evenodd\" fill-opacity=\"1\" stroke=\"#000000\" stroke-opacity=\"1\" stroke-width=\"3.2\"/>\n",
       "<circle clip-path=\"url(#clip522)\" cx=\"1098.52\" cy=\"845.973\" r=\"14\" fill=\"#ff0000\" fill-rule=\"evenodd\" fill-opacity=\"1\" stroke=\"#000000\" stroke-opacity=\"1\" stroke-width=\"3.2\"/>\n",
       "<circle clip-path=\"url(#clip522)\" cx=\"561.967\" cy=\"1171.45\" r=\"14\" fill=\"#0000ff\" fill-rule=\"evenodd\" fill-opacity=\"1\" stroke=\"#000000\" stroke-opacity=\"1\" stroke-width=\"3.2\"/>\n",
       "<circle clip-path=\"url(#clip522)\" cx=\"1277.44\" cy=\"412.715\" r=\"14\" fill=\"#008000\" fill-rule=\"evenodd\" fill-opacity=\"1\" stroke=\"#000000\" stroke-opacity=\"1\" stroke-width=\"3.2\"/>\n",
       "<circle clip-path=\"url(#clip522)\" cx=\"1158.16\" cy=\"983.21\" r=\"14\" fill=\"#ff0000\" fill-rule=\"evenodd\" fill-opacity=\"1\" stroke=\"#000000\" stroke-opacity=\"1\" stroke-width=\"3.2\"/>\n",
       "<circle clip-path=\"url(#clip522)\" cx=\"264.009\" cy=\"1135.67\" r=\"14\" fill=\"#0000ff\" fill-rule=\"evenodd\" fill-opacity=\"1\" stroke=\"#000000\" stroke-opacity=\"1\" stroke-width=\"3.2\"/>\n",
       "<circle clip-path=\"url(#clip522)\" cx=\"1337.09\" cy=\"614.855\" r=\"14\" fill=\"#008000\" fill-rule=\"evenodd\" fill-opacity=\"1\" stroke=\"#000000\" stroke-opacity=\"1\" stroke-width=\"3.2\"/>\n",
       "<circle clip-path=\"url(#clip522)\" cx=\"1158.16\" cy=\"1113.26\" r=\"14\" fill=\"#ff0000\" fill-rule=\"evenodd\" fill-opacity=\"1\" stroke=\"#000000\" stroke-opacity=\"1\" stroke-width=\"3.2\"/>\n",
       "<circle clip-path=\"url(#clip522)\" cx=\"1158.16\" cy=\"658.189\" r=\"14\" fill=\"#008000\" fill-rule=\"evenodd\" fill-opacity=\"1\" stroke=\"#000000\" stroke-opacity=\"1\" stroke-width=\"3.2\"/>\n",
       "<circle clip-path=\"url(#clip522)\" cx=\"1217.8\" cy=\"1445.72\" r=\"14\" fill=\"#ff0000\" fill-rule=\"evenodd\" fill-opacity=\"1\" stroke=\"#000000\" stroke-opacity=\"1\" stroke-width=\"3.2\"/>\n",
       "<circle clip-path=\"url(#clip522)\" cx=\"1396.74\" cy=\"752.059\" r=\"14\" fill=\"#ff0000\" fill-rule=\"evenodd\" fill-opacity=\"1\" stroke=\"#000000\" stroke-opacity=\"1\" stroke-width=\"3.2\"/>\n",
       "<circle clip-path=\"url(#clip522)\" cx=\"1425.16\" cy=\"1206.05\" r=\"14\" fill=\"#ff0000\" fill-rule=\"evenodd\" fill-opacity=\"1\" stroke=\"#000000\" stroke-opacity=\"1\" stroke-width=\"3.2\"/>\n",
       "<circle clip-path=\"url(#clip522)\" cx=\"1501.13\" cy=\"910.969\" r=\"14\" fill=\"#ff0000\" fill-rule=\"evenodd\" fill-opacity=\"1\" stroke=\"#000000\" stroke-opacity=\"1\" stroke-width=\"3.2\"/>\n",
       "<circle clip-path=\"url(#clip522)\" cx=\"1346.41\" cy=\"1178.72\" r=\"14\" fill=\"#ff0000\" fill-rule=\"evenodd\" fill-opacity=\"1\" stroke=\"#000000\" stroke-opacity=\"1\" stroke-width=\"3.2\"/>\n",
       "<circle clip-path=\"url(#clip522)\" cx=\"1337.09\" cy=\"939.845\" r=\"14\" fill=\"#ff0000\" fill-rule=\"evenodd\" fill-opacity=\"1\" stroke=\"#000000\" stroke-opacity=\"1\" stroke-width=\"3.2\"/>\n",
       "<circle clip-path=\"url(#clip522)\" cx=\"1989.7\" cy=\"982.548\" r=\"14\" fill=\"#ffff00\" fill-rule=\"evenodd\" fill-opacity=\"1\" stroke=\"#000000\" stroke-opacity=\"1\" stroke-width=\"3.2\"/>\n",
       "<path clip-path=\"url(#clip520)\" d=\"\n",
       "M1991.24 216.178 L2281.1 216.178 L2281.1 95.2176 L1991.24 95.2176  Z\n",
       "  \" fill=\"#ffffff\" fill-rule=\"evenodd\" fill-opacity=\"1\"/>\n",
       "<polyline clip-path=\"url(#clip520)\" style=\"stroke:#000000; stroke-width:4; stroke-opacity:1; fill:none\" points=\"\n",
       "  1991.24,216.178 2281.1,216.178 2281.1,95.2176 1991.24,95.2176 1991.24,216.178 \n",
       "  \"/>\n",
       "<circle clip-path=\"url(#clip520)\" cx=\"2086.78\" cy=\"155.698\" r=\"23\" fill=\"#ff0000\" fill-rule=\"evenodd\" fill-opacity=\"1\" stroke=\"#000000\" stroke-opacity=\"1\" stroke-width=\"5.12\"/>\n",
       "<circle clip-path=\"url(#clip520)\" cx=\"2086.78\" cy=\"155.698\" r=\"23\" fill=\"#ff0000\" fill-rule=\"evenodd\" fill-opacity=\"1\" stroke=\"#000000\" stroke-opacity=\"1\" stroke-width=\"5.12\"/>\n",
       "<circle clip-path=\"url(#clip520)\" cx=\"2086.78\" cy=\"155.698\" r=\"23\" fill=\"#ff0000\" fill-rule=\"evenodd\" fill-opacity=\"1\" stroke=\"#000000\" stroke-opacity=\"1\" stroke-width=\"5.12\"/>\n",
       "<circle clip-path=\"url(#clip520)\" cx=\"2086.78\" cy=\"155.698\" r=\"23\" fill=\"#ff0000\" fill-rule=\"evenodd\" fill-opacity=\"1\" stroke=\"#000000\" stroke-opacity=\"1\" stroke-width=\"5.12\"/>\n",
       "<circle clip-path=\"url(#clip520)\" cx=\"2086.78\" cy=\"155.698\" r=\"23\" fill=\"#ffff00\" fill-rule=\"evenodd\" fill-opacity=\"1\" stroke=\"#000000\" stroke-opacity=\"1\" stroke-width=\"5.12\"/>\n",
       "<circle clip-path=\"url(#clip520)\" cx=\"2086.78\" cy=\"155.698\" r=\"23\" fill=\"#ff0000\" fill-rule=\"evenodd\" fill-opacity=\"1\" stroke=\"#000000\" stroke-opacity=\"1\" stroke-width=\"5.12\"/>\n",
       "<circle clip-path=\"url(#clip520)\" cx=\"2086.78\" cy=\"155.698\" r=\"23\" fill=\"#ff0000\" fill-rule=\"evenodd\" fill-opacity=\"1\" stroke=\"#000000\" stroke-opacity=\"1\" stroke-width=\"5.12\"/>\n",
       "<circle clip-path=\"url(#clip520)\" cx=\"2086.78\" cy=\"155.698\" r=\"23\" fill=\"#0000ff\" fill-rule=\"evenodd\" fill-opacity=\"1\" stroke=\"#000000\" stroke-opacity=\"1\" stroke-width=\"5.12\"/>\n",
       "<circle clip-path=\"url(#clip520)\" cx=\"2086.78\" cy=\"155.698\" r=\"23\" fill=\"#ff0000\" fill-rule=\"evenodd\" fill-opacity=\"1\" stroke=\"#000000\" stroke-opacity=\"1\" stroke-width=\"5.12\"/>\n",
       "<circle clip-path=\"url(#clip520)\" cx=\"2086.78\" cy=\"155.698\" r=\"23\" fill=\"#0000ff\" fill-rule=\"evenodd\" fill-opacity=\"1\" stroke=\"#000000\" stroke-opacity=\"1\" stroke-width=\"5.12\"/>\n",
       "<circle clip-path=\"url(#clip520)\" cx=\"2086.78\" cy=\"155.698\" r=\"23\" fill=\"#ff0000\" fill-rule=\"evenodd\" fill-opacity=\"1\" stroke=\"#000000\" stroke-opacity=\"1\" stroke-width=\"5.12\"/>\n",
       "<circle clip-path=\"url(#clip520)\" cx=\"2086.78\" cy=\"155.698\" r=\"23\" fill=\"#0000ff\" fill-rule=\"evenodd\" fill-opacity=\"1\" stroke=\"#000000\" stroke-opacity=\"1\" stroke-width=\"5.12\"/>\n",
       "<circle clip-path=\"url(#clip520)\" cx=\"2086.78\" cy=\"155.698\" r=\"23\" fill=\"#ffff00\" fill-rule=\"evenodd\" fill-opacity=\"1\" stroke=\"#000000\" stroke-opacity=\"1\" stroke-width=\"5.12\"/>\n",
       "<circle clip-path=\"url(#clip520)\" cx=\"2086.78\" cy=\"155.698\" r=\"23\" fill=\"#ff0000\" fill-rule=\"evenodd\" fill-opacity=\"1\" stroke=\"#000000\" stroke-opacity=\"1\" stroke-width=\"5.12\"/>\n",
       "<circle clip-path=\"url(#clip520)\" cx=\"2086.78\" cy=\"155.698\" r=\"23\" fill=\"#0000ff\" fill-rule=\"evenodd\" fill-opacity=\"1\" stroke=\"#000000\" stroke-opacity=\"1\" stroke-width=\"5.12\"/>\n",
       "<circle clip-path=\"url(#clip520)\" cx=\"2086.78\" cy=\"155.698\" r=\"23\" fill=\"#ffff00\" fill-rule=\"evenodd\" fill-opacity=\"1\" stroke=\"#000000\" stroke-opacity=\"1\" stroke-width=\"5.12\"/>\n",
       "<circle clip-path=\"url(#clip520)\" cx=\"2086.78\" cy=\"155.698\" r=\"23\" fill=\"#ff0000\" fill-rule=\"evenodd\" fill-opacity=\"1\" stroke=\"#000000\" stroke-opacity=\"1\" stroke-width=\"5.12\"/>\n",
       "<circle clip-path=\"url(#clip520)\" cx=\"2086.78\" cy=\"155.698\" r=\"23\" fill=\"#ffff00\" fill-rule=\"evenodd\" fill-opacity=\"1\" stroke=\"#000000\" stroke-opacity=\"1\" stroke-width=\"5.12\"/>\n",
       "<circle clip-path=\"url(#clip520)\" cx=\"2086.78\" cy=\"155.698\" r=\"23\" fill=\"#008000\" fill-rule=\"evenodd\" fill-opacity=\"1\" stroke=\"#000000\" stroke-opacity=\"1\" stroke-width=\"5.12\"/>\n",
       "<circle clip-path=\"url(#clip520)\" cx=\"2086.78\" cy=\"155.698\" r=\"23\" fill=\"#008000\" fill-rule=\"evenodd\" fill-opacity=\"1\" stroke=\"#000000\" stroke-opacity=\"1\" stroke-width=\"5.12\"/>\n",
       "<circle clip-path=\"url(#clip520)\" cx=\"2086.78\" cy=\"155.698\" r=\"23\" fill=\"#008000\" fill-rule=\"evenodd\" fill-opacity=\"1\" stroke=\"#000000\" stroke-opacity=\"1\" stroke-width=\"5.12\"/>\n",
       "<circle clip-path=\"url(#clip520)\" cx=\"2086.78\" cy=\"155.698\" r=\"23\" fill=\"#008000\" fill-rule=\"evenodd\" fill-opacity=\"1\" stroke=\"#000000\" stroke-opacity=\"1\" stroke-width=\"5.12\"/>\n",
       "<circle clip-path=\"url(#clip520)\" cx=\"2086.78\" cy=\"155.698\" r=\"23\" fill=\"#0000ff\" fill-rule=\"evenodd\" fill-opacity=\"1\" stroke=\"#000000\" stroke-opacity=\"1\" stroke-width=\"5.12\"/>\n",
       "<circle clip-path=\"url(#clip520)\" cx=\"2086.78\" cy=\"155.698\" r=\"23\" fill=\"#008000\" fill-rule=\"evenodd\" fill-opacity=\"1\" stroke=\"#000000\" stroke-opacity=\"1\" stroke-width=\"5.12\"/>\n",
       "<circle clip-path=\"url(#clip520)\" cx=\"2086.78\" cy=\"155.698\" r=\"23\" fill=\"#ff0000\" fill-rule=\"evenodd\" fill-opacity=\"1\" stroke=\"#000000\" stroke-opacity=\"1\" stroke-width=\"5.12\"/>\n",
       "<circle clip-path=\"url(#clip520)\" cx=\"2086.78\" cy=\"155.698\" r=\"23\" fill=\"#0000ff\" fill-rule=\"evenodd\" fill-opacity=\"1\" stroke=\"#000000\" stroke-opacity=\"1\" stroke-width=\"5.12\"/>\n",
       "<circle clip-path=\"url(#clip520)\" cx=\"2086.78\" cy=\"155.698\" r=\"23\" fill=\"#008000\" fill-rule=\"evenodd\" fill-opacity=\"1\" stroke=\"#000000\" stroke-opacity=\"1\" stroke-width=\"5.12\"/>\n",
       "<circle clip-path=\"url(#clip520)\" cx=\"2086.78\" cy=\"155.698\" r=\"23\" fill=\"#ff0000\" fill-rule=\"evenodd\" fill-opacity=\"1\" stroke=\"#000000\" stroke-opacity=\"1\" stroke-width=\"5.12\"/>\n",
       "<circle clip-path=\"url(#clip520)\" cx=\"2086.78\" cy=\"155.698\" r=\"23\" fill=\"#0000ff\" fill-rule=\"evenodd\" fill-opacity=\"1\" stroke=\"#000000\" stroke-opacity=\"1\" stroke-width=\"5.12\"/>\n",
       "<circle clip-path=\"url(#clip520)\" cx=\"2086.78\" cy=\"155.698\" r=\"23\" fill=\"#008000\" fill-rule=\"evenodd\" fill-opacity=\"1\" stroke=\"#000000\" stroke-opacity=\"1\" stroke-width=\"5.12\"/>\n",
       "<circle clip-path=\"url(#clip520)\" cx=\"2086.78\" cy=\"155.698\" r=\"23\" fill=\"#ff0000\" fill-rule=\"evenodd\" fill-opacity=\"1\" stroke=\"#000000\" stroke-opacity=\"1\" stroke-width=\"5.12\"/>\n",
       "<circle clip-path=\"url(#clip520)\" cx=\"2086.78\" cy=\"155.698\" r=\"23\" fill=\"#008000\" fill-rule=\"evenodd\" fill-opacity=\"1\" stroke=\"#000000\" stroke-opacity=\"1\" stroke-width=\"5.12\"/>\n",
       "<circle clip-path=\"url(#clip520)\" cx=\"2086.78\" cy=\"155.698\" r=\"23\" fill=\"#ff0000\" fill-rule=\"evenodd\" fill-opacity=\"1\" stroke=\"#000000\" stroke-opacity=\"1\" stroke-width=\"5.12\"/>\n",
       "<circle clip-path=\"url(#clip520)\" cx=\"2086.78\" cy=\"155.698\" r=\"23\" fill=\"#ff0000\" fill-rule=\"evenodd\" fill-opacity=\"1\" stroke=\"#000000\" stroke-opacity=\"1\" stroke-width=\"5.12\"/>\n",
       "<circle clip-path=\"url(#clip520)\" cx=\"2086.78\" cy=\"155.698\" r=\"23\" fill=\"#ff0000\" fill-rule=\"evenodd\" fill-opacity=\"1\" stroke=\"#000000\" stroke-opacity=\"1\" stroke-width=\"5.12\"/>\n",
       "<circle clip-path=\"url(#clip520)\" cx=\"2086.78\" cy=\"155.698\" r=\"23\" fill=\"#ff0000\" fill-rule=\"evenodd\" fill-opacity=\"1\" stroke=\"#000000\" stroke-opacity=\"1\" stroke-width=\"5.12\"/>\n",
       "<circle clip-path=\"url(#clip520)\" cx=\"2086.78\" cy=\"155.698\" r=\"23\" fill=\"#ff0000\" fill-rule=\"evenodd\" fill-opacity=\"1\" stroke=\"#000000\" stroke-opacity=\"1\" stroke-width=\"5.12\"/>\n",
       "<circle clip-path=\"url(#clip520)\" cx=\"2086.78\" cy=\"155.698\" r=\"23\" fill=\"#ff0000\" fill-rule=\"evenodd\" fill-opacity=\"1\" stroke=\"#000000\" stroke-opacity=\"1\" stroke-width=\"5.12\"/>\n",
       "<circle clip-path=\"url(#clip520)\" cx=\"2086.78\" cy=\"155.698\" r=\"23\" fill=\"#ffff00\" fill-rule=\"evenodd\" fill-opacity=\"1\" stroke=\"#000000\" stroke-opacity=\"1\" stroke-width=\"5.12\"/>\n",
       "<path clip-path=\"url(#clip520)\" d=\"M 0 0 M2196.16 175.385 Q2194.35 180.015 2192.64 181.427 Q2190.93 182.839 2188.06 182.839 L2184.65 182.839 L2184.65 179.274 L2187.15 179.274 Q2188.91 179.274 2189.89 178.44 Q2190.86 177.607 2192.04 174.505 L2192.8 172.561 L2182.32 147.052 L2186.83 147.052 L2194.93 167.329 L2203.03 147.052 L2207.55 147.052 L2196.16 175.385 Z\" fill=\"#000000\" fill-rule=\"evenodd\" fill-opacity=\"1\" /><path clip-path=\"url(#clip520)\" d=\"M 0 0 M2213.43 169.042 L2221.07 169.042 L2221.07 142.677 L2212.76 144.343 L2212.76 140.084 L2221.02 138.418 L2225.7 138.418 L2225.7 169.042 L2233.33 169.042 L2233.33 172.978 L2213.43 172.978 L2213.43 169.042 Z\" fill=\"#000000\" fill-rule=\"evenodd\" fill-opacity=\"1\" /></svg>\n"
      ]
     },
     "execution_count": 75,
     "metadata": {},
     "output_type": "execute_result"
    }
   ],
   "source": [
    "# Clusters based on number of Boroughs\n",
    "\n",
    "colors = [\"red\" \"yellow\" \"blue\" \"green\"]\n",
    "scatter(toronto_df[:Longitude], toronto_df[:Latitude], color=colors[results.assignments])"
   ]
  },
  {
   "cell_type": "code",
   "execution_count": null,
   "metadata": {},
   "outputs": [],
   "source": [
    "toronto_map = flm.Map(\n",
    "    location=(43.6529, -79.3849),\n",
    "    tiles=\"OpenStreetMap\"\n",
    ")\n",
    "\n",
    "# add markers to the map\n",
    "colors = [\"red\" \"yellow\" \"blue\" \"green\"]\n",
    "for (lat, lon, poi, cluster) in zip(\n",
    "        toronto_df[:Latitude], \n",
    "        toronto_df[:Longitude], \n",
    "        toronto_df[:Neighbourhood], \n",
    "        results.assignments\n",
    "        )\n",
    "    label = flm.Popup(\"Cluster $(cluster): $poi\", parse_html=true)\n",
    "    flm.CircleMarker(\n",
    "        [lat, lon],\n",
    "        radius=5,\n",
    "        popup=label,\n",
    "        color=colors[cluster],\n",
    "        fill=true,\n",
    "        fill_color=colors[cluster],\n",
    "        fill_opacity=0.7).add_to(toronto_map)\n",
    "end\n",
    "toronto_map"
   ]
  },
  {
   "cell_type": "markdown",
   "metadata": {},
   "source": [
    "## Using Foursquare Data"
   ]
  },
  {
   "cell_type": "code",
   "execution_count": 120,
   "metadata": {},
   "outputs": [
    {
     "data": {
      "text/plain": [
       "500"
      ]
     },
     "execution_count": 120,
     "metadata": {},
     "output_type": "execute_result"
    }
   ],
   "source": [
    "# Parameters\n",
    "\n",
    "CLIENT_ID = \"CAFNA0SXY1KWV0NGK0KBLTDBRG1CGN5AP5WGY4VJYZA4R0FZ\" # your Foursquare ID\n",
    "CLIENT_SECRET = \"TPGMEC1PP140BNTKW11RI43E0I15545FBOYXG4OUORJ4JDA3\" # your Foursquare Secret\n",
    "VERSION = \"20200826\"  #Foursquare API version\n",
    "LIMIT = 100\n",
    "RADIUS = 500"
   ]
  },
  {
   "cell_type": "code",
   "execution_count": 257,
   "metadata": {},
   "outputs": [
    {
     "data": {
      "text/plain": [
       "get_nearby_venues (generic function with 2 methods)"
      ]
     },
     "execution_count": 257,
     "metadata": {},
     "output_type": "execute_result"
    }
   ],
   "source": [
    "function get_nearby_venues(names, latitudes, longitudes, radius=RADIUS)\n",
    "    venues_list = []\n",
    "    \n",
    "    for (name, lat, lng) in zip(names, latitudes, longitudes)           \n",
    "        # create the API request URL\n",
    "        url = \"https://api.foursquare.com/v2/venues/explore?&client_id=$(CLIENT_ID)&client_secret=$(CLIENT_SECRET)&v=$(VERSION)&ll=$(lat),$(lng)&radius=$(radius)&limit=$(LIMIT)\"\n",
    "            \n",
    "        # make the GET request\n",
    "        results = JSON3.read(HTTP.get(url).body)[:response][:groups][1][:items]\n",
    "        \n",
    "        # return only relevant information for each nearby venue\n",
    "        push!(venues_list, [(\n",
    "            name, \n",
    "            lat, \n",
    "            lng, \n",
    "            v[:venue][:name], \n",
    "            v[:venue][:location][:lat], \n",
    "            v[:venue][:location][:lng],  \n",
    "            v[:venue][:categories][1][:name]) \n",
    "                for v in results]\n",
    "        )\n",
    "    end\n",
    "    \n",
    "    nearby_venues = DataFrame([item for venue_list in venues_list for item in venue_list])\n",
    "    rename!(nearby_venues, [:Neighbourhood, :Latitude, :Longitude, :Venue, :VenueLat, :VenueLng, :Category])\n",
    "    return(nearby_venues)\n",
    "end"
   ]
  },
  {
   "cell_type": "code",
   "execution_count": 258,
   "metadata": {},
   "outputs": [],
   "source": [
    "toronto_venues = get_nearby_venues(toronto_df[:Neighbourhood], toronto_df[:Latitude], toronto_df[:Longitude]);"
   ]
  },
  {
   "cell_type": "code",
   "execution_count": 259,
   "metadata": {},
   "outputs": [
    {
     "name": "stdout",
     "output_type": "stream",
     "text": [
      "(1635, 7)\n"
     ]
    },
    {
     "data": {
      "text/html": [
       "<table class=\"data-frame\"><thead><tr><th></th><th>Neighbourhood</th><th>Latitude</th><th>Longitude</th><th>Venue</th><th>VenueLat</th><th>VenueLng</th><th>Category</th></tr><tr><th></th><th>SubStri…</th><th>Float64</th><th>Float64</th><th>String</th><th>Float64</th><th>Float64</th><th>String</th></tr></thead><tbody><p>6 rows × 7 columns</p><tr><th>1</th><td>Regent Park, Harbourfront</td><td>43.6543</td><td>-79.3606</td><td>Roselle Desserts</td><td>43.6534</td><td>-79.362</td><td>Bakery</td></tr><tr><th>2</th><td>Regent Park, Harbourfront</td><td>43.6543</td><td>-79.3606</td><td>Tandem Coffee</td><td>43.6536</td><td>-79.3618</td><td>Coffee Shop</td></tr><tr><th>3</th><td>Regent Park, Harbourfront</td><td>43.6543</td><td>-79.3606</td><td>Cooper Koo Family YMCA</td><td>43.6532</td><td>-79.358</td><td>Distribution Center</td></tr><tr><th>4</th><td>Regent Park, Harbourfront</td><td>43.6543</td><td>-79.3606</td><td>Body Blitz Spa East</td><td>43.6547</td><td>-79.3599</td><td>Spa</td></tr><tr><th>5</th><td>Regent Park, Harbourfront</td><td>43.6543</td><td>-79.3606</td><td>Impact Kitchen</td><td>43.6564</td><td>-79.357</td><td>Restaurant</td></tr><tr><th>6</th><td>Regent Park, Harbourfront</td><td>43.6543</td><td>-79.3606</td><td>Corktown Common</td><td>43.6556</td><td>-79.3562</td><td>Park</td></tr></tbody></table>"
      ],
      "text/latex": [
       "\\begin{tabular}{r|ccccccc}\n",
       "\t& Neighbourhood & Latitude & Longitude & Venue & VenueLat & VenueLng & Category\\\\\n",
       "\t\\hline\n",
       "\t& SubStri… & Float64 & Float64 & String & Float64 & Float64 & String\\\\\n",
       "\t\\hline\n",
       "\t1 & Regent Park, Harbourfront & 43.6543 & -79.3606 & Roselle Desserts & 43.6534 & -79.362 & Bakery \\\\\n",
       "\t2 & Regent Park, Harbourfront & 43.6543 & -79.3606 & Tandem Coffee & 43.6536 & -79.3618 & Coffee Shop \\\\\n",
       "\t3 & Regent Park, Harbourfront & 43.6543 & -79.3606 & Cooper Koo Family YMCA & 43.6532 & -79.358 & Distribution Center \\\\\n",
       "\t4 & Regent Park, Harbourfront & 43.6543 & -79.3606 & Body Blitz Spa East & 43.6547 & -79.3599 & Spa \\\\\n",
       "\t5 & Regent Park, Harbourfront & 43.6543 & -79.3606 & Impact Kitchen & 43.6564 & -79.357 & Restaurant \\\\\n",
       "\t6 & Regent Park, Harbourfront & 43.6543 & -79.3606 & Corktown Common & 43.6556 & -79.3562 & Park \\\\\n",
       "\\end{tabular}\n"
      ],
      "text/plain": [
       "6×7 DataFrame\n"
      ]
     },
     "execution_count": 259,
     "metadata": {},
     "output_type": "execute_result"
    }
   ],
   "source": [
    "Base.displaysize() = (7, 133)\n",
    "println(size(toronto_venues))\n",
    "head(toronto_venues)"
   ]
  },
  {
   "cell_type": "markdown",
   "metadata": {},
   "source": [
    "## Create One-Hot Encoded matrix"
   ]
  },
  {
   "cell_type": "code",
   "execution_count": 356,
   "metadata": {},
   "outputs": [
    {
     "data": {
      "text/html": [
       "<table class=\"data-frame\"><thead><tr><th></th><th>Neighbourhood</th><th>Latitude</th><th>Longitude</th><th>Venue</th><th>VenueLat</th><th>VenueLng</th><th>Category</th><th>Bakery</th><th>Coffee Shop</th></tr><tr><th></th><th>SubStri…</th><th>Float64</th><th>Float64</th><th>String</th><th>Float64</th><th>Float64</th><th>String</th><th>Bool</th><th>Bool</th></tr></thead><tbody><p>1,635 rows × 247 columns (omitted printing of 238 columns)</p><tr><th>1</th><td>Regent Park, Harbourfront</td><td>43.6543</td><td>-79.3606</td><td>Roselle Desserts</td><td>43.6534</td><td>-79.362</td><td>Bakery</td><td>1</td><td>0</td></tr><tr><th>2</th><td>Regent Park, Harbourfront</td><td>43.6543</td><td>-79.3606</td><td>Tandem Coffee</td><td>43.6536</td><td>-79.3618</td><td>Coffee Shop</td><td>0</td><td>1</td></tr><tr><th>3</th><td>Regent Park, Harbourfront</td><td>43.6543</td><td>-79.3606</td><td>Cooper Koo Family YMCA</td><td>43.6532</td><td>-79.358</td><td>Distribution Center</td><td>0</td><td>0</td></tr><tr><th>4</th><td>Regent Park, Harbourfront</td><td>43.6543</td><td>-79.3606</td><td>Body Blitz Spa East</td><td>43.6547</td><td>-79.3599</td><td>Spa</td><td>0</td><td>0</td></tr><tr><th>5</th><td>Regent Park, Harbourfront</td><td>43.6543</td><td>-79.3606</td><td>Impact Kitchen</td><td>43.6564</td><td>-79.357</td><td>Restaurant</td><td>0</td><td>0</td></tr><tr><th>6</th><td>Regent Park, Harbourfront</td><td>43.6543</td><td>-79.3606</td><td>Corktown Common</td><td>43.6556</td><td>-79.3562</td><td>Park</td><td>0</td><td>0</td></tr><tr><th>7</th><td>Regent Park, Harbourfront</td><td>43.6543</td><td>-79.3606</td><td>Dominion Pub and Kitchen</td><td>43.6569</td><td>-79.359</td><td>Pub</td><td>0</td><td>0</td></tr><tr><th>&vellip;</th><td>&vellip;</td><td>&vellip;</td><td>&vellip;</td><td>&vellip;</td><td>&vellip;</td><td>&vellip;</td><td>&vellip;</td><td>&vellip;</td><td>&vellip;</td></tr></tbody></table>"
      ],
      "text/latex": [
       "\\begin{tabular}{r|cccccccccc}\n",
       "\t& Neighbourhood & Latitude & Longitude & Venue & VenueLat & VenueLng & Category & Bakery & Coffee Shop & \\\\\n",
       "\t\\hline\n",
       "\t& SubStri… & Float64 & Float64 & String & Float64 & Float64 & String & Bool & Bool & \\\\\n",
       "\t\\hline\n",
       "\t1 & Regent Park, Harbourfront & 43.6543 & -79.3606 & Roselle Desserts & 43.6534 & -79.362 & Bakery & 1 & 0 & $\\dots$ \\\\\n",
       "\t2 & Regent Park, Harbourfront & 43.6543 & -79.3606 & Tandem Coffee & 43.6536 & -79.3618 & Coffee Shop & 0 & 1 & $\\dots$ \\\\\n",
       "\t3 & Regent Park, Harbourfront & 43.6543 & -79.3606 & Cooper Koo Family YMCA & 43.6532 & -79.358 & Distribution Center & 0 & 0 & $\\dots$ \\\\\n",
       "\t4 & Regent Park, Harbourfront & 43.6543 & -79.3606 & Body Blitz Spa East & 43.6547 & -79.3599 & Spa & 0 & 0 & $\\dots$ \\\\\n",
       "\t5 & Regent Park, Harbourfront & 43.6543 & -79.3606 & Impact Kitchen & 43.6564 & -79.357 & Restaurant & 0 & 0 & $\\dots$ \\\\\n",
       "\t6 & Regent Park, Harbourfront & 43.6543 & -79.3606 & Corktown Common & 43.6556 & -79.3562 & Park & 0 & 0 & $\\dots$ \\\\\n",
       "\t7 & Regent Park, Harbourfront & 43.6543 & -79.3606 & Dominion Pub and Kitchen & 43.6569 & -79.359 & Pub & 0 & 0 & $\\dots$ \\\\\n",
       "\t$\\dots$ & $\\dots$ & $\\dots$ & $\\dots$ & $\\dots$ & $\\dots$ & $\\dots$ & $\\dots$ & $\\dots$ & $\\dots$ &  \\\\\n",
       "\\end{tabular}\n"
      ],
      "text/plain": [
       "1635×247 DataFrame\n"
      ]
     },
     "execution_count": 356,
     "metadata": {},
     "output_type": "execute_result"
    }
   ],
   "source": [
    "onehot_matrix = Flux.onehotbatch(toronto_venues[!, :Category], unique(toronto_venues[!, :Category])) |> permutedims\n",
    "colnames = unique(toronto_venues[:Category])\n",
    "onehot_df = DataFrame(onehot_matrix)\n",
    "rename!(onehot_df, colnames)\n",
    "toronto_onehot = hcat(toronto_venues, onehot_df)"
   ]
  },
  {
   "cell_type": "markdown",
   "metadata": {},
   "source": [
    "## Group by Neighborhood"
   ]
  },
  {
   "cell_type": "code",
   "execution_count": 357,
   "metadata": {},
   "outputs": [
    {
     "data": {
      "text/html": [
       "<p><b>GroupedDataFrame with 39 groups based on key: Neighbourhood</b></p><p><i>First Group (45 rows): Neighbourhood = \"Regent Park, Harbourfront\"</i></p><table class=\"data-frame\"><thead><tr><th></th><th>Neighbourhood</th><th>Latitude</th><th>Longitude</th><th>Venue</th><th>VenueLat</th><th>VenueLng</th><th>Category</th><th>Bakery</th><th>Coffee Shop</th></tr><tr><th></th><th>SubStri…</th><th>Float64</th><th>Float64</th><th>String</th><th>Float64</th><th>Float64</th><th>String</th><th>Bool</th><th>Bool</th></tr></thead><tbody><tr><th>1</th><td>Regent Park, Harbourfront</td><td>43.6543</td><td>-79.3606</td><td>Roselle Desserts</td><td>43.6534</td><td>-79.362</td><td>Bakery</td><td>1</td><td>0</td></tr><tr><th>2</th><td>Regent Park, Harbourfront</td><td>43.6543</td><td>-79.3606</td><td>Tandem Coffee</td><td>43.6536</td><td>-79.3618</td><td>Coffee Shop</td><td>0</td><td>1</td></tr><tr><th>3</th><td>Regent Park, Harbourfront</td><td>43.6543</td><td>-79.3606</td><td>Cooper Koo Family YMCA</td><td>43.6532</td><td>-79.358</td><td>Distribution Center</td><td>0</td><td>0</td></tr><tr><th>4</th><td>Regent Park, Harbourfront</td><td>43.6543</td><td>-79.3606</td><td>Body Blitz Spa East</td><td>43.6547</td><td>-79.3599</td><td>Spa</td><td>0</td><td>0</td></tr><tr><th>5</th><td>Regent Park, Harbourfront</td><td>43.6543</td><td>-79.3606</td><td>Impact Kitchen</td><td>43.6564</td><td>-79.357</td><td>Restaurant</td><td>0</td><td>0</td></tr><tr><th>6</th><td>Regent Park, Harbourfront</td><td>43.6543</td><td>-79.3606</td><td>Corktown Common</td><td>43.6556</td><td>-79.3562</td><td>Park</td><td>0</td><td>0</td></tr><tr><th>7</th><td>Regent Park, Harbourfront</td><td>43.6543</td><td>-79.3606</td><td>Dominion Pub and Kitchen</td><td>43.6569</td><td>-79.359</td><td>Pub</td><td>0</td><td>0</td></tr><tr><th>&vellip;</th><td>&vellip;</td><td>&vellip;</td><td>&vellip;</td><td>&vellip;</td><td>&vellip;</td><td>&vellip;</td><td>&vellip;</td><td>&vellip;</td><td>&vellip;</td></tr></tbody></table><p>&vellip;</p><p><i>Last Group (18 rows): Neighbourhood = \"Business reply mail Processing Centre, South Central Letter Processing Plant Toronto\"</i></p><table class=\"data-frame\"><thead><tr><th></th><th>Neighbourhood</th><th>Latitude</th><th>Longitude</th><th>Venue</th></tr><tr><th></th><th>SubStri…</th><th>Float64</th><th>Float64</th><th>String</th></tr></thead><tbody><tr><th>1</th><td>Business reply mail Processing Centre, South Central Letter Processing Plant Toronto</td><td>43.6627</td><td>-79.3216</td><td>Rorschach Brewing Co.</td></tr><tr><th>2</th><td>Business reply mail Processing Centre, South Central Letter Processing Plant Toronto</td><td>43.6627</td><td>-79.3216</td><td>Leslieville Farmers Market</td></tr><tr><th>3</th><td>Business reply mail Processing Centre, South Central Letter Processing Plant Toronto</td><td>43.6627</td><td>-79.3216</td><td>The Sidekick</td></tr><tr><th>4</th><td>Business reply mail Processing Centre, South Central Letter Processing Plant Toronto</td><td>43.6627</td><td>-79.3216</td><td>Chino Locos</td></tr><tr><th>5</th><td>Business reply mail Processing Centre, South Central Letter Processing Plant Toronto</td><td>43.6627</td><td>-79.3216</td><td>Queen Margherita Pizza</td></tr><tr><th>6</th><td>Business reply mail Processing Centre, South Central Letter Processing Plant Toronto</td><td>43.6627</td><td>-79.3216</td><td>Ashbridges Bay Skatepark</td></tr><tr><th>7</th><td>Business reply mail Processing Centre, South Central Letter Processing Plant Toronto</td><td>43.6627</td><td>-79.3216</td><td>Chick-n-Joy</td></tr><tr><th>&vellip;</th><td>&vellip;</td><td>&vellip;</td><td>&vellip;</td><td>&vellip;</td></tr></tbody></table>"
      ],
      "text/latex": [
       "GroupedDataFrame with 39 groups based on key: Neighbourhood\n",
       "\n",
       "First Group (45 rows): Neighbourhood = \"Regent Park, Harbourfront\"\n",
       "\n",
       "\\begin{tabular}{r|cccccccccc}\n",
       "\t& Neighbourhood & Latitude & Longitude & Venue & VenueLat & VenueLng & Category & Bakery & Coffee Shop & \\\\\n",
       "\t\\hline\n",
       "\t& SubStri… & Float64 & Float64 & String & Float64 & Float64 & String & Bool & Bool & \\\\\n",
       "\t\\hline\n",
       "\t1 & Regent Park, Harbourfront & 43.6543 & -79.3606 & Roselle Desserts & 43.6534 & -79.362 & Bakery & 1 & 0 & $\\dots$ \\\\\n",
       "\t2 & Regent Park, Harbourfront & 43.6543 & -79.3606 & Tandem Coffee & 43.6536 & -79.3618 & Coffee Shop & 0 & 1 & $\\dots$ \\\\\n",
       "\t3 & Regent Park, Harbourfront & 43.6543 & -79.3606 & Cooper Koo Family YMCA & 43.6532 & -79.358 & Distribution Center & 0 & 0 & $\\dots$ \\\\\n",
       "\t4 & Regent Park, Harbourfront & 43.6543 & -79.3606 & Body Blitz Spa East & 43.6547 & -79.3599 & Spa & 0 & 0 & $\\dots$ \\\\\n",
       "\t5 & Regent Park, Harbourfront & 43.6543 & -79.3606 & Impact Kitchen & 43.6564 & -79.357 & Restaurant & 0 & 0 & $\\dots$ \\\\\n",
       "\t6 & Regent Park, Harbourfront & 43.6543 & -79.3606 & Corktown Common & 43.6556 & -79.3562 & Park & 0 & 0 & $\\dots$ \\\\\n",
       "\t7 & Regent Park, Harbourfront & 43.6543 & -79.3606 & Dominion Pub and Kitchen & 43.6569 & -79.359 & Pub & 0 & 0 & $\\dots$ \\\\\n",
       "\t$\\dots$ & $\\dots$ & $\\dots$ & $\\dots$ & $\\dots$ & $\\dots$ & $\\dots$ & $\\dots$ & $\\dots$ & $\\dots$ &  \\\\\n",
       "\\end{tabular}\n",
       "\n",
       "$\\dots$\n",
       "\n",
       "Last Group (18 rows): Neighbourhood = \"Business reply mail Processing Centre, South Central Letter Processing Plant Toronto\"\n",
       "\n",
       "\\begin{tabular}{r|ccccc}\n",
       "\t& Neighbourhood & Latitude & Longitude & Venue & \\\\\n",
       "\t\\hline\n",
       "\t& SubStri… & Float64 & Float64 & String & \\\\\n",
       "\t\\hline\n",
       "\t1 & Business reply mail Processing Centre, South Central Letter Processing Plant Toronto & 43.6627 & -79.3216 & Rorschach Brewing Co. & $\\dots$ \\\\\n",
       "\t2 & Business reply mail Processing Centre, South Central Letter Processing Plant Toronto & 43.6627 & -79.3216 & Leslieville Farmers Market & $\\dots$ \\\\\n",
       "\t3 & Business reply mail Processing Centre, South Central Letter Processing Plant Toronto & 43.6627 & -79.3216 & The Sidekick & $\\dots$ \\\\\n",
       "\t4 & Business reply mail Processing Centre, South Central Letter Processing Plant Toronto & 43.6627 & -79.3216 & Chino Locos & $\\dots$ \\\\\n",
       "\t5 & Business reply mail Processing Centre, South Central Letter Processing Plant Toronto & 43.6627 & -79.3216 & Queen Margherita Pizza & $\\dots$ \\\\\n",
       "\t6 & Business reply mail Processing Centre, South Central Letter Processing Plant Toronto & 43.6627 & -79.3216 & Ashbridges Bay Skatepark & $\\dots$ \\\\\n",
       "\t7 & Business reply mail Processing Centre, South Central Letter Processing Plant Toronto & 43.6627 & -79.3216 & Chick-n-Joy & $\\dots$ \\\\\n",
       "\t$\\dots$ & $\\dots$ & $\\dots$ & $\\dots$ & $\\dots$ &  \\\\\n",
       "\\end{tabular}\n"
      ],
      "text/plain": [
       "GroupedDataFrame with 39 groups based on key: Neighbourhood\n",
       "First Group (45 rows): Neighbourhood = \"Regent Park, Harbourfront\"\n",
       "⋮\n",
       "Last Group (18 rows): Neighbourhood = \"Business reply mail Processing Centre, South Central Letter Processing Plant Toronto\""
      ]
     },
     "execution_count": 357,
     "metadata": {},
     "output_type": "execute_result"
    }
   ],
   "source": [
    "grouped_venues = groupby(toronto_onehot, :Neighbourhood)"
   ]
  },
  {
   "cell_type": "markdown",
   "metadata": {},
   "source": [
    "## Compute proportions of Categories by Neighborhood"
   ]
  },
  {
   "cell_type": "code",
   "execution_count": 366,
   "metadata": {
    "scrolled": true
   },
   "outputs": [
    {
     "data": {
      "text/html": [
       "<table class=\"data-frame\"><thead><tr><th></th><th>Neighbourhood</th><th>Bakery_mean</th><th>Coffee Shop_mean</th><th>Distribution Center_mean</th><th>Spa_mean</th><th>Restaurant_mean</th><th>Park_mean</th></tr><tr><th></th><th>SubStri…</th><th>Float64</th><th>Float64</th><th>Float64</th><th>Float64</th><th>Float64</th><th>Float64</th></tr></thead><tbody><p>39 rows × 241 columns (omitted printing of 234 columns)</p><tr><th>1</th><td>Regent Park, Harbourfront</td><td>0.0666667</td><td>0.155556</td><td>0.0222222</td><td>0.0222222</td><td>0.0222222</td><td>0.0666667</td></tr><tr><th>2</th><td>Queen's Park, Ontario Provincial Government</td><td>0.0</td><td>0.235294</td><td>0.0294118</td><td>0.0</td><td>0.0</td><td>0.0294118</td></tr><tr><th>3</th><td>Garden District, Ryerson</td><td>0.01</td><td>0.09</td><td>0.0</td><td>0.01</td><td>0.01</td><td>0.01</td></tr><tr><th>4</th><td>St. James Town</td><td>0.0119048</td><td>0.0714286</td><td>0.0</td><td>0.0</td><td>0.0238095</td><td>0.0119048</td></tr><tr><th>5</th><td>The Beaches</td><td>0.0</td><td>0.0</td><td>0.0</td><td>0.0</td><td>0.0</td><td>0.0</td></tr><tr><th>6</th><td>Berczy Park</td><td>0.0350877</td><td>0.0877193</td><td>0.0</td><td>0.0</td><td>0.0350877</td><td>0.0175439</td></tr><tr><th>7</th><td>Central Bay Street</td><td>0.0</td><td>0.177419</td><td>0.0</td><td>0.016129</td><td>0.0</td><td>0.016129</td></tr><tr><th>&vellip;</th><td>&vellip;</td><td>&vellip;</td><td>&vellip;</td><td>&vellip;</td><td>&vellip;</td><td>&vellip;</td><td>&vellip;</td></tr></tbody></table>"
      ],
      "text/latex": [
       "\\begin{tabular}{r|cccccccc}\n",
       "\t& Neighbourhood & Bakery\\_mean & Coffee Shop\\_mean & Distribution Center\\_mean & Spa\\_mean & Restaurant\\_mean & Park\\_mean & \\\\\n",
       "\t\\hline\n",
       "\t& SubStri… & Float64 & Float64 & Float64 & Float64 & Float64 & Float64 & \\\\\n",
       "\t\\hline\n",
       "\t1 & Regent Park, Harbourfront & 0.0666667 & 0.155556 & 0.0222222 & 0.0222222 & 0.0222222 & 0.0666667 & $\\dots$ \\\\\n",
       "\t2 & Queen's Park, Ontario Provincial Government & 0.0 & 0.235294 & 0.0294118 & 0.0 & 0.0 & 0.0294118 & $\\dots$ \\\\\n",
       "\t3 & Garden District, Ryerson & 0.01 & 0.09 & 0.0 & 0.01 & 0.01 & 0.01 & $\\dots$ \\\\\n",
       "\t4 & St. James Town & 0.0119048 & 0.0714286 & 0.0 & 0.0 & 0.0238095 & 0.0119048 & $\\dots$ \\\\\n",
       "\t5 & The Beaches & 0.0 & 0.0 & 0.0 & 0.0 & 0.0 & 0.0 & $\\dots$ \\\\\n",
       "\t6 & Berczy Park & 0.0350877 & 0.0877193 & 0.0 & 0.0 & 0.0350877 & 0.0175439 & $\\dots$ \\\\\n",
       "\t7 & Central Bay Street & 0.0 & 0.177419 & 0.0 & 0.016129 & 0.0 & 0.016129 & $\\dots$ \\\\\n",
       "\t$\\dots$ & $\\dots$ & $\\dots$ & $\\dots$ & $\\dots$ & $\\dots$ & $\\dots$ & $\\dots$ &  \\\\\n",
       "\\end{tabular}\n"
      ],
      "text/plain": [
       "39×241 DataFrame\n"
      ]
     },
     "execution_count": 366,
     "metadata": {},
     "output_type": "execute_result"
    }
   ],
   "source": [
    "# Proportions of each\n",
    "proportions_venues = combine(map(x->x[:, 8:end], grouped_venues), valuecols(map(x -> x[:, 8:end], grouped_venues)) .=> mean)\n",
    "proportions_matrix = permutedims(convert(Matrix, proportions_venues[:, 2:end]))"
   ]
  },
  {
   "cell_type": "markdown",
   "metadata": {},
   "source": [
    "## K-Means Clustering on Proportions of Venue Categories"
   ]
  },
  {
   "cell_type": "code",
   "execution_count": 415,
   "metadata": {},
   "outputs": [
    {
     "data": {
      "text/plain": [
       "KmeansResult{Array{Float64,2},Float64,Int64}([0.026447578021502226 0.0 … 0.0 0.010471655328798185; 0.07359085778812853 0.0 … 0.0 0.1211205447314149; … ; 0.0 0.0 … 0.0 0.0; 0.0 0.0 … 0.0 0.0], [10, 10, 10, 1, 8, 1, 10, 3, 10, 3  …  4, 1, 10, 10, 9, 10, 1, 10, 10, 7], [0.023521336168780035, 0.0316446244492445, 0.01284196091887923, 0.013680861455815638, 0.0, 0.015527856907149355, 0.016840228732421518, 0.04291900230680512, 0.009961689862265005, 0.039520069204152256  …  0.0, 0.01810588859919955, 0.049143848105126266, 0.09023688339487514, 0.0, 0.007764755620630205, 0.01607602906662821, 0.009262902117776514, 0.015119139389358424, 0.03349920214999581], [12, 1, 3, 1, 1, 1, 3, 1, 1, 15], [12, 1, 3, 1, 1, 1, 3, 1, 1, 15], 0.9222177413850468, 4, true)"
      ]
     },
     "execution_count": 415,
     "metadata": {},
     "output_type": "execute_result"
    }
   ],
   "source": [
    "kclusters = 10\n",
    "results = kmeans(proportions_matrix, kclusters)"
   ]
  },
  {
   "cell_type": "code",
   "execution_count": 416,
   "metadata": {},
   "outputs": [
    {
     "data": {
      "text/html": [
       "<div style=\"width:100%;\"><div style=\"position:relative;width:100%;height:0;padding-bottom:60%;\"><span style=\"color:#565656\">Make this Notebook Trusted to load map: File -> Trust Notebook</span><iframe src=\"about:blank\" style=\"position:absolute;width:100%;height:100%;left:0;top:0;border:none !important;\" data-html=PCFET0NUWVBFIGh0bWw+CjxoZWFkPiAgICAKICAgIDxtZXRhIGh0dHAtZXF1aXY9ImNvbnRlbnQtdHlwZSIgY29udGVudD0idGV4dC9odG1sOyBjaGFyc2V0PVVURi04IiAvPgogICAgCiAgICAgICAgPHNjcmlwdD4KICAgICAgICAgICAgTF9OT19UT1VDSCA9IGZhbHNlOwogICAgICAgICAgICBMX0RJU0FCTEVfM0QgPSBmYWxzZTsKICAgICAgICA8L3NjcmlwdD4KICAgIAogICAgPHNjcmlwdCBzcmM9Imh0dHBzOi8vY2RuLmpzZGVsaXZyLm5ldC9ucG0vbGVhZmxldEAxLjYuMC9kaXN0L2xlYWZsZXQuanMiPjwvc2NyaXB0PgogICAgPHNjcmlwdCBzcmM9Imh0dHBzOi8vY29kZS5qcXVlcnkuY29tL2pxdWVyeS0xLjEyLjQubWluLmpzIj48L3NjcmlwdD4KICAgIDxzY3JpcHQgc3JjPSJodHRwczovL21heGNkbi5ib290c3RyYXBjZG4uY29tL2Jvb3RzdHJhcC8zLjIuMC9qcy9ib290c3RyYXAubWluLmpzIj48L3NjcmlwdD4KICAgIDxzY3JpcHQgc3JjPSJodHRwczovL2NkbmpzLmNsb3VkZmxhcmUuY29tL2FqYXgvbGlicy9MZWFmbGV0LmF3ZXNvbWUtbWFya2Vycy8yLjAuMi9sZWFmbGV0LmF3ZXNvbWUtbWFya2Vycy5qcyI+PC9zY3JpcHQ+CiAgICA8bGluayByZWw9InN0eWxlc2hlZXQiIGhyZWY9Imh0dHBzOi8vY2RuLmpzZGVsaXZyLm5ldC9ucG0vbGVhZmxldEAxLjYuMC9kaXN0L2xlYWZsZXQuY3NzIi8+CiAgICA8bGluayByZWw9InN0eWxlc2hlZXQiIGhyZWY9Imh0dHBzOi8vbWF4Y2RuLmJvb3RzdHJhcGNkbi5jb20vYm9vdHN0cmFwLzMuMi4wL2Nzcy9ib290c3RyYXAubWluLmNzcyIvPgogICAgPGxpbmsgcmVsPSJzdHlsZXNoZWV0IiBocmVmPSJodHRwczovL21heGNkbi5ib290c3RyYXBjZG4uY29tL2Jvb3RzdHJhcC8zLjIuMC9jc3MvYm9vdHN0cmFwLXRoZW1lLm1pbi5jc3MiLz4KICAgIDxsaW5rIHJlbD0ic3R5bGVzaGVldCIgaHJlZj0iaHR0cHM6Ly9tYXhjZG4uYm9vdHN0cmFwY2RuLmNvbS9mb250LWF3ZXNvbWUvNC42LjMvY3NzL2ZvbnQtYXdlc29tZS5taW4uY3NzIi8+CiAgICA8bGluayByZWw9InN0eWxlc2hlZXQiIGhyZWY9Imh0dHBzOi8vY2RuanMuY2xvdWRmbGFyZS5jb20vYWpheC9saWJzL0xlYWZsZXQuYXdlc29tZS1tYXJrZXJzLzIuMC4yL2xlYWZsZXQuYXdlc29tZS1tYXJrZXJzLmNzcyIvPgogICAgPGxpbmsgcmVsPSJzdHlsZXNoZWV0IiBocmVmPSJodHRwczovL3Jhd2Nkbi5naXRoYWNrLmNvbS9weXRob24tdmlzdWFsaXphdGlvbi9mb2xpdW0vbWFzdGVyL2ZvbGl1bS90ZW1wbGF0ZXMvbGVhZmxldC5hd2Vzb21lLnJvdGF0ZS5jc3MiLz4KICAgIDxzdHlsZT5odG1sLCBib2R5IHt3aWR0aDogMTAwJTtoZWlnaHQ6IDEwMCU7bWFyZ2luOiAwO3BhZGRpbmc6IDA7fTwvc3R5bGU+CiAgICA8c3R5bGU+I21hcCB7cG9zaXRpb246YWJzb2x1dGU7dG9wOjA7Ym90dG9tOjA7cmlnaHQ6MDtsZWZ0OjA7fTwvc3R5bGU+CiAgICAKICAgICAgICAgICAgPG1ldGEgbmFtZT0idmlld3BvcnQiIGNvbnRlbnQ9IndpZHRoPWRldmljZS13aWR0aCwKICAgICAgICAgICAgICAgIGluaXRpYWwtc2NhbGU9MS4wLCBtYXhpbXVtLXNjYWxlPTEuMCwgdXNlci1zY2FsYWJsZT1ubyIgLz4KICAgICAgICAgICAgPHN0eWxlPgogICAgICAgICAgICAgICAgI21hcF82NmFjY2ZmMDg0NzE0YzJlYWMxZDdlNGY4ZDZiOTYxYSB7CiAgICAgICAgICAgICAgICAgICAgcG9zaXRpb246IHJlbGF0aXZlOwogICAgICAgICAgICAgICAgICAgIHdpZHRoOiAxMDAuMCU7CiAgICAgICAgICAgICAgICAgICAgaGVpZ2h0OiAxMDAuMCU7CiAgICAgICAgICAgICAgICAgICAgbGVmdDogMC4wJTsKICAgICAgICAgICAgICAgICAgICB0b3A6IDAuMCU7CiAgICAgICAgICAgICAgICB9CiAgICAgICAgICAgIDwvc3R5bGU+CiAgICAgICAgCjwvaGVhZD4KPGJvZHk+ICAgIAogICAgCiAgICAgICAgICAgIDxkaXYgY2xhc3M9ImZvbGl1bS1tYXAiIGlkPSJtYXBfNjZhY2NmZjA4NDcxNGMyZWFjMWQ3ZTRmOGQ2Yjk2MWEiID48L2Rpdj4KICAgICAgICAKPC9ib2R5Pgo8c2NyaXB0PiAgICAKICAgIAogICAgICAgICAgICB2YXIgbWFwXzY2YWNjZmYwODQ3MTRjMmVhYzFkN2U0ZjhkNmI5NjFhID0gTC5tYXAoCiAgICAgICAgICAgICAgICAibWFwXzY2YWNjZmYwODQ3MTRjMmVhYzFkN2U0ZjhkNmI5NjFhIiwKICAgICAgICAgICAgICAgIHsKICAgICAgICAgICAgICAgICAgICBjZW50ZXI6IFs0My42NTI5LCAtNzkuMzg0OV0sCiAgICAgICAgICAgICAgICAgICAgY3JzOiBMLkNSUy5FUFNHMzg1NywKICAgICAgICAgICAgICAgICAgICB6b29tOiAxMCwKICAgICAgICAgICAgICAgICAgICB6b29tQ29udHJvbDogdHJ1ZSwKICAgICAgICAgICAgICAgICAgICBwcmVmZXJDYW52YXM6IGZhbHNlLAogICAgICAgICAgICAgICAgfQogICAgICAgICAgICApOwoKICAgICAgICAgICAgCgogICAgICAgIAogICAgCiAgICAgICAgICAgIHZhciB0aWxlX2xheWVyX2JiYjFmNjhiZDM4ZTRmNjc5YzIxOGZmNmRiNTk4ZDBkID0gTC50aWxlTGF5ZXIoCiAgICAgICAgICAgICAgICAiaHR0cHM6Ly97c30udGlsZS5vcGVuc3RyZWV0bWFwLm9yZy97en0ve3h9L3t5fS5wbmciLAogICAgICAgICAgICAgICAgeyJhdHRyaWJ1dGlvbiI6ICJEYXRhIGJ5IFx1MDAyNmNvcHk7IFx1MDAzY2EgaHJlZj1cImh0dHA6Ly9vcGVuc3RyZWV0bWFwLm9yZ1wiXHUwMDNlT3BlblN0cmVldE1hcFx1MDAzYy9hXHUwMDNlLCB1bmRlciBcdTAwM2NhIGhyZWY9XCJodHRwOi8vd3d3Lm9wZW5zdHJlZXRtYXAub3JnL2NvcHlyaWdodFwiXHUwMDNlT0RiTFx1MDAzYy9hXHUwMDNlLiIsICJkZXRlY3RSZXRpbmEiOiBmYWxzZSwgIm1heE5hdGl2ZVpvb20iOiAxOCwgIm1heFpvb20iOiAxOCwgIm1pblpvb20iOiAwLCAibm9XcmFwIjogZmFsc2UsICJvcGFjaXR5IjogMSwgInN1YmRvbWFpbnMiOiAiYWJjIiwgInRtcyI6IGZhbHNlfQogICAgICAgICAgICApLmFkZFRvKG1hcF82NmFjY2ZmMDg0NzE0YzJlYWMxZDdlNGY4ZDZiOTYxYSk7CiAgICAgICAgCiAgICAKICAgICAgICAgICAgdmFyIGNpcmNsZV9tYXJrZXJfMjMyYmRlODU5MGQwNDE2MDg5OGQxMTZlZTUyZDA2ODAgPSBMLmNpcmNsZU1hcmtlcigKICAgICAgICAgICAgICAgIFs0My42NTQyNTk5LCAtNzkuMzYwNjM1OV0sCiAgICAgICAgICAgICAgICB7ImJ1YmJsaW5nTW91c2VFdmVudHMiOiB0cnVlLCAiY29sb3IiOiAiY3lhbiIsICJkYXNoQXJyYXkiOiBudWxsLCAiZGFzaE9mZnNldCI6IG51bGwsICJmaWxsIjogdHJ1ZSwgImZpbGxDb2xvciI6ICJjeWFuIiwgImZpbGxPcGFjaXR5IjogMC43LCAiZmlsbFJ1bGUiOiAiZXZlbm9kZCIsICJsaW5lQ2FwIjogInJvdW5kIiwgImxpbmVKb2luIjogInJvdW5kIiwgIm9wYWNpdHkiOiAxLjAsICJyYWRpdXMiOiA1LCAic3Ryb2tlIjogdHJ1ZSwgIndlaWdodCI6IDN9CiAgICAgICAgICAgICkuYWRkVG8obWFwXzY2YWNjZmYwODQ3MTRjMmVhYzFkN2U0ZjhkNmI5NjFhKTsKICAgICAgICAKICAgIAogICAgICAgIHZhciBwb3B1cF9jOTM2YWQ5MmYwY2M0YzZlYTFlZjc2MDlmNjczNjRiNyA9IEwucG9wdXAoeyJtYXhXaWR0aCI6ICIxMDAlIn0pOwoKICAgICAgICAKICAgICAgICAgICAgdmFyIGh0bWxfNTk2Y2I2M2ZmZTRmNDM1Mzg1N2IxZTczNWVmY2RmNTQgPSAkKGA8ZGl2IGlkPSJodG1sXzU5NmNiNjNmZmU0ZjQzNTM4NTdiMWU3MzVlZmNkZjU0IiBzdHlsZT0id2lkdGg6IDEwMC4wJTsgaGVpZ2h0OiAxMDAuMCU7Ij5DbHVzdGVyIDEwOiBSZWdlbnQgUGFyaywgSGFyYm91cmZyb250PC9kaXY+YClbMF07CiAgICAgICAgICAgIHBvcHVwX2M5MzZhZDkyZjBjYzRjNmVhMWVmNzYwOWY2NzM2NGI3LnNldENvbnRlbnQoaHRtbF81OTZjYjYzZmZlNGY0MzUzODU3YjFlNzM1ZWZjZGY1NCk7CiAgICAgICAgCgogICAgICAgIGNpcmNsZV9tYXJrZXJfMjMyYmRlODU5MGQwNDE2MDg5OGQxMTZlZTUyZDA2ODAuYmluZFBvcHVwKHBvcHVwX2M5MzZhZDkyZjBjYzRjNmVhMWVmNzYwOWY2NzM2NGI3KQogICAgICAgIDsKCiAgICAgICAgCiAgICAKICAgIAogICAgICAgICAgICB2YXIgY2lyY2xlX21hcmtlcl9mNTQwYmJhOTAxZDU0MWMyOWE0MjQxMjdhOGQ5YzhkYyA9IEwuY2lyY2xlTWFya2VyKAogICAgICAgICAgICAgICAgWzQzLjY2MjMwMTUsIC03OS4zODk0OTM4XSwKICAgICAgICAgICAgICAgIHsiYnViYmxpbmdNb3VzZUV2ZW50cyI6IHRydWUsICJjb2xvciI6ICJjeWFuIiwgImRhc2hBcnJheSI6IG51bGwsICJkYXNoT2Zmc2V0IjogbnVsbCwgImZpbGwiOiB0cnVlLCAiZmlsbENvbG9yIjogImN5YW4iLCAiZmlsbE9wYWNpdHkiOiAwLjcsICJmaWxsUnVsZSI6ICJldmVub2RkIiwgImxpbmVDYXAiOiAicm91bmQiLCAibGluZUpvaW4iOiAicm91bmQiLCAib3BhY2l0eSI6IDEuMCwgInJhZGl1cyI6IDUsICJzdHJva2UiOiB0cnVlLCAid2VpZ2h0IjogM30KICAgICAgICAgICAgKS5hZGRUbyhtYXBfNjZhY2NmZjA4NDcxNGMyZWFjMWQ3ZTRmOGQ2Yjk2MWEpOwogICAgICAgIAogICAgCiAgICAgICAgdmFyIHBvcHVwXzM4ZTdlNWVmOGNjYzRhNjRiMDM4NGYxNTg2YWU4MjRmID0gTC5wb3B1cCh7Im1heFdpZHRoIjogIjEwMCUifSk7CgogICAgICAgIAogICAgICAgICAgICB2YXIgaHRtbF8wM2I1MTMxNzUwNjU0NGQ2YWY1MTBkZjdiNzA3NzBjMCA9ICQoYDxkaXYgaWQ9Imh0bWxfMDNiNTEzMTc1MDY1NDRkNmFmNTEwZGY3YjcwNzcwYzAiIHN0eWxlPSJ3aWR0aDogMTAwLjAlOyBoZWlnaHQ6IDEwMC4wJTsiPkNsdXN0ZXIgMTA6IFF1ZWVuJiMzOTtzIFBhcmssIE9udGFyaW8gUHJvdmluY2lhbCBHb3Zlcm5tZW50PC9kaXY+YClbMF07CiAgICAgICAgICAgIHBvcHVwXzM4ZTdlNWVmOGNjYzRhNjRiMDM4NGYxNTg2YWU4MjRmLnNldENvbnRlbnQoaHRtbF8wM2I1MTMxNzUwNjU0NGQ2YWY1MTBkZjdiNzA3NzBjMCk7CiAgICAgICAgCgogICAgICAgIGNpcmNsZV9tYXJrZXJfZjU0MGJiYTkwMWQ1NDFjMjlhNDI0MTI3YThkOWM4ZGMuYmluZFBvcHVwKHBvcHVwXzM4ZTdlNWVmOGNjYzRhNjRiMDM4NGYxNTg2YWU4MjRmKQogICAgICAgIDsKCiAgICAgICAgCiAgICAKICAgIAogICAgICAgICAgICB2YXIgY2lyY2xlX21hcmtlcl9jYTE3MmY1NGViMDY0YTU0ODk4NTdlMDhmZjU2MDlkMSA9IEwuY2lyY2xlTWFya2VyKAogICAgICAgICAgICAgICAgWzQzLjY1NzE2MTgsIC03OS4zNzg5MzcxXSwKICAgICAgICAgICAgICAgIHsiYnViYmxpbmdNb3VzZUV2ZW50cyI6IHRydWUsICJjb2xvciI6ICJjeWFuIiwgImRhc2hBcnJheSI6IG51bGwsICJkYXNoT2Zmc2V0IjogbnVsbCwgImZpbGwiOiB0cnVlLCAiZmlsbENvbG9yIjogImN5YW4iLCAiZmlsbE9wYWNpdHkiOiAwLjcsICJmaWxsUnVsZSI6ICJldmVub2RkIiwgImxpbmVDYXAiOiAicm91bmQiLCAibGluZUpvaW4iOiAicm91bmQiLCAib3BhY2l0eSI6IDEuMCwgInJhZGl1cyI6IDUsICJzdHJva2UiOiB0cnVlLCAid2VpZ2h0IjogM30KICAgICAgICAgICAgKS5hZGRUbyhtYXBfNjZhY2NmZjA4NDcxNGMyZWFjMWQ3ZTRmOGQ2Yjk2MWEpOwogICAgICAgIAogICAgCiAgICAgICAgdmFyIHBvcHVwXzI2YWI5NWRiMzcxNTRhZDdhYmNmM2M4OTZkNDI5OTkxID0gTC5wb3B1cCh7Im1heFdpZHRoIjogIjEwMCUifSk7CgogICAgICAgIAogICAgICAgICAgICB2YXIgaHRtbF9mZmQ4NThlOTE0MmE0OWFkOWNlNDIxNzlmNTRiODlkNSA9ICQoYDxkaXYgaWQ9Imh0bWxfZmZkODU4ZTkxNDJhNDlhZDljZTQyMTc5ZjU0Yjg5ZDUiIHN0eWxlPSJ3aWR0aDogMTAwLjAlOyBoZWlnaHQ6IDEwMC4wJTsiPkNsdXN0ZXIgMTA6IEdhcmRlbiBEaXN0cmljdCwgUnllcnNvbjwvZGl2PmApWzBdOwogICAgICAgICAgICBwb3B1cF8yNmFiOTVkYjM3MTU0YWQ3YWJjZjNjODk2ZDQyOTk5MS5zZXRDb250ZW50KGh0bWxfZmZkODU4ZTkxNDJhNDlhZDljZTQyMTc5ZjU0Yjg5ZDUpOwogICAgICAgIAoKICAgICAgICBjaXJjbGVfbWFya2VyX2NhMTcyZjU0ZWIwNjRhNTQ4OTg1N2UwOGZmNTYwOWQxLmJpbmRQb3B1cChwb3B1cF8yNmFiOTVkYjM3MTU0YWQ3YWJjZjNjODk2ZDQyOTk5MSkKICAgICAgICA7CgogICAgICAgIAogICAgCiAgICAKICAgICAgICAgICAgdmFyIGNpcmNsZV9tYXJrZXJfYzc0NDlmN2Y1OTVmNDYwNjlkNDJkYzAzYjg5MzE2NWEgPSBMLmNpcmNsZU1hcmtlcigKICAgICAgICAgICAgICAgIFs0My42NTE0OTM5LCAtNzkuMzc1NDE3OV0sCiAgICAgICAgICAgICAgICB7ImJ1YmJsaW5nTW91c2VFdmVudHMiOiB0cnVlLCAiY29sb3IiOiAicmVkIiwgImRhc2hBcnJheSI6IG51bGwsICJkYXNoT2Zmc2V0IjogbnVsbCwgImZpbGwiOiB0cnVlLCAiZmlsbENvbG9yIjogInJlZCIsICJmaWxsT3BhY2l0eSI6IDAuNywgImZpbGxSdWxlIjogImV2ZW5vZGQiLCAibGluZUNhcCI6ICJyb3VuZCIsICJsaW5lSm9pbiI6ICJyb3VuZCIsICJvcGFjaXR5IjogMS4wLCAicmFkaXVzIjogNSwgInN0cm9rZSI6IHRydWUsICJ3ZWlnaHQiOiAzfQogICAgICAgICAgICApLmFkZFRvKG1hcF82NmFjY2ZmMDg0NzE0YzJlYWMxZDdlNGY4ZDZiOTYxYSk7CiAgICAgICAgCiAgICAKICAgICAgICB2YXIgcG9wdXBfZmQ2ZWNmNDI2YTc2NDMxMTllMWNhYTc3MThlNTM2YWIgPSBMLnBvcHVwKHsibWF4V2lkdGgiOiAiMTAwJSJ9KTsKCiAgICAgICAgCiAgICAgICAgICAgIHZhciBodG1sX2RkZjMzNDQ3NDRjNTRlYzZiYmQwM2FmYzdhODcyMzA1ID0gJChgPGRpdiBpZD0iaHRtbF9kZGYzMzQ0NzQ0YzU0ZWM2YmJkMDNhZmM3YTg3MjMwNSIgc3R5bGU9IndpZHRoOiAxMDAuMCU7IGhlaWdodDogMTAwLjAlOyI+Q2x1c3RlciAxOiBTdC4gSmFtZXMgVG93bjwvZGl2PmApWzBdOwogICAgICAgICAgICBwb3B1cF9mZDZlY2Y0MjZhNzY0MzExOWUxY2FhNzcxOGU1MzZhYi5zZXRDb250ZW50KGh0bWxfZGRmMzM0NDc0NGM1NGVjNmJiZDAzYWZjN2E4NzIzMDUpOwogICAgICAgIAoKICAgICAgICBjaXJjbGVfbWFya2VyX2M3NDQ5ZjdmNTk1ZjQ2MDY5ZDQyZGMwM2I4OTMxNjVhLmJpbmRQb3B1cChwb3B1cF9mZDZlY2Y0MjZhNzY0MzExOWUxY2FhNzcxOGU1MzZhYikKICAgICAgICA7CgogICAgICAgIAogICAgCiAgICAKICAgICAgICAgICAgdmFyIGNpcmNsZV9tYXJrZXJfNjI3YjJmYTI1ZDA4NDY1MWJhNTU1NmRmY2YwODIwNTIgPSBMLmNpcmNsZU1hcmtlcigKICAgICAgICAgICAgICAgIFs0My42NzYzNTc0LCAtNzkuMjkzMDMxMl0sCiAgICAgICAgICAgICAgICB7ImJ1YmJsaW5nTW91c2VFdmVudHMiOiB0cnVlLCAiY29sb3IiOiAiYmxhY2siLCAiZGFzaEFycmF5IjogbnVsbCwgImRhc2hPZmZzZXQiOiBudWxsLCAiZmlsbCI6IHRydWUsICJmaWxsQ29sb3IiOiAiYmxhY2siLCAiZmlsbE9wYWNpdHkiOiAwLjcsICJmaWxsUnVsZSI6ICJldmVub2RkIiwgImxpbmVDYXAiOiAicm91bmQiLCAibGluZUpvaW4iOiAicm91bmQiLCAib3BhY2l0eSI6IDEuMCwgInJhZGl1cyI6IDUsICJzdHJva2UiOiB0cnVlLCAid2VpZ2h0IjogM30KICAgICAgICAgICAgKS5hZGRUbyhtYXBfNjZhY2NmZjA4NDcxNGMyZWFjMWQ3ZTRmOGQ2Yjk2MWEpOwogICAgICAgIAogICAgCiAgICAgICAgdmFyIHBvcHVwXzI4N2M2YWU1MDE3YjQzMzQ5ZTNlM2U5MGNlYTY2ZTljID0gTC5wb3B1cCh7Im1heFdpZHRoIjogIjEwMCUifSk7CgogICAgICAgIAogICAgICAgICAgICB2YXIgaHRtbF8xMWNhY2MyZjJhNDM0MzY4OTI0NDJiMjk3Nzc5ZWY0MyA9ICQoYDxkaXYgaWQ9Imh0bWxfMTFjYWNjMmYyYTQzNDM2ODkyNDQyYjI5Nzc3OWVmNDMiIHN0eWxlPSJ3aWR0aDogMTAwLjAlOyBoZWlnaHQ6IDEwMC4wJTsiPkNsdXN0ZXIgODogVGhlIEJlYWNoZXM8L2Rpdj5gKVswXTsKICAgICAgICAgICAgcG9wdXBfMjg3YzZhZTUwMTdiNDMzNDllM2UzZTkwY2VhNjZlOWMuc2V0Q29udGVudChodG1sXzExY2FjYzJmMmE0MzQzNjg5MjQ0MmIyOTc3NzllZjQzKTsKICAgICAgICAKCiAgICAgICAgY2lyY2xlX21hcmtlcl82MjdiMmZhMjVkMDg0NjUxYmE1NTU2ZGZjZjA4MjA1Mi5iaW5kUG9wdXAocG9wdXBfMjg3YzZhZTUwMTdiNDMzNDllM2UzZTkwY2VhNjZlOWMpCiAgICAgICAgOwoKICAgICAgICAKICAgIAogICAgCiAgICAgICAgICAgIHZhciBjaXJjbGVfbWFya2VyX2E2YjI2ZmM4ZWNhMDQ1NjE5ZGYxMTQ2YzI4NjcxNThhID0gTC5jaXJjbGVNYXJrZXIoCiAgICAgICAgICAgICAgICBbNDMuNjQ0NzcwOCwgLTc5LjM3MzMwNjRdLAogICAgICAgICAgICAgICAgeyJidWJibGluZ01vdXNlRXZlbnRzIjogdHJ1ZSwgImNvbG9yIjogInJlZCIsICJkYXNoQXJyYXkiOiBudWxsLCAiZGFzaE9mZnNldCI6IG51bGwsICJmaWxsIjogdHJ1ZSwgImZpbGxDb2xvciI6ICJyZWQiLCAiZmlsbE9wYWNpdHkiOiAwLjcsICJmaWxsUnVsZSI6ICJldmVub2RkIiwgImxpbmVDYXAiOiAicm91bmQiLCAibGluZUpvaW4iOiAicm91bmQiLCAib3BhY2l0eSI6IDEuMCwgInJhZGl1cyI6IDUsICJzdHJva2UiOiB0cnVlLCAid2VpZ2h0IjogM30KICAgICAgICAgICAgKS5hZGRUbyhtYXBfNjZhY2NmZjA4NDcxNGMyZWFjMWQ3ZTRmOGQ2Yjk2MWEpOwogICAgICAgIAogICAgCiAgICAgICAgdmFyIHBvcHVwX2EzNzFhMTAxNjM3NzQzNDNhNTY1N2Y5OGQ0YTdlYTk3ID0gTC5wb3B1cCh7Im1heFdpZHRoIjogIjEwMCUifSk7CgogICAgICAgIAogICAgICAgICAgICB2YXIgaHRtbF8xZDU1YmMyODdjZDU0MmY0OWFjNjNlYzhmODkyYTA5OSA9ICQoYDxkaXYgaWQ9Imh0bWxfMWQ1NWJjMjg3Y2Q1NDJmNDlhYzYzZWM4Zjg5MmEwOTkiIHN0eWxlPSJ3aWR0aDogMTAwLjAlOyBoZWlnaHQ6IDEwMC4wJTsiPkNsdXN0ZXIgMTogQmVyY3p5IFBhcms8L2Rpdj5gKVswXTsKICAgICAgICAgICAgcG9wdXBfYTM3MWExMDE2Mzc3NDM0M2E1NjU3Zjk4ZDRhN2VhOTcuc2V0Q29udGVudChodG1sXzFkNTViYzI4N2NkNTQyZjQ5YWM2M2VjOGY4OTJhMDk5KTsKICAgICAgICAKCiAgICAgICAgY2lyY2xlX21hcmtlcl9hNmIyNmZjOGVjYTA0NTYxOWRmMTE0NmMyODY3MTU4YS5iaW5kUG9wdXAocG9wdXBfYTM3MWExMDE2Mzc3NDM0M2E1NjU3Zjk4ZDRhN2VhOTcpCiAgICAgICAgOwoKICAgICAgICAKICAgIAogICAgCiAgICAgICAgICAgIHZhciBjaXJjbGVfbWFya2VyX2QwOGIzMzljZDJjNjQzMDdiMGQ5Yzk0N2Y3MDNjYWE5ID0gTC5jaXJjbGVNYXJrZXIoCiAgICAgICAgICAgICAgICBbNDMuNjU3OTUyNCwgLTc5LjM4NzM4MjZdLAogICAgICAgICAgICAgICAgeyJidWJibGluZ01vdXNlRXZlbnRzIjogdHJ1ZSwgImNvbG9yIjogImN5YW4iLCAiZGFzaEFycmF5IjogbnVsbCwgImRhc2hPZmZzZXQiOiBudWxsLCAiZmlsbCI6IHRydWUsICJmaWxsQ29sb3IiOiAiY3lhbiIsICJmaWxsT3BhY2l0eSI6IDAuNywgImZpbGxSdWxlIjogImV2ZW5vZGQiLCAibGluZUNhcCI6ICJyb3VuZCIsICJsaW5lSm9pbiI6ICJyb3VuZCIsICJvcGFjaXR5IjogMS4wLCAicmFkaXVzIjogNSwgInN0cm9rZSI6IHRydWUsICJ3ZWlnaHQiOiAzfQogICAgICAgICAgICApLmFkZFRvKG1hcF82NmFjY2ZmMDg0NzE0YzJlYWMxZDdlNGY4ZDZiOTYxYSk7CiAgICAgICAgCiAgICAKICAgICAgICB2YXIgcG9wdXBfNjUzMjkzOTUzODIyNGVjZWFiN2Q0ODljYTE4NDQ3NTkgPSBMLnBvcHVwKHsibWF4V2lkdGgiOiAiMTAwJSJ9KTsKCiAgICAgICAgCiAgICAgICAgICAgIHZhciBodG1sXzAyYjQ3MWFlYjE2YzQyM2ZhMmY5MGJiOTc5MTU0YjY1ID0gJChgPGRpdiBpZD0iaHRtbF8wMmI0NzFhZWIxNmM0MjNmYTJmOTBiYjk3OTE1NGI2NSIgc3R5bGU9IndpZHRoOiAxMDAuMCU7IGhlaWdodDogMTAwLjAlOyI+Q2x1c3RlciAxMDogQ2VudHJhbCBCYXkgU3RyZWV0PC9kaXY+YClbMF07CiAgICAgICAgICAgIHBvcHVwXzY1MzI5Mzk1MzgyMjRlY2VhYjdkNDg5Y2ExODQ0NzU5LnNldENvbnRlbnQoaHRtbF8wMmI0NzFhZWIxNmM0MjNmYTJmOTBiYjk3OTE1NGI2NSk7CiAgICAgICAgCgogICAgICAgIGNpcmNsZV9tYXJrZXJfZDA4YjMzOWNkMmM2NDMwN2IwZDljOTQ3ZjcwM2NhYTkuYmluZFBvcHVwKHBvcHVwXzY1MzI5Mzk1MzgyMjRlY2VhYjdkNDg5Y2ExODQ0NzU5KQogICAgICAgIDsKCiAgICAgICAgCiAgICAKICAgIAogICAgICAgICAgICB2YXIgY2lyY2xlX21hcmtlcl9hNWJiYjdiNmVhNTY0ODdlOTk5OWI4YzQxYTYxZjMzZSA9IEwuY2lyY2xlTWFya2VyKAogICAgICAgICAgICAgICAgWzQzLjY2OTU0MiwgLTc5LjQyMjU2MzddLAogICAgICAgICAgICAgICAgeyJidWJibGluZ01vdXNlRXZlbnRzIjogdHJ1ZSwgImNvbG9yIjogImdyZWVuIiwgImRhc2hBcnJheSI6IG51bGwsICJkYXNoT2Zmc2V0IjogbnVsbCwgImZpbGwiOiB0cnVlLCAiZmlsbENvbG9yIjogImdyZWVuIiwgImZpbGxPcGFjaXR5IjogMC43LCAiZmlsbFJ1bGUiOiAiZXZlbm9kZCIsICJsaW5lQ2FwIjogInJvdW5kIiwgImxpbmVKb2luIjogInJvdW5kIiwgIm9wYWNpdHkiOiAxLjAsICJyYWRpdXMiOiA1LCAic3Ryb2tlIjogdHJ1ZSwgIndlaWdodCI6IDN9CiAgICAgICAgICAgICkuYWRkVG8obWFwXzY2YWNjZmYwODQ3MTRjMmVhYzFkN2U0ZjhkNmI5NjFhKTsKICAgICAgICAKICAgIAogICAgICAgIHZhciBwb3B1cF8xZjAxNDkwOWNmZmE0NmNkYjhiOTcyYzFiNDMyYjk2YyA9IEwucG9wdXAoeyJtYXhXaWR0aCI6ICIxMDAlIn0pOwoKICAgICAgICAKICAgICAgICAgICAgdmFyIGh0bWxfZWM1OTc2ZmY2MGUwNDg1M2E1YmNhMjE3MjM4ODc5MTQgPSAkKGA8ZGl2IGlkPSJodG1sX2VjNTk3NmZmNjBlMDQ4NTNhNWJjYTIxNzIzODg3OTE0IiBzdHlsZT0id2lkdGg6IDEwMC4wJTsgaGVpZ2h0OiAxMDAuMCU7Ij5DbHVzdGVyIDM6IENocmlzdGllPC9kaXY+YClbMF07CiAgICAgICAgICAgIHBvcHVwXzFmMDE0OTA5Y2ZmYTQ2Y2RiOGI5NzJjMWI0MzJiOTZjLnNldENvbnRlbnQoaHRtbF9lYzU5NzZmZjYwZTA0ODUzYTViY2EyMTcyMzg4NzkxNCk7CiAgICAgICAgCgogICAgICAgIGNpcmNsZV9tYXJrZXJfYTViYmI3YjZlYTU2NDg3ZTk5OTliOGM0MWE2MWYzM2UuYmluZFBvcHVwKHBvcHVwXzFmMDE0OTA5Y2ZmYTQ2Y2RiOGI5NzJjMWI0MzJiOTZjKQogICAgICAgIDsKCiAgICAgICAgCiAgICAKICAgIAogICAgICAgICAgICB2YXIgY2lyY2xlX21hcmtlcl9iZGQ3N2JhOGE3NDI0YzU2YWVjOGM3YmYzMDQzNWYxMSA9IEwuY2lyY2xlTWFya2VyKAogICAgICAgICAgICAgICAgWzQzLjY1MDU3MTIsIC03OS4zODQ1Njc1XSwKICAgICAgICAgICAgICAgIHsiYnViYmxpbmdNb3VzZUV2ZW50cyI6IHRydWUsICJjb2xvciI6ICJjeWFuIiwgImRhc2hBcnJheSI6IG51bGwsICJkYXNoT2Zmc2V0IjogbnVsbCwgImZpbGwiOiB0cnVlLCAiZmlsbENvbG9yIjogImN5YW4iLCAiZmlsbE9wYWNpdHkiOiAwLjcsICJmaWxsUnVsZSI6ICJldmVub2RkIiwgImxpbmVDYXAiOiAicm91bmQiLCAibGluZUpvaW4iOiAicm91bmQiLCAib3BhY2l0eSI6IDEuMCwgInJhZGl1cyI6IDUsICJzdHJva2UiOiB0cnVlLCAid2VpZ2h0IjogM30KICAgICAgICAgICAgKS5hZGRUbyhtYXBfNjZhY2NmZjA4NDcxNGMyZWFjMWQ3ZTRmOGQ2Yjk2MWEpOwogICAgICAgIAogICAgCiAgICAgICAgdmFyIHBvcHVwXzU4YjhiYjNjYTlmNTRmZWViOTUzYTgwYzVmOWUwMGY2ID0gTC5wb3B1cCh7Im1heFdpZHRoIjogIjEwMCUifSk7CgogICAgICAgIAogICAgICAgICAgICB2YXIgaHRtbF8xNTNjZTlkYTg5YmY0OTNkYjg4YjU3YWRkYTkyNGU4MSA9ICQoYDxkaXYgaWQ9Imh0bWxfMTUzY2U5ZGE4OWJmNDkzZGI4OGI1N2FkZGE5MjRlODEiIHN0eWxlPSJ3aWR0aDogMTAwLjAlOyBoZWlnaHQ6IDEwMC4wJTsiPkNsdXN0ZXIgMTA6IFJpY2htb25kLCBBZGVsYWlkZSwgS2luZzwvZGl2PmApWzBdOwogICAgICAgICAgICBwb3B1cF81OGI4YmIzY2E5ZjU0ZmVlYjk1M2E4MGM1ZjllMDBmNi5zZXRDb250ZW50KGh0bWxfMTUzY2U5ZGE4OWJmNDkzZGI4OGI1N2FkZGE5MjRlODEpOwogICAgICAgIAoKICAgICAgICBjaXJjbGVfbWFya2VyX2JkZDc3YmE4YTc0MjRjNTZhZWM4YzdiZjMwNDM1ZjExLmJpbmRQb3B1cChwb3B1cF81OGI4YmIzY2E5ZjU0ZmVlYjk1M2E4MGM1ZjllMDBmNikKICAgICAgICA7CgogICAgICAgIAogICAgCiAgICAKICAgICAgICAgICAgdmFyIGNpcmNsZV9tYXJrZXJfZjFhZWE0N2JlZmIyNDI2NTg3MGY1ZTY5Yjk3MjI0MzEgPSBMLmNpcmNsZU1hcmtlcigKICAgICAgICAgICAgICAgIFs0My42NjkwMDUxLCAtNzkuNDQyMjU5M10sCiAgICAgICAgICAgICAgICB7ImJ1YmJsaW5nTW91c2VFdmVudHMiOiB0cnVlLCAiY29sb3IiOiAiZ3JlZW4iLCAiZGFzaEFycmF5IjogbnVsbCwgImRhc2hPZmZzZXQiOiBudWxsLCAiZmlsbCI6IHRydWUsICJmaWxsQ29sb3IiOiAiZ3JlZW4iLCAiZmlsbE9wYWNpdHkiOiAwLjcsICJmaWxsUnVsZSI6ICJldmVub2RkIiwgImxpbmVDYXAiOiAicm91bmQiLCAibGluZUpvaW4iOiAicm91bmQiLCAib3BhY2l0eSI6IDEuMCwgInJhZGl1cyI6IDUsICJzdHJva2UiOiB0cnVlLCAid2VpZ2h0IjogM30KICAgICAgICAgICAgKS5hZGRUbyhtYXBfNjZhY2NmZjA4NDcxNGMyZWFjMWQ3ZTRmOGQ2Yjk2MWEpOwogICAgICAgIAogICAgCiAgICAgICAgdmFyIHBvcHVwX2E5MDlmNzQxYzU5YzQyYzZiM2Q5ODlkNTMyYjRjNjQyID0gTC5wb3B1cCh7Im1heFdpZHRoIjogIjEwMCUifSk7CgogICAgICAgIAogICAgICAgICAgICB2YXIgaHRtbF8wMDdjOWMzYWVjMzA0NTBjYjA2ZGJiMmEyYzIyNWZmMyA9ICQoYDxkaXYgaWQ9Imh0bWxfMDA3YzljM2FlYzMwNDUwY2IwNmRiYjJhMmMyMjVmZjMiIHN0eWxlPSJ3aWR0aDogMTAwLjAlOyBoZWlnaHQ6IDEwMC4wJTsiPkNsdXN0ZXIgMzogRHVmZmVyaW4sIERvdmVyY291cnQgVmlsbGFnZTwvZGl2PmApWzBdOwogICAgICAgICAgICBwb3B1cF9hOTA5Zjc0MWM1OWM0MmM2YjNkOTg5ZDUzMmI0YzY0Mi5zZXRDb250ZW50KGh0bWxfMDA3YzljM2FlYzMwNDUwY2IwNmRiYjJhMmMyMjVmZjMpOwogICAgICAgIAoKICAgICAgICBjaXJjbGVfbWFya2VyX2YxYWVhNDdiZWZiMjQyNjU4NzBmNWU2OWI5NzIyNDMxLmJpbmRQb3B1cChwb3B1cF9hOTA5Zjc0MWM1OWM0MmM2YjNkOTg5ZDUzMmI0YzY0MikKICAgICAgICA7CgogICAgICAgIAogICAgCiAgICAKICAgICAgICAgICAgdmFyIGNpcmNsZV9tYXJrZXJfMzZiZjAwN2Q4MmU4NDc4YzhlZDA0MjY5M2QyN2E4YzkgPSBMLmNpcmNsZU1hcmtlcigKICAgICAgICAgICAgICAgIFs0My42NDA4MTU3LCAtNzkuMzgxNzUyM10sCiAgICAgICAgICAgICAgICB7ImJ1YmJsaW5nTW91c2VFdmVudHMiOiB0cnVlLCAiY29sb3IiOiAiY3lhbiIsICJkYXNoQXJyYXkiOiBudWxsLCAiZGFzaE9mZnNldCI6IG51bGwsICJmaWxsIjogdHJ1ZSwgImZpbGxDb2xvciI6ICJjeWFuIiwgImZpbGxPcGFjaXR5IjogMC43LCAiZmlsbFJ1bGUiOiAiZXZlbm9kZCIsICJsaW5lQ2FwIjogInJvdW5kIiwgImxpbmVKb2luIjogInJvdW5kIiwgIm9wYWNpdHkiOiAxLjAsICJyYWRpdXMiOiA1LCAic3Ryb2tlIjogdHJ1ZSwgIndlaWdodCI6IDN9CiAgICAgICAgICAgICkuYWRkVG8obWFwXzY2YWNjZmYwODQ3MTRjMmVhYzFkN2U0ZjhkNmI5NjFhKTsKICAgICAgICAKICAgIAogICAgICAgIHZhciBwb3B1cF9mNGMzNzJkOGJlNDI0Y2FiODRmYzQ0Y2VmZDAxYjQ4OCA9IEwucG9wdXAoeyJtYXhXaWR0aCI6ICIxMDAlIn0pOwoKICAgICAgICAKICAgICAgICAgICAgdmFyIGh0bWxfNGY5ZWI3ZTI4MDQ2NDMxYjk0MjM2ZWQzZTE3MTUyOTggPSAkKGA8ZGl2IGlkPSJodG1sXzRmOWViN2UyODA0NjQzMWI5NDIzNmVkM2UxNzE1Mjk4IiBzdHlsZT0id2lkdGg6IDEwMC4wJTsgaGVpZ2h0OiAxMDAuMCU7Ij5DbHVzdGVyIDEwOiBIYXJib3VyZnJvbnQgRWFzdCwgVW5pb24gU3RhdGlvbiwgVG9yb250byBJc2xhbmRzPC9kaXY+YClbMF07CiAgICAgICAgICAgIHBvcHVwX2Y0YzM3MmQ4YmU0MjRjYWI4NGZjNDRjZWZkMDFiNDg4LnNldENvbnRlbnQoaHRtbF80ZjllYjdlMjgwNDY0MzFiOTQyMzZlZDNlMTcxNTI5OCk7CiAgICAgICAgCgogICAgICAgIGNpcmNsZV9tYXJrZXJfMzZiZjAwN2Q4MmU4NDc4YzhlZDA0MjY5M2QyN2E4YzkuYmluZFBvcHVwKHBvcHVwX2Y0YzM3MmQ4YmU0MjRjYWI4NGZjNDRjZWZkMDFiNDg4KQogICAgICAgIDsKCiAgICAgICAgCiAgICAKICAgIAogICAgICAgICAgICB2YXIgY2lyY2xlX21hcmtlcl9hMDRjOTQ3Y2U5M2Q0MzhhODM5YTA2YjZhMmJkZmNlZCA9IEwuY2lyY2xlTWFya2VyKAogICAgICAgICAgICAgICAgWzQzLjY0NzkyNjcsIC03OS40MTk3NDk3XSwKICAgICAgICAgICAgICAgIHsiYnViYmxpbmdNb3VzZUV2ZW50cyI6IHRydWUsICJjb2xvciI6ICJyZWQiLCAiZGFzaEFycmF5IjogbnVsbCwgImRhc2hPZmZzZXQiOiBudWxsLCAiZmlsbCI6IHRydWUsICJmaWxsQ29sb3IiOiAicmVkIiwgImZpbGxPcGFjaXR5IjogMC43LCAiZmlsbFJ1bGUiOiAiZXZlbm9kZCIsICJsaW5lQ2FwIjogInJvdW5kIiwgImxpbmVKb2luIjogInJvdW5kIiwgIm9wYWNpdHkiOiAxLjAsICJyYWRpdXMiOiA1LCAic3Ryb2tlIjogdHJ1ZSwgIndlaWdodCI6IDN9CiAgICAgICAgICAgICkuYWRkVG8obWFwXzY2YWNjZmYwODQ3MTRjMmVhYzFkN2U0ZjhkNmI5NjFhKTsKICAgICAgICAKICAgIAogICAgICAgIHZhciBwb3B1cF9jZmMxYzNiMzVhZWM0YjFjOGNhNTNhMWM5NjIwOGYxMCA9IEwucG9wdXAoeyJtYXhXaWR0aCI6ICIxMDAlIn0pOwoKICAgICAgICAKICAgICAgICAgICAgdmFyIGh0bWxfODE4YjAxNDkzNzIyNDA0MzhkZjAyMmEwNWRiMjUwNDUgPSAkKGA8ZGl2IGlkPSJodG1sXzgxOGIwMTQ5MzcyMjQwNDM4ZGYwMjJhMDVkYjI1MDQ1IiBzdHlsZT0id2lkdGg6IDEwMC4wJTsgaGVpZ2h0OiAxMDAuMCU7Ij5DbHVzdGVyIDE6IExpdHRsZSBQb3J0dWdhbCwgVHJpbml0eTwvZGl2PmApWzBdOwogICAgICAgICAgICBwb3B1cF9jZmMxYzNiMzVhZWM0YjFjOGNhNTNhMWM5NjIwOGYxMC5zZXRDb250ZW50KGh0bWxfODE4YjAxNDkzNzIyNDA0MzhkZjAyMmEwNWRiMjUwNDUpOwogICAgICAgIAoKICAgICAgICBjaXJjbGVfbWFya2VyX2EwNGM5NDdjZTkzZDQzOGE4MzlhMDZiNmEyYmRmY2VkLmJpbmRQb3B1cChwb3B1cF9jZmMxYzNiMzVhZWM0YjFjOGNhNTNhMWM5NjIwOGYxMCkKICAgICAgICA7CgogICAgICAgIAogICAgCiAgICAKICAgICAgICAgICAgdmFyIGNpcmNsZV9tYXJrZXJfYzhmNGQ2MmQ4MWUwNGFkMGIwNWE2MDRiNzU0YTk3OTggPSBMLmNpcmNsZU1hcmtlcigKICAgICAgICAgICAgICAgIFs0My42Nzk1NTcxLCAtNzkuMzUyMTg4XSwKICAgICAgICAgICAgICAgIHsiYnViYmxpbmdNb3VzZUV2ZW50cyI6IHRydWUsICJjb2xvciI6ICJyZWQiLCAiZGFzaEFycmF5IjogbnVsbCwgImRhc2hPZmZzZXQiOiBudWxsLCAiZmlsbCI6IHRydWUsICJmaWxsQ29sb3IiOiAicmVkIiwgImZpbGxPcGFjaXR5IjogMC43LCAiZmlsbFJ1bGUiOiAiZXZlbm9kZCIsICJsaW5lQ2FwIjogInJvdW5kIiwgImxpbmVKb2luIjogInJvdW5kIiwgIm9wYWNpdHkiOiAxLjAsICJyYWRpdXMiOiA1LCAic3Ryb2tlIjogdHJ1ZSwgIndlaWdodCI6IDN9CiAgICAgICAgICAgICkuYWRkVG8obWFwXzY2YWNjZmYwODQ3MTRjMmVhYzFkN2U0ZjhkNmI5NjFhKTsKICAgICAgICAKICAgIAogICAgICAgIHZhciBwb3B1cF84NTE3YTVjNWRkYTk0M2M3ODE2OTg4Yjc4NTgzOWEwMSA9IEwucG9wdXAoeyJtYXhXaWR0aCI6ICIxMDAlIn0pOwoKICAgICAgICAKICAgICAgICAgICAgdmFyIGh0bWxfMGRlZjQxNGJlMzJjNDUxMjlkZjE0OGNlYjJjNTZkMTEgPSAkKGA8ZGl2IGlkPSJodG1sXzBkZWY0MTRiZTMyYzQ1MTI5ZGYxNDhjZWIyYzU2ZDExIiBzdHlsZT0id2lkdGg6IDEwMC4wJTsgaGVpZ2h0OiAxMDAuMCU7Ij5DbHVzdGVyIDE6IFRoZSBEYW5mb3J0aCBXZXN0LCBSaXZlcmRhbGU8L2Rpdj5gKVswXTsKICAgICAgICAgICAgcG9wdXBfODUxN2E1YzVkZGE5NDNjNzgxNjk4OGI3ODU4MzlhMDEuc2V0Q29udGVudChodG1sXzBkZWY0MTRiZTMyYzQ1MTI5ZGYxNDhjZWIyYzU2ZDExKTsKICAgICAgICAKCiAgICAgICAgY2lyY2xlX21hcmtlcl9jOGY0ZDYyZDgxZTA0YWQwYjA1YTYwNGI3NTRhOTc5OC5iaW5kUG9wdXAocG9wdXBfODUxN2E1YzVkZGE5NDNjNzgxNjk4OGI3ODU4MzlhMDEpCiAgICAgICAgOwoKICAgICAgICAKICAgIAogICAgCiAgICAgICAgICAgIHZhciBjaXJjbGVfbWFya2VyXzQ5MmNkNTQ1MWJlMzQ3N2FiYzg1YTkyMWY2M2JlM2VhID0gTC5jaXJjbGVNYXJrZXIoCiAgICAgICAgICAgICAgICBbNDMuNjQ3MTc2OCwgLTc5LjM4MTU3NjRdLAogICAgICAgICAgICAgICAgeyJidWJibGluZ01vdXNlRXZlbnRzIjogdHJ1ZSwgImNvbG9yIjogImN5YW4iLCAiZGFzaEFycmF5IjogbnVsbCwgImRhc2hPZmZzZXQiOiBudWxsLCAiZmlsbCI6IHRydWUsICJmaWxsQ29sb3IiOiAiY3lhbiIsICJmaWxsT3BhY2l0eSI6IDAuNywgImZpbGxSdWxlIjogImV2ZW5vZGQiLCAibGluZUNhcCI6ICJyb3VuZCIsICJsaW5lSm9pbiI6ICJyb3VuZCIsICJvcGFjaXR5IjogMS4wLCAicmFkaXVzIjogNSwgInN0cm9rZSI6IHRydWUsICJ3ZWlnaHQiOiAzfQogICAgICAgICAgICApLmFkZFRvKG1hcF82NmFjY2ZmMDg0NzE0YzJlYWMxZDdlNGY4ZDZiOTYxYSk7CiAgICAgICAgCiAgICAKICAgICAgICB2YXIgcG9wdXBfZWY3Zjc4MTY2YzkxNDM2YmJkN2I5NDkzM2NkMjU3ODIgPSBMLnBvcHVwKHsibWF4V2lkdGgiOiAiMTAwJSJ9KTsKCiAgICAgICAgCiAgICAgICAgICAgIHZhciBodG1sX2ZkNTAxM2IxZGIzYjQ3OTFiZGUwZjNmNzExMGQ3ZTIwID0gJChgPGRpdiBpZD0iaHRtbF9mZDUwMTNiMWRiM2I0NzkxYmRlMGYzZjcxMTBkN2UyMCIgc3R5bGU9IndpZHRoOiAxMDAuMCU7IGhlaWdodDogMTAwLjAlOyI+Q2x1c3RlciAxMDogVG9yb250byBEb21pbmlvbiBDZW50cmUsIERlc2lnbiBFeGNoYW5nZTwvZGl2PmApWzBdOwogICAgICAgICAgICBwb3B1cF9lZjdmNzgxNjZjOTE0MzZiYmQ3Yjk0OTMzY2QyNTc4Mi5zZXRDb250ZW50KGh0bWxfZmQ1MDEzYjFkYjNiNDc5MWJkZTBmM2Y3MTEwZDdlMjApOwogICAgICAgIAoKICAgICAgICBjaXJjbGVfbWFya2VyXzQ5MmNkNTQ1MWJlMzQ3N2FiYzg1YTkyMWY2M2JlM2VhLmJpbmRQb3B1cChwb3B1cF9lZjdmNzgxNjZjOTE0MzZiYmQ3Yjk0OTMzY2QyNTc4MikKICAgICAgICA7CgogICAgICAgIAogICAgCiAgICAKICAgICAgICAgICAgdmFyIGNpcmNsZV9tYXJrZXJfNTRmZTdkNmVhMGE0NDMzM2EzZTJlNmM0MGFiOWJhZmQgPSBMLmNpcmNsZU1hcmtlcigKICAgICAgICAgICAgICAgIFs0My42MzY4NDcyLCAtNzkuNDI4MTkxNF0sCiAgICAgICAgICAgICAgICB7ImJ1YmJsaW5nTW91c2VFdmVudHMiOiB0cnVlLCAiY29sb3IiOiAicmVkIiwgImRhc2hBcnJheSI6IG51bGwsICJkYXNoT2Zmc2V0IjogbnVsbCwgImZpbGwiOiB0cnVlLCAiZmlsbENvbG9yIjogInJlZCIsICJmaWxsT3BhY2l0eSI6IDAuNywgImZpbGxSdWxlIjogImV2ZW5vZGQiLCAibGluZUNhcCI6ICJyb3VuZCIsICJsaW5lSm9pbiI6ICJyb3VuZCIsICJvcGFjaXR5IjogMS4wLCAicmFkaXVzIjogNSwgInN0cm9rZSI6IHRydWUsICJ3ZWlnaHQiOiAzfQogICAgICAgICAgICApLmFkZFRvKG1hcF82NmFjY2ZmMDg0NzE0YzJlYWMxZDdlNGY4ZDZiOTYxYSk7CiAgICAgICAgCiAgICAKICAgICAgICB2YXIgcG9wdXBfYzJhMTg1YjEzMzRlNGI0MjljOGFlYTdhYWJiZjU0ODggPSBMLnBvcHVwKHsibWF4V2lkdGgiOiAiMTAwJSJ9KTsKCiAgICAgICAgCiAgICAgICAgICAgIHZhciBodG1sXzM0ZDY3OTJhZDZkZTRhZjM5MGJkMTZhZDNhNjI0NzljID0gJChgPGRpdiBpZD0iaHRtbF8zNGQ2NzkyYWQ2ZGU0YWYzOTBiZDE2YWQzYTYyNDc5YyIgc3R5bGU9IndpZHRoOiAxMDAuMCU7IGhlaWdodDogMTAwLjAlOyI+Q2x1c3RlciAxOiBCcm9ja3RvbiwgUGFya2RhbGUgVmlsbGFnZSwgRXhoaWJpdGlvbiBQbGFjZTwvZGl2PmApWzBdOwogICAgICAgICAgICBwb3B1cF9jMmExODViMTMzNGU0YjQyOWM4YWVhN2FhYmJmNTQ4OC5zZXRDb250ZW50KGh0bWxfMzRkNjc5MmFkNmRlNGFmMzkwYmQxNmFkM2E2MjQ3OWMpOwogICAgICAgIAoKICAgICAgICBjaXJjbGVfbWFya2VyXzU0ZmU3ZDZlYTBhNDQzMzNhM2UyZTZjNDBhYjliYWZkLmJpbmRQb3B1cChwb3B1cF9jMmExODViMTMzNGU0YjQyOWM4YWVhN2FhYmJmNTQ4OCkKICAgICAgICA7CgogICAgICAgIAogICAgCiAgICAKICAgICAgICAgICAgdmFyIGNpcmNsZV9tYXJrZXJfYTk3ZDY2MGI0ODFjNDVhOWJmNDVmYTIyM2ZmMDA3NzUgPSBMLmNpcmNsZU1hcmtlcigKICAgICAgICAgICAgICAgIFs0My42Njg5OTg1LCAtNzkuMzE1NTcxNl0sCiAgICAgICAgICAgICAgICB7ImJ1YmJsaW5nTW91c2VFdmVudHMiOiB0cnVlLCAiY29sb3IiOiAiY2hhcnRyZXVzZSIsICJkYXNoQXJyYXkiOiBudWxsLCAiZGFzaE9mZnNldCI6IG51bGwsICJmaWxsIjogdHJ1ZSwgImZpbGxDb2xvciI6ICJjaGFydHJldXNlIiwgImZpbGxPcGFjaXR5IjogMC43LCAiZmlsbFJ1bGUiOiAiZXZlbm9kZCIsICJsaW5lQ2FwIjogInJvdW5kIiwgImxpbmVKb2luIjogInJvdW5kIiwgIm9wYWNpdHkiOiAxLjAsICJyYWRpdXMiOiA1LCAic3Ryb2tlIjogdHJ1ZSwgIndlaWdodCI6IDN9CiAgICAgICAgICAgICkuYWRkVG8obWFwXzY2YWNjZmYwODQ3MTRjMmVhYzFkN2U0ZjhkNmI5NjFhKTsKICAgICAgICAKICAgIAogICAgICAgIHZhciBwb3B1cF82YjA4YzQwNmIzMDA0MTc3YTE4YWI4NDBmNTlhODgwMCA9IEwucG9wdXAoeyJtYXhXaWR0aCI6ICIxMDAlIn0pOwoKICAgICAgICAKICAgICAgICAgICAgdmFyIGh0bWxfOGM5OWFmOTEwN2IwNGY1NjhlNDg1OTRjYmQzNTZmYWUgPSAkKGA8ZGl2IGlkPSJodG1sXzhjOTlhZjkxMDdiMDRmNTY4ZTQ4NTk0Y2JkMzU2ZmFlIiBzdHlsZT0id2lkdGg6IDEwMC4wJTsgaGVpZ2h0OiAxMDAuMCU7Ij5DbHVzdGVyIDc6IEluZGlhIEJhemFhciwgVGhlIEJlYWNoZXMgV2VzdDwvZGl2PmApWzBdOwogICAgICAgICAgICBwb3B1cF82YjA4YzQwNmIzMDA0MTc3YTE4YWI4NDBmNTlhODgwMC5zZXRDb250ZW50KGh0bWxfOGM5OWFmOTEwN2IwNGY1NjhlNDg1OTRjYmQzNTZmYWUpOwogICAgICAgIAoKICAgICAgICBjaXJjbGVfbWFya2VyX2E5N2Q2NjBiNDgxYzQ1YTliZjQ1ZmEyMjNmZjAwNzc1LmJpbmRQb3B1cChwb3B1cF82YjA4YzQwNmIzMDA0MTc3YTE4YWI4NDBmNTlhODgwMCkKICAgICAgICA7CgogICAgICAgIAogICAgCiAgICAKICAgICAgICAgICAgdmFyIGNpcmNsZV9tYXJrZXJfZjg2YjkwNjQ0NmVhNGU3YWFiMDRmYjQ3Y2Q1MGE1NTUgPSBMLmNpcmNsZU1hcmtlcigKICAgICAgICAgICAgICAgIFs0My42NDgxOTg1LCAtNzkuMzc5ODE2OV0sCiAgICAgICAgICAgICAgICB7ImJ1YmJsaW5nTW91c2VFdmVudHMiOiB0cnVlLCAiY29sb3IiOiAiY3lhbiIsICJkYXNoQXJyYXkiOiBudWxsLCAiZGFzaE9mZnNldCI6IG51bGwsICJmaWxsIjogdHJ1ZSwgImZpbGxDb2xvciI6ICJjeWFuIiwgImZpbGxPcGFjaXR5IjogMC43LCAiZmlsbFJ1bGUiOiAiZXZlbm9kZCIsICJsaW5lQ2FwIjogInJvdW5kIiwgImxpbmVKb2luIjogInJvdW5kIiwgIm9wYWNpdHkiOiAxLjAsICJyYWRpdXMiOiA1LCAic3Ryb2tlIjogdHJ1ZSwgIndlaWdodCI6IDN9CiAgICAgICAgICAgICkuYWRkVG8obWFwXzY2YWNjZmYwODQ3MTRjMmVhYzFkN2U0ZjhkNmI5NjFhKTsKICAgICAgICAKICAgIAogICAgICAgIHZhciBwb3B1cF8yN2I1NTUyODc5NGI0Y2RkYmQ3NWMwYTg2ZDRkM2Q4NSA9IEwucG9wdXAoeyJtYXhXaWR0aCI6ICIxMDAlIn0pOwoKICAgICAgICAKICAgICAgICAgICAgdmFyIGh0bWxfODVjZGQ2NWM4Yjc2NGEzMjhjZTFhNzdjMWExZmEyMGYgPSAkKGA8ZGl2IGlkPSJodG1sXzg1Y2RkNjVjOGI3NjRhMzI4Y2UxYTc3YzFhMWZhMjBmIiBzdHlsZT0id2lkdGg6IDEwMC4wJTsgaGVpZ2h0OiAxMDAuMCU7Ij5DbHVzdGVyIDEwOiBDb21tZXJjZSBDb3VydCwgVmljdG9yaWEgSG90ZWw8L2Rpdj5gKVswXTsKICAgICAgICAgICAgcG9wdXBfMjdiNTU1Mjg3OTRiNGNkZGJkNzVjMGE4NmQ0ZDNkODUuc2V0Q29udGVudChodG1sXzg1Y2RkNjVjOGI3NjRhMzI4Y2UxYTc3YzFhMWZhMjBmKTsKICAgICAgICAKCiAgICAgICAgY2lyY2xlX21hcmtlcl9mODZiOTA2NDQ2ZWE0ZTdhYWIwNGZiNDdjZDUwYTU1NS5iaW5kUG9wdXAocG9wdXBfMjdiNTU1Mjg3OTRiNGNkZGJkNzVjMGE4NmQ0ZDNkODUpCiAgICAgICAgOwoKICAgICAgICAKICAgIAogICAgCiAgICAgICAgICAgIHZhciBjaXJjbGVfbWFya2VyX2JkOGY3MGY4MzkxYzRlNmRiNWVkNjkwY2Q0YTdjZDZiID0gTC5jaXJjbGVNYXJrZXIoCiAgICAgICAgICAgICAgICBbNDMuNjU5NTI1NSwgLTc5LjM0MDkyM10sCiAgICAgICAgICAgICAgICB7ImJ1YmJsaW5nTW91c2VFdmVudHMiOiB0cnVlLCAiY29sb3IiOiAicmVkIiwgImRhc2hBcnJheSI6IG51bGwsICJkYXNoT2Zmc2V0IjogbnVsbCwgImZpbGwiOiB0cnVlLCAiZmlsbENvbG9yIjogInJlZCIsICJmaWxsT3BhY2l0eSI6IDAuNywgImZpbGxSdWxlIjogImV2ZW5vZGQiLCAibGluZUNhcCI6ICJyb3VuZCIsICJsaW5lSm9pbiI6ICJyb3VuZCIsICJvcGFjaXR5IjogMS4wLCAicmFkaXVzIjogNSwgInN0cm9rZSI6IHRydWUsICJ3ZWlnaHQiOiAzfQogICAgICAgICAgICApLmFkZFRvKG1hcF82NmFjY2ZmMDg0NzE0YzJlYWMxZDdlNGY4ZDZiOTYxYSk7CiAgICAgICAgCiAgICAKICAgICAgICB2YXIgcG9wdXBfY2JlNmEzYWI4MmI4NGY3YTg3MjZlYTUwODc4ZTUyYjggPSBMLnBvcHVwKHsibWF4V2lkdGgiOiAiMTAwJSJ9KTsKCiAgICAgICAgCiAgICAgICAgICAgIHZhciBodG1sXzc4ODRlNDM0N2NhZjRkM2ZiYTY5YTY3ZjVmYjA0ZjVkID0gJChgPGRpdiBpZD0iaHRtbF83ODg0ZTQzNDdjYWY0ZDNmYmE2OWE2N2Y1ZmIwNGY1ZCIgc3R5bGU9IndpZHRoOiAxMDAuMCU7IGhlaWdodDogMTAwLjAlOyI+Q2x1c3RlciAxOiBTdHVkaW8gRGlzdHJpY3Q8L2Rpdj5gKVswXTsKICAgICAgICAgICAgcG9wdXBfY2JlNmEzYWI4MmI4NGY3YTg3MjZlYTUwODc4ZTUyYjguc2V0Q29udGVudChodG1sXzc4ODRlNDM0N2NhZjRkM2ZiYTY5YTY3ZjVmYjA0ZjVkKTsKICAgICAgICAKCiAgICAgICAgY2lyY2xlX21hcmtlcl9iZDhmNzBmODM5MWM0ZTZkYjVlZDY5MGNkNGE3Y2Q2Yi5iaW5kUG9wdXAocG9wdXBfY2JlNmEzYWI4MmI4NGY3YTg3MjZlYTUwODc4ZTUyYjgpCiAgICAgICAgOwoKICAgICAgICAKICAgIAogICAgCiAgICAgICAgICAgIHZhciBjaXJjbGVfbWFya2VyXzk0Mzg0ODgzMjEyYjQ0ZjE4MWExZjQwNTI3ZDBjMTY1ID0gTC5jaXJjbGVNYXJrZXIoCiAgICAgICAgICAgICAgICBbNDMuNzI4MDIwNSwgLTc5LjM4ODc5MDFdLAogICAgICAgICAgICAgICAgeyJidWJibGluZ01vdXNlRXZlbnRzIjogdHJ1ZSwgImNvbG9yIjogInB1cnBsZSIsICJkYXNoQXJyYXkiOiBudWxsLCAiZGFzaE9mZnNldCI6IG51bGwsICJmaWxsIjogdHJ1ZSwgImZpbGxDb2xvciI6ICJwdXJwbGUiLCAiZmlsbE9wYWNpdHkiOiAwLjcsICJmaWxsUnVsZSI6ICJldmVub2RkIiwgImxpbmVDYXAiOiAicm91bmQiLCAibGluZUpvaW4iOiAicm91bmQiLCAib3BhY2l0eSI6IDEuMCwgInJhZGl1cyI6IDUsICJzdHJva2UiOiB0cnVlLCAid2VpZ2h0IjogM30KICAgICAgICAgICAgKS5hZGRUbyhtYXBfNjZhY2NmZjA4NDcxNGMyZWFjMWQ3ZTRmOGQ2Yjk2MWEpOwogICAgICAgIAogICAgCiAgICAgICAgdmFyIHBvcHVwX2Y2ODE2ODQyNGI2ZDQ1ODQ5N2RiMjkwMjE2YjExZWU1ID0gTC5wb3B1cCh7Im1heFdpZHRoIjogIjEwMCUifSk7CgogICAgICAgIAogICAgICAgICAgICB2YXIgaHRtbF81NThmMTc3NThhNzM0MzBmOTNmN2I3MDA4YzQ3MzlkMCA9ICQoYDxkaXYgaWQ9Imh0bWxfNTU4ZjE3NzU4YTczNDMwZjkzZjdiNzAwOGM0NzM5ZDAiIHN0eWxlPSJ3aWR0aDogMTAwLjAlOyBoZWlnaHQ6IDEwMC4wJTsiPkNsdXN0ZXIgNTogTGF3cmVuY2UgUGFyazwvZGl2PmApWzBdOwogICAgICAgICAgICBwb3B1cF9mNjgxNjg0MjRiNmQ0NTg0OTdkYjI5MDIxNmIxMWVlNS5zZXRDb250ZW50KGh0bWxfNTU4ZjE3NzU4YTczNDMwZjkzZjdiNzAwOGM0NzM5ZDApOwogICAgICAgIAoKICAgICAgICBjaXJjbGVfbWFya2VyXzk0Mzg0ODgzMjEyYjQ0ZjE4MWExZjQwNTI3ZDBjMTY1LmJpbmRQb3B1cChwb3B1cF9mNjgxNjg0MjRiNmQ0NTg0OTdkYjI5MDIxNmIxMWVlNSkKICAgICAgICA7CgogICAgICAgIAogICAgCiAgICAKICAgICAgICAgICAgdmFyIGNpcmNsZV9tYXJrZXJfNDI2OTVjNWE5ZjNkNDkyMGI4ZTdiNTIyNGY1YTcwOWYgPSBMLmNpcmNsZU1hcmtlcigKICAgICAgICAgICAgICAgIFs0My43MTE2OTQ4LCAtNzkuNDE2OTM1Nl0sCiAgICAgICAgICAgICAgICB7ImJ1YmJsaW5nTW91c2VFdmVudHMiOiB0cnVlLCAiY29sb3IiOiAiYmx1ZSIsICJkYXNoQXJyYXkiOiBudWxsLCAiZGFzaE9mZnNldCI6IG51bGwsICJmaWxsIjogdHJ1ZSwgImZpbGxDb2xvciI6ICJibHVlIiwgImZpbGxPcGFjaXR5IjogMC43LCAiZmlsbFJ1bGUiOiAiZXZlbm9kZCIsICJsaW5lQ2FwIjogInJvdW5kIiwgImxpbmVKb2luIjogInJvdW5kIiwgIm9wYWNpdHkiOiAxLjAsICJyYWRpdXMiOiA1LCAic3Ryb2tlIjogdHJ1ZSwgIndlaWdodCI6IDN9CiAgICAgICAgICAgICkuYWRkVG8obWFwXzY2YWNjZmYwODQ3MTRjMmVhYzFkN2U0ZjhkNmI5NjFhKTsKICAgICAgICAKICAgIAogICAgICAgIHZhciBwb3B1cF9jZjQyNjA4Yjg5NWY0OTYxYTQ4NmQ2YThiMGFiMjYzZCA9IEwucG9wdXAoeyJtYXhXaWR0aCI6ICIxMDAlIn0pOwoKICAgICAgICAKICAgICAgICAgICAgdmFyIGh0bWxfODlkNWQxZDM1MTFlNDI0NDk0NTk5NDgzMTkzNTA5ZjAgPSAkKGA8ZGl2IGlkPSJodG1sXzg5ZDVkMWQzNTExZTQyNDQ5NDU5OTQ4MzE5MzUwOWYwIiBzdHlsZT0id2lkdGg6IDEwMC4wJTsgaGVpZ2h0OiAxMDAuMCU7Ij5DbHVzdGVyIDI6IFJvc2VsYXduPC9kaXY+YClbMF07CiAgICAgICAgICAgIHBvcHVwX2NmNDI2MDhiODk1ZjQ5NjFhNDg2ZDZhOGIwYWIyNjNkLnNldENvbnRlbnQoaHRtbF84OWQ1ZDFkMzUxMWU0MjQ0OTQ1OTk0ODMxOTM1MDlmMCk7CiAgICAgICAgCgogICAgICAgIGNpcmNsZV9tYXJrZXJfNDI2OTVjNWE5ZjNkNDkyMGI4ZTdiNTIyNGY1YTcwOWYuYmluZFBvcHVwKHBvcHVwX2NmNDI2MDhiODk1ZjQ5NjFhNDg2ZDZhOGIwYWIyNjNkKQogICAgICAgIDsKCiAgICAgICAgCiAgICAKICAgIAogICAgICAgICAgICB2YXIgY2lyY2xlX21hcmtlcl9mYzJmNDhiYzQzZTY0ZTRiYjgxMTJlNzkxOGJiY2U3MiA9IEwuY2lyY2xlTWFya2VyKAogICAgICAgICAgICAgICAgWzQzLjcxMjc1MTEsIC03OS4zOTAxOTc1XSwKICAgICAgICAgICAgICAgIHsiYnViYmxpbmdNb3VzZUV2ZW50cyI6IHRydWUsICJjb2xvciI6ICJjaGFydHJldXNlIiwgImRhc2hBcnJheSI6IG51bGwsICJkYXNoT2Zmc2V0IjogbnVsbCwgImZpbGwiOiB0cnVlLCAiZmlsbENvbG9yIjogImNoYXJ0cmV1c2UiLCAiZmlsbE9wYWNpdHkiOiAwLjcsICJmaWxsUnVsZSI6ICJldmVub2RkIiwgImxpbmVDYXAiOiAicm91bmQiLCAibGluZUpvaW4iOiAicm91bmQiLCAib3BhY2l0eSI6IDEuMCwgInJhZGl1cyI6IDUsICJzdHJva2UiOiB0cnVlLCAid2VpZ2h0IjogM30KICAgICAgICAgICAgKS5hZGRUbyhtYXBfNjZhY2NmZjA4NDcxNGMyZWFjMWQ3ZTRmOGQ2Yjk2MWEpOwogICAgICAgIAogICAgCiAgICAgICAgdmFyIHBvcHVwXzllMzVkNTk5ODczZjQ3YjBiNjYxMGFmZjQ1MzhlNzQ3ID0gTC5wb3B1cCh7Im1heFdpZHRoIjogIjEwMCUifSk7CgogICAgICAgIAogICAgICAgICAgICB2YXIgaHRtbF81NjVlMGE0YTczYjI0YTVmYjQ3YzRjYjdjNGRhMmU1NiA9ICQoYDxkaXYgaWQ9Imh0bWxfNTY1ZTBhNGE3M2IyNGE1ZmI0N2M0Y2I3YzRkYTJlNTYiIHN0eWxlPSJ3aWR0aDogMTAwLjAlOyBoZWlnaHQ6IDEwMC4wJTsiPkNsdXN0ZXIgNzogRGF2aXN2aWxsZSBOb3J0aDwvZGl2PmApWzBdOwogICAgICAgICAgICBwb3B1cF85ZTM1ZDU5OTg3M2Y0N2IwYjY2MTBhZmY0NTM4ZTc0Ny5zZXRDb250ZW50KGh0bWxfNTY1ZTBhNGE3M2IyNGE1ZmI0N2M0Y2I3YzRkYTJlNTYpOwogICAgICAgIAoKICAgICAgICBjaXJjbGVfbWFya2VyX2ZjMmY0OGJjNDNlNjRlNGJiODExMmU3OTE4YmJjZTcyLmJpbmRQb3B1cChwb3B1cF85ZTM1ZDU5OTg3M2Y0N2IwYjY2MTBhZmY0NTM4ZTc0NykKICAgICAgICA7CgogICAgICAgIAogICAgCiAgICAKICAgICAgICAgICAgdmFyIGNpcmNsZV9tYXJrZXJfZTQ4ZDBkZDYwYjViNDk4NGEyNWNkYTU3NGYyMGFkMDcgPSBMLmNpcmNsZU1hcmtlcigKICAgICAgICAgICAgICAgIFs0My42OTY5NDc2LCAtNzkuNDExMzA3Ml0sCiAgICAgICAgICAgICAgICB7ImJ1YmJsaW5nTW91c2VFdmVudHMiOiB0cnVlLCAiY29sb3IiOiAib3JhbmdlIiwgImRhc2hBcnJheSI6IG51bGwsICJkYXNoT2Zmc2V0IjogbnVsbCwgImZpbGwiOiB0cnVlLCAiZmlsbENvbG9yIjogIm9yYW5nZSIsICJmaWxsT3BhY2l0eSI6IDAuNywgImZpbGxSdWxlIjogImV2ZW5vZGQiLCAibGluZUNhcCI6ICJyb3VuZCIsICJsaW5lSm9pbiI6ICJyb3VuZCIsICJvcGFjaXR5IjogMS4wLCAicmFkaXVzIjogNSwgInN0cm9rZSI6IHRydWUsICJ3ZWlnaHQiOiAzfQogICAgICAgICAgICApLmFkZFRvKG1hcF82NmFjY2ZmMDg0NzE0YzJlYWMxZDdlNGY4ZDZiOTYxYSk7CiAgICAgICAgCiAgICAKICAgICAgICB2YXIgcG9wdXBfNmIyNDVhMjg4MWI3NGZlZTgyZmYwZDc0YjJjMzM3M2IgPSBMLnBvcHVwKHsibWF4V2lkdGgiOiAiMTAwJSJ9KTsKCiAgICAgICAgCiAgICAgICAgICAgIHZhciBodG1sX2NiNzNhNDkxZGViOTRmMmM4NzRhMWVmOGQ3MWZkNmQwID0gJChgPGRpdiBpZD0iaHRtbF9jYjczYTQ5MWRlYjk0ZjJjODc0YTFlZjhkNzFmZDZkMCIgc3R5bGU9IndpZHRoOiAxMDAuMCU7IGhlaWdodDogMTAwLjAlOyI+Q2x1c3RlciA2OiBGb3Jlc3QgSGlsbCBOb3J0aCAmYW1wOyBXZXN0LCBGb3Jlc3QgSGlsbCBSb2FkIFBhcms8L2Rpdj5gKVswXTsKICAgICAgICAgICAgcG9wdXBfNmIyNDVhMjg4MWI3NGZlZTgyZmYwZDc0YjJjMzM3M2Iuc2V0Q29udGVudChodG1sX2NiNzNhNDkxZGViOTRmMmM4NzRhMWVmOGQ3MWZkNmQwKTsKICAgICAgICAKCiAgICAgICAgY2lyY2xlX21hcmtlcl9lNDhkMGRkNjBiNWI0OTg0YTI1Y2RhNTc0ZjIwYWQwNy5iaW5kUG9wdXAocG9wdXBfNmIyNDVhMjg4MWI3NGZlZTgyZmYwZDc0YjJjMzM3M2IpCiAgICAgICAgOwoKICAgICAgICAKICAgIAogICAgCiAgICAgICAgICAgIHZhciBjaXJjbGVfbWFya2VyXzA1NzVlNzU4YjM0MjRiOWY5YjBiMjJhMGE1NzZjODc0ID0gTC5jaXJjbGVNYXJrZXIoCiAgICAgICAgICAgICAgICBbNDMuNjYxNjA4MywgLTc5LjQ2NDc2MzNdLAogICAgICAgICAgICAgICAgeyJidWJibGluZ01vdXNlRXZlbnRzIjogdHJ1ZSwgImNvbG9yIjogImdyZWVuIiwgImRhc2hBcnJheSI6IG51bGwsICJkYXNoT2Zmc2V0IjogbnVsbCwgImZpbGwiOiB0cnVlLCAiZmlsbENvbG9yIjogImdyZWVuIiwgImZpbGxPcGFjaXR5IjogMC43LCAiZmlsbFJ1bGUiOiAiZXZlbm9kZCIsICJsaW5lQ2FwIjogInJvdW5kIiwgImxpbmVKb2luIjogInJvdW5kIiwgIm9wYWNpdHkiOiAxLjAsICJyYWRpdXMiOiA1LCAic3Ryb2tlIjogdHJ1ZSwgIndlaWdodCI6IDN9CiAgICAgICAgICAgICkuYWRkVG8obWFwXzY2YWNjZmYwODQ3MTRjMmVhYzFkN2U0ZjhkNmI5NjFhKTsKICAgICAgICAKICAgIAogICAgICAgIHZhciBwb3B1cF80NDkwNWFiMDhjNTE0MjJjYWRhOTYwNGRmMjVkNTgzZSA9IEwucG9wdXAoeyJtYXhXaWR0aCI6ICIxMDAlIn0pOwoKICAgICAgICAKICAgICAgICAgICAgdmFyIGh0bWxfZGE5MWU1OGY0MDI5NDk1MzkyYTVjMGNlM2ZjMzhkODUgPSAkKGA8ZGl2IGlkPSJodG1sX2RhOTFlNThmNDAyOTQ5NTM5MmE1YzBjZTNmYzM4ZDg1IiBzdHlsZT0id2lkdGg6IDEwMC4wJTsgaGVpZ2h0OiAxMDAuMCU7Ij5DbHVzdGVyIDM6IEhpZ2ggUGFyaywgVGhlIEp1bmN0aW9uIFNvdXRoPC9kaXY+YClbMF07CiAgICAgICAgICAgIHBvcHVwXzQ0OTA1YWIwOGM1MTQyMmNhZGE5NjA0ZGYyNWQ1ODNlLnNldENvbnRlbnQoaHRtbF9kYTkxZTU4ZjQwMjk0OTUzOTJhNWMwY2UzZmMzOGQ4NSk7CiAgICAgICAgCgogICAgICAgIGNpcmNsZV9tYXJrZXJfMDU3NWU3NThiMzQyNGI5ZjliMGIyMmEwYTU3NmM4NzQuYmluZFBvcHVwKHBvcHVwXzQ0OTA1YWIwOGM1MTQyMmNhZGE5NjA0ZGYyNWQ1ODNlKQogICAgICAgIDsKCiAgICAgICAgCiAgICAKICAgIAogICAgICAgICAgICB2YXIgY2lyY2xlX21hcmtlcl8xN2Y2OTExZDk1ZTM0OWNiYmU0ZmI3YWQxNjg0M2IyYiA9IEwuY2lyY2xlTWFya2VyKAogICAgICAgICAgICAgICAgWzQzLjcxNTM4MzQsIC03OS40MDU2Nzg0XSwKICAgICAgICAgICAgICAgIHsiYnViYmxpbmdNb3VzZUV2ZW50cyI6IHRydWUsICJjb2xvciI6ICJjeWFuIiwgImRhc2hBcnJheSI6IG51bGwsICJkYXNoT2Zmc2V0IjogbnVsbCwgImZpbGwiOiB0cnVlLCAiZmlsbENvbG9yIjogImN5YW4iLCAiZmlsbE9wYWNpdHkiOiAwLjcsICJmaWxsUnVsZSI6ICJldmVub2RkIiwgImxpbmVDYXAiOiAicm91bmQiLCAibGluZUpvaW4iOiAicm91bmQiLCAib3BhY2l0eSI6IDEuMCwgInJhZGl1cyI6IDUsICJzdHJva2UiOiB0cnVlLCAid2VpZ2h0IjogM30KICAgICAgICAgICAgKS5hZGRUbyhtYXBfNjZhY2NmZjA4NDcxNGMyZWFjMWQ3ZTRmOGQ2Yjk2MWEpOwogICAgICAgIAogICAgCiAgICAgICAgdmFyIHBvcHVwXzlhMmQxMGQyOGE5YTQ3NTZhYWQyMmVmNTUzZmNmZDc1ID0gTC5wb3B1cCh7Im1heFdpZHRoIjogIjEwMCUifSk7CgogICAgICAgIAogICAgICAgICAgICB2YXIgaHRtbF8yNTdiZDIzOGU0NmM0N2Q3YTg0ZDEwYTYwZWE5MWRlZSA9ICQoYDxkaXYgaWQ9Imh0bWxfMjU3YmQyMzhlNDZjNDdkN2E4NGQxMGE2MGVhOTFkZWUiIHN0eWxlPSJ3aWR0aDogMTAwLjAlOyBoZWlnaHQ6IDEwMC4wJTsiPkNsdXN0ZXIgMTA6IE5vcnRoIFRvcm9udG8gV2VzdCwgIExhd3JlbmNlIFBhcms8L2Rpdj5gKVswXTsKICAgICAgICAgICAgcG9wdXBfOWEyZDEwZDI4YTlhNDc1NmFhZDIyZWY1NTNmY2ZkNzUuc2V0Q29udGVudChodG1sXzI1N2JkMjM4ZTQ2YzQ3ZDdhODRkMTBhNjBlYTkxZGVlKTsKICAgICAgICAKCiAgICAgICAgY2lyY2xlX21hcmtlcl8xN2Y2OTExZDk1ZTM0OWNiYmU0ZmI3YWQxNjg0M2IyYi5iaW5kUG9wdXAocG9wdXBfOWEyZDEwZDI4YTlhNDc1NmFhZDIyZWY1NTNmY2ZkNzUpCiAgICAgICAgOwoKICAgICAgICAKICAgIAogICAgCiAgICAgICAgICAgIHZhciBjaXJjbGVfbWFya2VyXzJjYTU5ZDZmODAxMzRjOWFhMTRlMTg3N2FhYWRjYjBiID0gTC5jaXJjbGVNYXJrZXIoCiAgICAgICAgICAgICAgICBbNDMuNjcyNzA5NywgLTc5LjQwNTY3ODRdLAogICAgICAgICAgICAgICAgeyJidWJibGluZ01vdXNlRXZlbnRzIjogdHJ1ZSwgImNvbG9yIjogImN5YW4iLCAiZGFzaEFycmF5IjogbnVsbCwgImRhc2hPZmZzZXQiOiBudWxsLCAiZmlsbCI6IHRydWUsICJmaWxsQ29sb3IiOiAiY3lhbiIsICJmaWxsT3BhY2l0eSI6IDAuNywgImZpbGxSdWxlIjogImV2ZW5vZGQiLCAibGluZUNhcCI6ICJyb3VuZCIsICJsaW5lSm9pbiI6ICJyb3VuZCIsICJvcGFjaXR5IjogMS4wLCAicmFkaXVzIjogNSwgInN0cm9rZSI6IHRydWUsICJ3ZWlnaHQiOiAzfQogICAgICAgICAgICApLmFkZFRvKG1hcF82NmFjY2ZmMDg0NzE0YzJlYWMxZDdlNGY4ZDZiOTYxYSk7CiAgICAgICAgCiAgICAKICAgICAgICB2YXIgcG9wdXBfZGQxYzAyNjdjZmI3NGIzZGFmMjE1MzM0Y2RmOTc3MjUgPSBMLnBvcHVwKHsibWF4V2lkdGgiOiAiMTAwJSJ9KTsKCiAgICAgICAgCiAgICAgICAgICAgIHZhciBodG1sXzdmZTBkNDBjMmU4NzQxMjA5OTI4YTZiNmRlZmFjZmRiID0gJChgPGRpdiBpZD0iaHRtbF83ZmUwZDQwYzJlODc0MTIwOTkyOGE2YjZkZWZhY2ZkYiIgc3R5bGU9IndpZHRoOiAxMDAuMCU7IGhlaWdodDogMTAwLjAlOyI+Q2x1c3RlciAxMDogVGhlIEFubmV4LCBOb3J0aCBNaWR0b3duLCBZb3JrdmlsbGU8L2Rpdj5gKVswXTsKICAgICAgICAgICAgcG9wdXBfZGQxYzAyNjdjZmI3NGIzZGFmMjE1MzM0Y2RmOTc3MjUuc2V0Q29udGVudChodG1sXzdmZTBkNDBjMmU4NzQxMjA5OTI4YTZiNmRlZmFjZmRiKTsKICAgICAgICAKCiAgICAgICAgY2lyY2xlX21hcmtlcl8yY2E1OWQ2ZjgwMTM0YzlhYTE0ZTE4NzdhYWFkY2IwYi5iaW5kUG9wdXAocG9wdXBfZGQxYzAyNjdjZmI3NGIzZGFmMjE1MzM0Y2RmOTc3MjUpCiAgICAgICAgOwoKICAgICAgICAKICAgIAogICAgCiAgICAgICAgICAgIHZhciBjaXJjbGVfbWFya2VyX2E3MzNjZTczNzFiZDQ3YmY5YWM3ZGJiYzU0YzA0MGVmID0gTC5jaXJjbGVNYXJrZXIoCiAgICAgICAgICAgICAgICBbNDMuNjQ4OTU5NywgLTc5LjQ1NjMyNV0sCiAgICAgICAgICAgICAgICB7ImJ1YmJsaW5nTW91c2VFdmVudHMiOiB0cnVlLCAiY29sb3IiOiAicmVkIiwgImRhc2hBcnJheSI6IG51bGwsICJkYXNoT2Zmc2V0IjogbnVsbCwgImZpbGwiOiB0cnVlLCAiZmlsbENvbG9yIjogInJlZCIsICJmaWxsT3BhY2l0eSI6IDAuNywgImZpbGxSdWxlIjogImV2ZW5vZGQiLCAibGluZUNhcCI6ICJyb3VuZCIsICJsaW5lSm9pbiI6ICJyb3VuZCIsICJvcGFjaXR5IjogMS4wLCAicmFkaXVzIjogNSwgInN0cm9rZSI6IHRydWUsICJ3ZWlnaHQiOiAzfQogICAgICAgICAgICApLmFkZFRvKG1hcF82NmFjY2ZmMDg0NzE0YzJlYWMxZDdlNGY4ZDZiOTYxYSk7CiAgICAgICAgCiAgICAKICAgICAgICB2YXIgcG9wdXBfZDRjM2FkYmQ2ZjY3NGMzNTllNzVlYmFkN2VmYTk0YmEgPSBMLnBvcHVwKHsibWF4V2lkdGgiOiAiMTAwJSJ9KTsKCiAgICAgICAgCiAgICAgICAgICAgIHZhciBodG1sX2Q5M2JkMTc3NmEyMzQzNzhiYWI4Njg0MGU4ODllMjgxID0gJChgPGRpdiBpZD0iaHRtbF9kOTNiZDE3NzZhMjM0Mzc4YmFiODY4NDBlODg5ZTI4MSIgc3R5bGU9IndpZHRoOiAxMDAuMCU7IGhlaWdodDogMTAwLjAlOyI+Q2x1c3RlciAxOiBQYXJrZGFsZSwgUm9uY2VzdmFsbGVzPC9kaXY+YClbMF07CiAgICAgICAgICAgIHBvcHVwX2Q0YzNhZGJkNmY2NzRjMzU5ZTc1ZWJhZDdlZmE5NGJhLnNldENvbnRlbnQoaHRtbF9kOTNiZDE3NzZhMjM0Mzc4YmFiODY4NDBlODg5ZTI4MSk7CiAgICAgICAgCgogICAgICAgIGNpcmNsZV9tYXJrZXJfYTczM2NlNzM3MWJkNDdiZjlhYzdkYmJjNTRjMDQwZWYuYmluZFBvcHVwKHBvcHVwX2Q0YzNhZGJkNmY2NzRjMzU5ZTc1ZWJhZDdlZmE5NGJhKQogICAgICAgIDsKCiAgICAgICAgCiAgICAKICAgIAogICAgICAgICAgICB2YXIgY2lyY2xlX21hcmtlcl82ZmFjNzYyOGFiNzQ0ODgzYjFmZjIxMTIxOTA2MGM2MyA9IEwuY2lyY2xlTWFya2VyKAogICAgICAgICAgICAgICAgWzQzLjcwNDMyNDQsIC03OS4zODg3OTAxXSwKICAgICAgICAgICAgICAgIHsiYnViYmxpbmdNb3VzZUV2ZW50cyI6IHRydWUsICJjb2xvciI6ICJyZWQiLCAiZGFzaEFycmF5IjogbnVsbCwgImRhc2hPZmZzZXQiOiBudWxsLCAiZmlsbCI6IHRydWUsICJmaWxsQ29sb3IiOiAicmVkIiwgImZpbGxPcGFjaXR5IjogMC43LCAiZmlsbFJ1bGUiOiAiZXZlbm9kZCIsICJsaW5lQ2FwIjogInJvdW5kIiwgImxpbmVKb2luIjogInJvdW5kIiwgIm9wYWNpdHkiOiAxLjAsICJyYWRpdXMiOiA1LCAic3Ryb2tlIjogdHJ1ZSwgIndlaWdodCI6IDN9CiAgICAgICAgICAgICkuYWRkVG8obWFwXzY2YWNjZmYwODQ3MTRjMmVhYzFkN2U0ZjhkNmI5NjFhKTsKICAgICAgICAKICAgIAogICAgICAgIHZhciBwb3B1cF9jYjdjZWE5ZDljNjQ0NTkzOWQwZTRkY2RjNTg5MjNmMSA9IEwucG9wdXAoeyJtYXhXaWR0aCI6ICIxMDAlIn0pOwoKICAgICAgICAKICAgICAgICAgICAgdmFyIGh0bWxfZWFiZDdkZjQwNDczNDhlNTg4NzQ4YzMyMWY4ZjcwYTIgPSAkKGA8ZGl2IGlkPSJodG1sX2VhYmQ3ZGY0MDQ3MzQ4ZTU4ODc0OGMzMjFmOGY3MGEyIiBzdHlsZT0id2lkdGg6IDEwMC4wJTsgaGVpZ2h0OiAxMDAuMCU7Ij5DbHVzdGVyIDE6IERhdmlzdmlsbGU8L2Rpdj5gKVswXTsKICAgICAgICAgICAgcG9wdXBfY2I3Y2VhOWQ5YzY0NDU5MzlkMGU0ZGNkYzU4OTIzZjEuc2V0Q29udGVudChodG1sX2VhYmQ3ZGY0MDQ3MzQ4ZTU4ODc0OGMzMjFmOGY3MGEyKTsKICAgICAgICAKCiAgICAgICAgY2lyY2xlX21hcmtlcl82ZmFjNzYyOGFiNzQ0ODgzYjFmZjIxMTIxOTA2MGM2My5iaW5kUG9wdXAocG9wdXBfY2I3Y2VhOWQ5YzY0NDU5MzlkMGU0ZGNkYzU4OTIzZjEpCiAgICAgICAgOwoKICAgICAgICAKICAgIAogICAgCiAgICAgICAgICAgIHZhciBjaXJjbGVfbWFya2VyX2Q2YjJmNzQ4ZTNjMjQwYzZhZjk4NzRjN2JkYjUxZjE2ID0gTC5jaXJjbGVNYXJrZXIoCiAgICAgICAgICAgICAgICBbNDMuNjYyNjk1NiwgLTc5LjQwMDA0OTNdLAogICAgICAgICAgICAgICAgeyJidWJibGluZ01vdXNlRXZlbnRzIjogdHJ1ZSwgImNvbG9yIjogInJlZCIsICJkYXNoQXJyYXkiOiBudWxsLCAiZGFzaE9mZnNldCI6IG51bGwsICJmaWxsIjogdHJ1ZSwgImZpbGxDb2xvciI6ICJyZWQiLCAiZmlsbE9wYWNpdHkiOiAwLjcsICJmaWxsUnVsZSI6ICJldmVub2RkIiwgImxpbmVDYXAiOiAicm91bmQiLCAibGluZUpvaW4iOiAicm91bmQiLCAib3BhY2l0eSI6IDEuMCwgInJhZGl1cyI6IDUsICJzdHJva2UiOiB0cnVlLCAid2VpZ2h0IjogM30KICAgICAgICAgICAgKS5hZGRUbyhtYXBfNjZhY2NmZjA4NDcxNGMyZWFjMWQ3ZTRmOGQ2Yjk2MWEpOwogICAgICAgIAogICAgCiAgICAgICAgdmFyIHBvcHVwXzA3MWVjYzc4MTgyODRkZWZiMTJkOTQwNWNkZjVkOWNlID0gTC5wb3B1cCh7Im1heFdpZHRoIjogIjEwMCUifSk7CgogICAgICAgIAogICAgICAgICAgICB2YXIgaHRtbF8wY2M5NWQ3NzhjOTI0NzE0OTg5ZjA5NGRkODRhZTVjZiA9ICQoYDxkaXYgaWQ9Imh0bWxfMGNjOTVkNzc4YzkyNDcxNDk4OWYwOTRkZDg0YWU1Y2YiIHN0eWxlPSJ3aWR0aDogMTAwLjAlOyBoZWlnaHQ6IDEwMC4wJTsiPkNsdXN0ZXIgMTogVW5pdmVyc2l0eSBvZiBUb3JvbnRvLCBIYXJib3JkPC9kaXY+YClbMF07CiAgICAgICAgICAgIHBvcHVwXzA3MWVjYzc4MTgyODRkZWZiMTJkOTQwNWNkZjVkOWNlLnNldENvbnRlbnQoaHRtbF8wY2M5NWQ3NzhjOTI0NzE0OTg5ZjA5NGRkODRhZTVjZik7CiAgICAgICAgCgogICAgICAgIGNpcmNsZV9tYXJrZXJfZDZiMmY3NDhlM2MyNDBjNmFmOTg3NGM3YmRiNTFmMTYuYmluZFBvcHVwKHBvcHVwXzA3MWVjYzc4MTgyODRkZWZiMTJkOTQwNWNkZjVkOWNlKQogICAgICAgIDsKCiAgICAgICAgCiAgICAKICAgIAogICAgICAgICAgICB2YXIgY2lyY2xlX21hcmtlcl8zMTI2ZDc5NWVmMDU0MGNkODlhYjJkNTNhZDgxOGVhMCA9IEwuY2lyY2xlTWFya2VyKAogICAgICAgICAgICAgICAgWzQzLjY1MTU3MDYsIC03OS40ODQ0NDk5XSwKICAgICAgICAgICAgICAgIHsiYnViYmxpbmdNb3VzZUV2ZW50cyI6IHRydWUsICJjb2xvciI6ICJyZWQiLCAiZGFzaEFycmF5IjogbnVsbCwgImRhc2hPZmZzZXQiOiBudWxsLCAiZmlsbCI6IHRydWUsICJmaWxsQ29sb3IiOiAicmVkIiwgImZpbGxPcGFjaXR5IjogMC43LCAiZmlsbFJ1bGUiOiAiZXZlbm9kZCIsICJsaW5lQ2FwIjogInJvdW5kIiwgImxpbmVKb2luIjogInJvdW5kIiwgIm9wYWNpdHkiOiAxLjAsICJyYWRpdXMiOiA1LCAic3Ryb2tlIjogdHJ1ZSwgIndlaWdodCI6IDN9CiAgICAgICAgICAgICkuYWRkVG8obWFwXzY2YWNjZmYwODQ3MTRjMmVhYzFkN2U0ZjhkNmI5NjFhKTsKICAgICAgICAKICAgIAogICAgICAgIHZhciBwb3B1cF9iMWRlMmEyYTFkNDY0OTJmYTMyZWU4MjMzNGY1ZDEyZCA9IEwucG9wdXAoeyJtYXhXaWR0aCI6ICIxMDAlIn0pOwoKICAgICAgICAKICAgICAgICAgICAgdmFyIGh0bWxfN2JmOTA3MjM1NWE5NDE3MDhjOTEyMzllMWRmZGM4YTIgPSAkKGA8ZGl2IGlkPSJodG1sXzdiZjkwNzIzNTVhOTQxNzA4YzkxMjM5ZTFkZmRjOGEyIiBzdHlsZT0id2lkdGg6IDEwMC4wJTsgaGVpZ2h0OiAxMDAuMCU7Ij5DbHVzdGVyIDE6IFJ1bm55bWVkZSwgU3dhbnNlYTwvZGl2PmApWzBdOwogICAgICAgICAgICBwb3B1cF9iMWRlMmEyYTFkNDY0OTJmYTMyZWU4MjMzNGY1ZDEyZC5zZXRDb250ZW50KGh0bWxfN2JmOTA3MjM1NWE5NDE3MDhjOTEyMzllMWRmZGM4YTIpOwogICAgICAgIAoKICAgICAgICBjaXJjbGVfbWFya2VyXzMxMjZkNzk1ZWYwNTQwY2Q4OWFiMmQ1M2FkODE4ZWEwLmJpbmRQb3B1cChwb3B1cF9iMWRlMmEyYTFkNDY0OTJmYTMyZWU4MjMzNGY1ZDEyZCkKICAgICAgICA7CgogICAgICAgIAogICAgCiAgICAKICAgICAgICAgICAgdmFyIGNpcmNsZV9tYXJrZXJfODg1OTdlZTE0MzE5NDMxMTlhYmY0ZTdjNjE0ZTI4YWQgPSBMLmNpcmNsZU1hcmtlcigKICAgICAgICAgICAgICAgIFs0My42ODk1NzQzLCAtNzkuMzgzMTU5OV0sCiAgICAgICAgICAgICAgICB7ImJ1YmJsaW5nTW91c2VFdmVudHMiOiB0cnVlLCAiY29sb3IiOiAieWVsbG93IiwgImRhc2hBcnJheSI6IG51bGwsICJkYXNoT2Zmc2V0IjogbnVsbCwgImZpbGwiOiB0cnVlLCAiZmlsbENvbG9yIjogInllbGxvdyIsICJmaWxsT3BhY2l0eSI6IDAuNywgImZpbGxSdWxlIjogImV2ZW5vZGQiLCAibGluZUNhcCI6ICJyb3VuZCIsICJsaW5lSm9pbiI6ICJyb3VuZCIsICJvcGFjaXR5IjogMS4wLCAicmFkaXVzIjogNSwgInN0cm9rZSI6IHRydWUsICJ3ZWlnaHQiOiAzfQogICAgICAgICAgICApLmFkZFRvKG1hcF82NmFjY2ZmMDg0NzE0YzJlYWMxZDdlNGY4ZDZiOTYxYSk7CiAgICAgICAgCiAgICAKICAgICAgICB2YXIgcG9wdXBfY2NjMmEyNThiYWVjNGIyYTk3NTZmOGMyZDkwYzA3MWQgPSBMLnBvcHVwKHsibWF4V2lkdGgiOiAiMTAwJSJ9KTsKCiAgICAgICAgCiAgICAgICAgICAgIHZhciBodG1sXzlhODM2NWFmZDA2NjRhOGI5MDdiMzA0NGMxOWUyOWI2ID0gJChgPGRpdiBpZD0iaHRtbF85YTgzNjVhZmQwNjY0YThiOTA3YjMwNDRjMTllMjliNiIgc3R5bGU9IndpZHRoOiAxMDAuMCU7IGhlaWdodDogMTAwLjAlOyI+Q2x1c3RlciA0OiBNb29yZSBQYXJrLCBTdW1tZXJoaWxsIEVhc3Q8L2Rpdj5gKVswXTsKICAgICAgICAgICAgcG9wdXBfY2NjMmEyNThiYWVjNGIyYTk3NTZmOGMyZDkwYzA3MWQuc2V0Q29udGVudChodG1sXzlhODM2NWFmZDA2NjRhOGI5MDdiMzA0NGMxOWUyOWI2KTsKICAgICAgICAKCiAgICAgICAgY2lyY2xlX21hcmtlcl84ODU5N2VlMTQzMTk0MzExOWFiZjRlN2M2MTRlMjhhZC5iaW5kUG9wdXAocG9wdXBfY2NjMmEyNThiYWVjNGIyYTk3NTZmOGMyZDkwYzA3MWQpCiAgICAgICAgOwoKICAgICAgICAKICAgIAogICAgCiAgICAgICAgICAgIHZhciBjaXJjbGVfbWFya2VyXzQ5YjA1Y2RhNTAyODQxZTk5NDA3MGUzNDMwZWQ1NWQ1ID0gTC5jaXJjbGVNYXJrZXIoCiAgICAgICAgICAgICAgICBbNDMuNjUzMjA1NywgLTc5LjQwMDA0OTNdLAogICAgICAgICAgICAgICAgeyJidWJibGluZ01vdXNlRXZlbnRzIjogdHJ1ZSwgImNvbG9yIjogInJlZCIsICJkYXNoQXJyYXkiOiBudWxsLCAiZGFzaE9mZnNldCI6IG51bGwsICJmaWxsIjogdHJ1ZSwgImZpbGxDb2xvciI6ICJyZWQiLCAiZmlsbE9wYWNpdHkiOiAwLjcsICJmaWxsUnVsZSI6ICJldmVub2RkIiwgImxpbmVDYXAiOiAicm91bmQiLCAibGluZUpvaW4iOiAicm91bmQiLCAib3BhY2l0eSI6IDEuMCwgInJhZGl1cyI6IDUsICJzdHJva2UiOiB0cnVlLCAid2VpZ2h0IjogM30KICAgICAgICAgICAgKS5hZGRUbyhtYXBfNjZhY2NmZjA4NDcxNGMyZWFjMWQ3ZTRmOGQ2Yjk2MWEpOwogICAgICAgIAogICAgCiAgICAgICAgdmFyIHBvcHVwX2QxZWNhZjgxMzIxNjQyNDc5NGU0MWNjM2Y0YzIzNDE5ID0gTC5wb3B1cCh7Im1heFdpZHRoIjogIjEwMCUifSk7CgogICAgICAgIAogICAgICAgICAgICB2YXIgaHRtbF9hZmQ2N2NkMzQ3ZTI0YmQ1YmQxZDZjYmNlNGMzYjQwOCA9ICQoYDxkaXYgaWQ9Imh0bWxfYWZkNjdjZDM0N2UyNGJkNWJkMWQ2Y2JjZTRjM2I0MDgiIHN0eWxlPSJ3aWR0aDogMTAwLjAlOyBoZWlnaHQ6IDEwMC4wJTsiPkNsdXN0ZXIgMTogS2Vuc2luZ3RvbiBNYXJrZXQsIENoaW5hdG93biwgR3JhbmdlIFBhcms8L2Rpdj5gKVswXTsKICAgICAgICAgICAgcG9wdXBfZDFlY2FmODEzMjE2NDI0Nzk0ZTQxY2MzZjRjMjM0MTkuc2V0Q29udGVudChodG1sX2FmZDY3Y2QzNDdlMjRiZDViZDFkNmNiY2U0YzNiNDA4KTsKICAgICAgICAKCiAgICAgICAgY2lyY2xlX21hcmtlcl80OWIwNWNkYTUwMjg0MWU5OTQwNzBlMzQzMGVkNTVkNS5iaW5kUG9wdXAocG9wdXBfZDFlY2FmODEzMjE2NDI0Nzk0ZTQxY2MzZjRjMjM0MTkpCiAgICAgICAgOwoKICAgICAgICAKICAgIAogICAgCiAgICAgICAgICAgIHZhciBjaXJjbGVfbWFya2VyXzIzOWRlODI1NWVlMzQyZDhhZWIzYjA2ZmE4YTgyM2EwID0gTC5jaXJjbGVNYXJrZXIoCiAgICAgICAgICAgICAgICBbNDMuNjg2NDEyMywgLTc5LjQwMDA0OTNdLAogICAgICAgICAgICAgICAgeyJidWJibGluZ01vdXNlRXZlbnRzIjogdHJ1ZSwgImNvbG9yIjogImN5YW4iLCAiZGFzaEFycmF5IjogbnVsbCwgImRhc2hPZmZzZXQiOiBudWxsLCAiZmlsbCI6IHRydWUsICJmaWxsQ29sb3IiOiAiY3lhbiIsICJmaWxsT3BhY2l0eSI6IDAuNywgImZpbGxSdWxlIjogImV2ZW5vZGQiLCAibGluZUNhcCI6ICJyb3VuZCIsICJsaW5lSm9pbiI6ICJyb3VuZCIsICJvcGFjaXR5IjogMS4wLCAicmFkaXVzIjogNSwgInN0cm9rZSI6IHRydWUsICJ3ZWlnaHQiOiAzfQogICAgICAgICAgICApLmFkZFRvKG1hcF82NmFjY2ZmMDg0NzE0YzJlYWMxZDdlNGY4ZDZiOTYxYSk7CiAgICAgICAgCiAgICAKICAgICAgICB2YXIgcG9wdXBfYjBiMWQ2YWM5NGRjNDM3M2E3NTA4ZTU5YWViZmI0OTAgPSBMLnBvcHVwKHsibWF4V2lkdGgiOiAiMTAwJSJ9KTsKCiAgICAgICAgCiAgICAgICAgICAgIHZhciBodG1sX2RiNDY3ZTBlMDZiYjQ2YWRiYjRmNDZiOTQ3MjM0NmYwID0gJChgPGRpdiBpZD0iaHRtbF9kYjQ2N2UwZTA2YmI0NmFkYmI0ZjQ2Yjk0NzIzNDZmMCIgc3R5bGU9IndpZHRoOiAxMDAuMCU7IGhlaWdodDogMTAwLjAlOyI+Q2x1c3RlciAxMDogU3VtbWVyaGlsbCBXZXN0LCBSYXRobmVsbHksIFNvdXRoIEhpbGwsIEZvcmVzdCBIaWxsIFNFLCBEZWVyIFBhcms8L2Rpdj5gKVswXTsKICAgICAgICAgICAgcG9wdXBfYjBiMWQ2YWM5NGRjNDM3M2E3NTA4ZTU5YWViZmI0OTAuc2V0Q29udGVudChodG1sX2RiNDY3ZTBlMDZiYjQ2YWRiYjRmNDZiOTQ3MjM0NmYwKTsKICAgICAgICAKCiAgICAgICAgY2lyY2xlX21hcmtlcl8yMzlkZTgyNTVlZTM0MmQ4YWViM2IwNmZhOGE4MjNhMC5iaW5kUG9wdXAocG9wdXBfYjBiMWQ2YWM5NGRjNDM3M2E3NTA4ZTU5YWViZmI0OTApCiAgICAgICAgOwoKICAgICAgICAKICAgIAogICAgCiAgICAgICAgICAgIHZhciBjaXJjbGVfbWFya2VyX2EzNDc2YTU1OTg5YjQwMTRhY2Y3YTIyZDBiZDE4NmRkID0gTC5jaXJjbGVNYXJrZXIoCiAgICAgICAgICAgICAgICBbNDMuNjI4OTQ2NywgLTc5LjM5NDQxOTldLAogICAgICAgICAgICAgICAgeyJidWJibGluZ01vdXNlRXZlbnRzIjogdHJ1ZSwgImNvbG9yIjogImN5YW4iLCAiZGFzaEFycmF5IjogbnVsbCwgImRhc2hPZmZzZXQiOiBudWxsLCAiZmlsbCI6IHRydWUsICJmaWxsQ29sb3IiOiAiY3lhbiIsICJmaWxsT3BhY2l0eSI6IDAuNywgImZpbGxSdWxlIjogImV2ZW5vZGQiLCAibGluZUNhcCI6ICJyb3VuZCIsICJsaW5lSm9pbiI6ICJyb3VuZCIsICJvcGFjaXR5IjogMS4wLCAicmFkaXVzIjogNSwgInN0cm9rZSI6IHRydWUsICJ3ZWlnaHQiOiAzfQogICAgICAgICAgICApLmFkZFRvKG1hcF82NmFjY2ZmMDg0NzE0YzJlYWMxZDdlNGY4ZDZiOTYxYSk7CiAgICAgICAgCiAgICAKICAgICAgICB2YXIgcG9wdXBfZmQ0MTZmMWIwMmQ3NGQwM2I3MDAxOWMzN2YwNzY3MTkgPSBMLnBvcHVwKHsibWF4V2lkdGgiOiAiMTAwJSJ9KTsKCiAgICAgICAgCiAgICAgICAgICAgIHZhciBodG1sX2Y1YTNjZThhMGNjZTQ0NGU4MDNkNjVhNWIzYWZiZTk1ID0gJChgPGRpdiBpZD0iaHRtbF9mNWEzY2U4YTBjY2U0NDRlODAzZDY1YTViM2FmYmU5NSIgc3R5bGU9IndpZHRoOiAxMDAuMCU7IGhlaWdodDogMTAwLjAlOyI+Q2x1c3RlciAxMDogQ04gVG93ZXIsIEtpbmcgYW5kIFNwYWRpbmEsIFJhaWx3YXkgTGFuZHMsIEhhcmJvdXJmcm9udCBXZXN0LCBCYXRodXJzdCBRdWF5LCBTb3V0aCBOaWFnYXJhLCBJc2xhbmQgYWlycG9ydDwvZGl2PmApWzBdOwogICAgICAgICAgICBwb3B1cF9mZDQxNmYxYjAyZDc0ZDAzYjcwMDE5YzM3ZjA3NjcxOS5zZXRDb250ZW50KGh0bWxfZjVhM2NlOGEwY2NlNDQ0ZTgwM2Q2NWE1YjNhZmJlOTUpOwogICAgICAgIAoKICAgICAgICBjaXJjbGVfbWFya2VyX2EzNDc2YTU1OTg5YjQwMTRhY2Y3YTIyZDBiZDE4NmRkLmJpbmRQb3B1cChwb3B1cF9mZDQxNmYxYjAyZDc0ZDAzYjcwMDE5YzM3ZjA3NjcxOSkKICAgICAgICA7CgogICAgICAgIAogICAgCiAgICAKICAgICAgICAgICAgdmFyIGNpcmNsZV9tYXJrZXJfZjEwMDVmODI3ODM1NDg3N2FjMTBjNWMxYjUxMDdmMDUgPSBMLmNpcmNsZU1hcmtlcigKICAgICAgICAgICAgICAgIFs0My42Nzk1NjI2LCAtNzkuMzc3NTI5NF0sCiAgICAgICAgICAgICAgICB7ImJ1YmJsaW5nTW91c2VFdmVudHMiOiB0cnVlLCAiY29sb3IiOiAibWFnZW50YSIsICJkYXNoQXJyYXkiOiBudWxsLCAiZGFzaE9mZnNldCI6IG51bGwsICJmaWxsIjogdHJ1ZSwgImZpbGxDb2xvciI6ICJtYWdlbnRhIiwgImZpbGxPcGFjaXR5IjogMC43LCAiZmlsbFJ1bGUiOiAiZXZlbm9kZCIsICJsaW5lQ2FwIjogInJvdW5kIiwgImxpbmVKb2luIjogInJvdW5kIiwgIm9wYWNpdHkiOiAxLjAsICJyYWRpdXMiOiA1LCAic3Ryb2tlIjogdHJ1ZSwgIndlaWdodCI6IDN9CiAgICAgICAgICAgICkuYWRkVG8obWFwXzY2YWNjZmYwODQ3MTRjMmVhYzFkN2U0ZjhkNmI5NjFhKTsKICAgICAgICAKICAgIAogICAgICAgIHZhciBwb3B1cF8xMWY2NjdiMDYwOGU0MDE1OGE2NTk0YzEzYTEwNTI4NSA9IEwucG9wdXAoeyJtYXhXaWR0aCI6ICIxMDAlIn0pOwoKICAgICAgICAKICAgICAgICAgICAgdmFyIGh0bWxfNDUyMjk5NTEyNmVhNDc5ZjhlOGU0NzAxZGM4ZWFmMWIgPSAkKGA8ZGl2IGlkPSJodG1sXzQ1MjI5OTUxMjZlYTQ3OWY4ZThlNDcwMWRjOGVhZjFiIiBzdHlsZT0id2lkdGg6IDEwMC4wJTsgaGVpZ2h0OiAxMDAuMCU7Ij5DbHVzdGVyIDk6IFJvc2VkYWxlPC9kaXY+YClbMF07CiAgICAgICAgICAgIHBvcHVwXzExZjY2N2IwNjA4ZTQwMTU4YTY1OTRjMTNhMTA1Mjg1LnNldENvbnRlbnQoaHRtbF80NTIyOTk1MTI2ZWE0NzlmOGU4ZTQ3MDFkYzhlYWYxYik7CiAgICAgICAgCgogICAgICAgIGNpcmNsZV9tYXJrZXJfZjEwMDVmODI3ODM1NDg3N2FjMTBjNWMxYjUxMDdmMDUuYmluZFBvcHVwKHBvcHVwXzExZjY2N2IwNjA4ZTQwMTU4YTY1OTRjMTNhMTA1Mjg1KQogICAgICAgIDsKCiAgICAgICAgCiAgICAKICAgIAogICAgICAgICAgICB2YXIgY2lyY2xlX21hcmtlcl9jNjYzNDQ5NWJkYmY0NzViYTIzYjgxZDZlOWIyZDRjMCA9IEwuY2lyY2xlTWFya2VyKAogICAgICAgICAgICAgICAgWzQzLjY0NjQzNTIsIC03OS4zNzQ4NDZdLAogICAgICAgICAgICAgICAgeyJidWJibGluZ01vdXNlRXZlbnRzIjogdHJ1ZSwgImNvbG9yIjogImN5YW4iLCAiZGFzaEFycmF5IjogbnVsbCwgImRhc2hPZmZzZXQiOiBudWxsLCAiZmlsbCI6IHRydWUsICJmaWxsQ29sb3IiOiAiY3lhbiIsICJmaWxsT3BhY2l0eSI6IDAuNywgImZpbGxSdWxlIjogImV2ZW5vZGQiLCAibGluZUNhcCI6ICJyb3VuZCIsICJsaW5lSm9pbiI6ICJyb3VuZCIsICJvcGFjaXR5IjogMS4wLCAicmFkaXVzIjogNSwgInN0cm9rZSI6IHRydWUsICJ3ZWlnaHQiOiAzfQogICAgICAgICAgICApLmFkZFRvKG1hcF82NmFjY2ZmMDg0NzE0YzJlYWMxZDdlNGY4ZDZiOTYxYSk7CiAgICAgICAgCiAgICAKICAgICAgICB2YXIgcG9wdXBfNzEyN2FjOGRiMzgwNDVmYzgyOTRlNmViYmZlNjBiZjYgPSBMLnBvcHVwKHsibWF4V2lkdGgiOiAiMTAwJSJ9KTsKCiAgICAgICAgCiAgICAgICAgICAgIHZhciBodG1sXzVjYzQ3Yjg1ZjhkZjRhZWViZGU5NWRhMjc5ZDY4OTU5ID0gJChgPGRpdiBpZD0iaHRtbF81Y2M0N2I4NWY4ZGY0YWVlYmRlOTVkYTI3OWQ2ODk1OSIgc3R5bGU9IndpZHRoOiAxMDAuMCU7IGhlaWdodDogMTAwLjAlOyI+Q2x1c3RlciAxMDogU3RuIEEgUE8gQm94ZXM8L2Rpdj5gKVswXTsKICAgICAgICAgICAgcG9wdXBfNzEyN2FjOGRiMzgwNDVmYzgyOTRlNmViYmZlNjBiZjYuc2V0Q29udGVudChodG1sXzVjYzQ3Yjg1ZjhkZjRhZWViZGU5NWRhMjc5ZDY4OTU5KTsKICAgICAgICAKCiAgICAgICAgY2lyY2xlX21hcmtlcl9jNjYzNDQ5NWJkYmY0NzViYTIzYjgxZDZlOWIyZDRjMC5iaW5kUG9wdXAocG9wdXBfNzEyN2FjOGRiMzgwNDVmYzgyOTRlNmViYmZlNjBiZjYpCiAgICAgICAgOwoKICAgICAgICAKICAgIAogICAgCiAgICAgICAgICAgIHZhciBjaXJjbGVfbWFya2VyXzk4MjVjODRiOWNiMDQ1NzdhYjAyNjJmNWY1N2ViMDRlID0gTC5jaXJjbGVNYXJrZXIoCiAgICAgICAgICAgICAgICBbNDMuNjY3OTY3LCAtNzkuMzY3Njc1M10sCiAgICAgICAgICAgICAgICB7ImJ1YmJsaW5nTW91c2VFdmVudHMiOiB0cnVlLCAiY29sb3IiOiAicmVkIiwgImRhc2hBcnJheSI6IG51bGwsICJkYXNoT2Zmc2V0IjogbnVsbCwgImZpbGwiOiB0cnVlLCAiZmlsbENvbG9yIjogInJlZCIsICJmaWxsT3BhY2l0eSI6IDAuNywgImZpbGxSdWxlIjogImV2ZW5vZGQiLCAibGluZUNhcCI6ICJyb3VuZCIsICJsaW5lSm9pbiI6ICJyb3VuZCIsICJvcGFjaXR5IjogMS4wLCAicmFkaXVzIjogNSwgInN0cm9rZSI6IHRydWUsICJ3ZWlnaHQiOiAzfQogICAgICAgICAgICApLmFkZFRvKG1hcF82NmFjY2ZmMDg0NzE0YzJlYWMxZDdlNGY4ZDZiOTYxYSk7CiAgICAgICAgCiAgICAKICAgICAgICB2YXIgcG9wdXBfYjVmNGEyNjU2ZWI3NGI2Y2I0MjA5YWI5M2U2YjA0ZGQgPSBMLnBvcHVwKHsibWF4V2lkdGgiOiAiMTAwJSJ9KTsKCiAgICAgICAgCiAgICAgICAgICAgIHZhciBodG1sXzk3ZDY5NzYyZDU3NzRkODg4YTVjNjRjNjVjMWNmOTA2ID0gJChgPGRpdiBpZD0iaHRtbF85N2Q2OTc2MmQ1Nzc0ZDg4OGE1YzY0YzY1YzFjZjkwNiIgc3R5bGU9IndpZHRoOiAxMDAuMCU7IGhlaWdodDogMTAwLjAlOyI+Q2x1c3RlciAxOiBTdC4gSmFtZXMgVG93biwgQ2FiYmFnZXRvd248L2Rpdj5gKVswXTsKICAgICAgICAgICAgcG9wdXBfYjVmNGEyNjU2ZWI3NGI2Y2I0MjA5YWI5M2U2YjA0ZGQuc2V0Q29udGVudChodG1sXzk3ZDY5NzYyZDU3NzRkODg4YTVjNjRjNjVjMWNmOTA2KTsKICAgICAgICAKCiAgICAgICAgY2lyY2xlX21hcmtlcl85ODI1Yzg0YjljYjA0NTc3YWIwMjYyZjVmNTdlYjA0ZS5iaW5kUG9wdXAocG9wdXBfYjVmNGEyNjU2ZWI3NGI2Y2I0MjA5YWI5M2U2YjA0ZGQpCiAgICAgICAgOwoKICAgICAgICAKICAgIAogICAgCiAgICAgICAgICAgIHZhciBjaXJjbGVfbWFya2VyXzAxOWY2OGIwYzZhMTQ1YWM5YjA4ODYwNzhlN2Q0YjAwID0gTC5jaXJjbGVNYXJrZXIoCiAgICAgICAgICAgICAgICBbNDMuNjQ4NDI5MiwgLTc5LjM4MjI4MDJdLAogICAgICAgICAgICAgICAgeyJidWJibGluZ01vdXNlRXZlbnRzIjogdHJ1ZSwgImNvbG9yIjogImN5YW4iLCAiZGFzaEFycmF5IjogbnVsbCwgImRhc2hPZmZzZXQiOiBudWxsLCAiZmlsbCI6IHRydWUsICJmaWxsQ29sb3IiOiAiY3lhbiIsICJmaWxsT3BhY2l0eSI6IDAuNywgImZpbGxSdWxlIjogImV2ZW5vZGQiLCAibGluZUNhcCI6ICJyb3VuZCIsICJsaW5lSm9pbiI6ICJyb3VuZCIsICJvcGFjaXR5IjogMS4wLCAicmFkaXVzIjogNSwgInN0cm9rZSI6IHRydWUsICJ3ZWlnaHQiOiAzfQogICAgICAgICAgICApLmFkZFRvKG1hcF82NmFjY2ZmMDg0NzE0YzJlYWMxZDdlNGY4ZDZiOTYxYSk7CiAgICAgICAgCiAgICAKICAgICAgICB2YXIgcG9wdXBfNDA3MGVjNWU5Yjk1NDI4ZTg4ZWRhNTY0ZjdkZGFlODIgPSBMLnBvcHVwKHsibWF4V2lkdGgiOiAiMTAwJSJ9KTsKCiAgICAgICAgCiAgICAgICAgICAgIHZhciBodG1sXzc0OTRhYTBiNTI0MzQ2MDBiMTAzMzMyN2ZhNmUwYzJjID0gJChgPGRpdiBpZD0iaHRtbF83NDk0YWEwYjUyNDM0NjAwYjEwMzMzMjdmYTZlMGMyYyIgc3R5bGU9IndpZHRoOiAxMDAuMCU7IGhlaWdodDogMTAwLjAlOyI+Q2x1c3RlciAxMDogRmlyc3QgQ2FuYWRpYW4gUGxhY2UsIFVuZGVyZ3JvdW5kIGNpdHk8L2Rpdj5gKVswXTsKICAgICAgICAgICAgcG9wdXBfNDA3MGVjNWU5Yjk1NDI4ZTg4ZWRhNTY0ZjdkZGFlODIuc2V0Q29udGVudChodG1sXzc0OTRhYTBiNTI0MzQ2MDBiMTAzMzMyN2ZhNmUwYzJjKTsKICAgICAgICAKCiAgICAgICAgY2lyY2xlX21hcmtlcl8wMTlmNjhiMGM2YTE0NWFjOWIwODg2MDc4ZTdkNGIwMC5iaW5kUG9wdXAocG9wdXBfNDA3MGVjNWU5Yjk1NDI4ZTg4ZWRhNTY0ZjdkZGFlODIpCiAgICAgICAgOwoKICAgICAgICAKICAgIAogICAgCiAgICAgICAgICAgIHZhciBjaXJjbGVfbWFya2VyXzY3OGIwZjdlNmFkMTRlYTZhMjA1MWZkMDA4YjcyMTA5ID0gTC5jaXJjbGVNYXJrZXIoCiAgICAgICAgICAgICAgICBbNDMuNjY1ODU5OSwgLTc5LjM4MzE1OTldLAogICAgICAgICAgICAgICAgeyJidWJibGluZ01vdXNlRXZlbnRzIjogdHJ1ZSwgImNvbG9yIjogImN5YW4iLCAiZGFzaEFycmF5IjogbnVsbCwgImRhc2hPZmZzZXQiOiBudWxsLCAiZmlsbCI6IHRydWUsICJmaWxsQ29sb3IiOiAiY3lhbiIsICJmaWxsT3BhY2l0eSI6IDAuNywgImZpbGxSdWxlIjogImV2ZW5vZGQiLCAibGluZUNhcCI6ICJyb3VuZCIsICJsaW5lSm9pbiI6ICJyb3VuZCIsICJvcGFjaXR5IjogMS4wLCAicmFkaXVzIjogNSwgInN0cm9rZSI6IHRydWUsICJ3ZWlnaHQiOiAzfQogICAgICAgICAgICApLmFkZFRvKG1hcF82NmFjY2ZmMDg0NzE0YzJlYWMxZDdlNGY4ZDZiOTYxYSk7CiAgICAgICAgCiAgICAKICAgICAgICB2YXIgcG9wdXBfZDhjMDljOGRhMDUzNGIxMmI1YzYzMWU2NmExOWM3ZjggPSBMLnBvcHVwKHsibWF4V2lkdGgiOiAiMTAwJSJ9KTsKCiAgICAgICAgCiAgICAgICAgICAgIHZhciBodG1sXzNmMjcyYWZiNWNmODRlYmQ5YmM0MDU3NTI3MGY4NmJmID0gJChgPGRpdiBpZD0iaHRtbF8zZjI3MmFmYjVjZjg0ZWJkOWJjNDA1NzUyNzBmODZiZiIgc3R5bGU9IndpZHRoOiAxMDAuMCU7IGhlaWdodDogMTAwLjAlOyI+Q2x1c3RlciAxMDogQ2h1cmNoIGFuZCBXZWxsZXNsZXk8L2Rpdj5gKVswXTsKICAgICAgICAgICAgcG9wdXBfZDhjMDljOGRhMDUzNGIxMmI1YzYzMWU2NmExOWM3Zjguc2V0Q29udGVudChodG1sXzNmMjcyYWZiNWNmODRlYmQ5YmM0MDU3NTI3MGY4NmJmKTsKICAgICAgICAKCiAgICAgICAgY2lyY2xlX21hcmtlcl82NzhiMGY3ZTZhZDE0ZWE2YTIwNTFmZDAwOGI3MjEwOS5iaW5kUG9wdXAocG9wdXBfZDhjMDljOGRhMDUzNGIxMmI1YzYzMWU2NmExOWM3ZjgpCiAgICAgICAgOwoKICAgICAgICAKICAgIAogICAgCiAgICAgICAgICAgIHZhciBjaXJjbGVfbWFya2VyXzMzYjdlZWYyNmEwMzRmNzY5MGM5YTJkMmRlYjEwYWRjID0gTC5jaXJjbGVNYXJrZXIoCiAgICAgICAgICAgICAgICBbNDMuNjYyNzQzOSwgLTc5LjMyMTU1OF0sCiAgICAgICAgICAgICAgICB7ImJ1YmJsaW5nTW91c2VFdmVudHMiOiB0cnVlLCAiY29sb3IiOiAiY2hhcnRyZXVzZSIsICJkYXNoQXJyYXkiOiBudWxsLCAiZGFzaE9mZnNldCI6IG51bGwsICJmaWxsIjogdHJ1ZSwgImZpbGxDb2xvciI6ICJjaGFydHJldXNlIiwgImZpbGxPcGFjaXR5IjogMC43LCAiZmlsbFJ1bGUiOiAiZXZlbm9kZCIsICJsaW5lQ2FwIjogInJvdW5kIiwgImxpbmVKb2luIjogInJvdW5kIiwgIm9wYWNpdHkiOiAxLjAsICJyYWRpdXMiOiA1LCAic3Ryb2tlIjogdHJ1ZSwgIndlaWdodCI6IDN9CiAgICAgICAgICAgICkuYWRkVG8obWFwXzY2YWNjZmYwODQ3MTRjMmVhYzFkN2U0ZjhkNmI5NjFhKTsKICAgICAgICAKICAgIAogICAgICAgIHZhciBwb3B1cF81ZTc0ZWJmMzlmOTE0ODgwOTU2MjQyOTJjNjYzMzlmNCA9IEwucG9wdXAoeyJtYXhXaWR0aCI6ICIxMDAlIn0pOwoKICAgICAgICAKICAgICAgICAgICAgdmFyIGh0bWxfNzE3NGQ5OWI5MzNjNGQzZTkxZmIyMjdjZDU1YTlhZjYgPSAkKGA8ZGl2IGlkPSJodG1sXzcxNzRkOTliOTMzYzRkM2U5MWZiMjI3Y2Q1NWE5YWY2IiBzdHlsZT0id2lkdGg6IDEwMC4wJTsgaGVpZ2h0OiAxMDAuMCU7Ij5DbHVzdGVyIDc6IEJ1c2luZXNzIHJlcGx5IG1haWwgUHJvY2Vzc2luZyBDZW50cmUsIFNvdXRoIENlbnRyYWwgTGV0dGVyIFByb2Nlc3NpbmcgUGxhbnQgVG9yb250bzwvZGl2PmApWzBdOwogICAgICAgICAgICBwb3B1cF81ZTc0ZWJmMzlmOTE0ODgwOTU2MjQyOTJjNjYzMzlmNC5zZXRDb250ZW50KGh0bWxfNzE3NGQ5OWI5MzNjNGQzZTkxZmIyMjdjZDU1YTlhZjYpOwogICAgICAgIAoKICAgICAgICBjaXJjbGVfbWFya2VyXzMzYjdlZWYyNmEwMzRmNzY5MGM5YTJkMmRlYjEwYWRjLmJpbmRQb3B1cChwb3B1cF81ZTc0ZWJmMzlmOTE0ODgwOTU2MjQyOTJjNjYzMzlmNCkKICAgICAgICA7CgogICAgICAgIAogICAgCjwvc2NyaXB0Pg== onload=\"this.contentDocument.open();this.contentDocument.write(atob(this.getAttribute('data-html')));this.contentDocument.close();\" allowfullscreen webkitallowfullscreen mozallowfullscreen></iframe></div></div>"
      ],
      "text/plain": [
       "PyObject <folium.folium.Map object at 0x7f58fe084bb0>"
      ]
     },
     "execution_count": 416,
     "metadata": {},
     "output_type": "execute_result"
    }
   ],
   "source": [
    "toronto_map = flm.Map(\n",
    "    location=(43.6529, -79.3849),\n",
    "    tiles=\"OpenStreetMap\"\n",
    ")\n",
    "\n",
    "colors = [:red :blue :green :yellow :purple :orange :chartreuse :black :magenta :cyan]\n",
    "\n",
    "# add markers to the map\n",
    "for (lat, lon, poi, cluster) in zip(\n",
    "        toronto_df[:Latitude], \n",
    "        toronto_df[:Longitude], \n",
    "        toronto_df[:Neighbourhood], \n",
    "        results.assignments\n",
    "        )\n",
    "    label = flm.Popup(\"Cluster $(cluster): $poi\", parse_html=true)\n",
    "    flm.CircleMarker(\n",
    "        [lat, lon],\n",
    "        radius=5,\n",
    "        popup=label,\n",
    "        color=colors[cluster],\n",
    "        fill=true,\n",
    "        fill_color=colors[cluster],\n",
    "        fill_opacity=0.7).add_to(toronto_map)\n",
    "end\n",
    "toronto_map"
   ]
  },
  {
   "cell_type": "code",
   "execution_count": null,
   "metadata": {},
   "outputs": [],
   "source": []
  }
 ],
 "metadata": {
  "kernelspec": {
   "display_name": "Julia 1.5.0",
   "language": "julia",
   "name": "julia-1.5"
  },
  "language_info": {
   "file_extension": ".jl",
   "mimetype": "application/julia",
   "name": "julia",
   "version": "1.5.0"
  }
 },
 "nbformat": 4,
 "nbformat_minor": 4
}
